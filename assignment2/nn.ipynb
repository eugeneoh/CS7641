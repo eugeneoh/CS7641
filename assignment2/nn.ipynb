{
 "cells": [
  {
   "cell_type": "code",
   "execution_count": 104,
   "id": "8faadf67-1d3c-45b5-bb2a-91866fdd2ea3",
   "metadata": {},
   "outputs": [],
   "source": [
    "import pandas as pd\n",
    "import matplotlib.pyplot as plt\n",
    "import sys\n",
    "import mlrose_hiive as mlr\n",
    "from mlrose_hiive import Knapsack, DiscreteOpt, random_hill_climb\n",
    "from mlrose_hiive import SARunner, GARunner, RHCRunner, NNGSRunner\n",
    "from array import array\n",
    "import importlib\n",
    "import numpy as np\n",
    "import helpers #import the module here, so that it can be reloaded.\n",
    "import loader\n",
    "import plot\n",
    "importlib.reload(helpers)\n",
    "importlib.reload(loader)\n",
    "importlib.reload(plot)\n",
    "import time\n",
    "import joblib\n",
    "from sklearn.model_selection import ShuffleSplit, cross_val_score, train_test_split, StratifiedKFold, learning_curve\n",
    "from sklearn.tree import DecisionTreeClassifier, plot_tree\n",
    "from sklearn.neural_network import MLPClassifier\n",
    "from sklearn.preprocessing import LabelEncoder\n",
    "from sklearn.preprocessing import MinMaxScaler\n",
    "from sklearn.model_selection import GridSearchCV\n",
    "from sklearn.metrics import confusion_matrix, ConfusionMatrixDisplay, accuracy_score\n",
    "from sklearn.model_selection import RepeatedStratifiedKFold, learning_curve\n",
    "from sklearn.neighbors import KNeighborsClassifier"
   ]
  },
  {
   "cell_type": "code",
   "execution_count": 2,
   "id": "5259dfc9-c4a7-492f-ba4f-f852caee9b43",
   "metadata": {},
   "outputs": [],
   "source": [
    "data = loader.load_cancer_data()\n",
    "features = [col for col in data.columns if col != \"target\"]\n",
    "X = data[features]\n",
    "y = data[\"target\"]"
   ]
  },
  {
   "cell_type": "code",
   "execution_count": 3,
   "id": "c0c5b271-6aa7-4fc0-ae90-8481787de8cd",
   "metadata": {},
   "outputs": [],
   "source": [
    "X_train, X_test, y_train, y_test = train_test_split(X, y, test_size=0.3, random_state=0, stratify=y)"
   ]
  },
  {
   "cell_type": "code",
   "execution_count": 4,
   "id": "bd2f7f94-2b7b-46b9-b51a-b3117c0f0d7c",
   "metadata": {},
   "outputs": [],
   "source": [
    "# Normalize input data\n",
    "scaler = MinMaxScaler()\n",
    "X_train_norm = scaler.fit_transform(X_train)\n",
    "X_test_norm = scaler.fit_transform(X_test)"
   ]
  },
  {
   "cell_type": "code",
   "execution_count": 115,
   "id": "c78389d8-45dc-4a30-948e-007700617784",
   "metadata": {},
   "outputs": [
    {
     "data": {
      "text/plain": [
       "171"
      ]
     },
     "execution_count": 115,
     "metadata": {},
     "output_type": "execute_result"
    }
   ],
   "source": [
    "len(X_test_norm)"
   ]
  },
  {
   "cell_type": "code",
   "execution_count": 125,
   "id": "01549ece-d94e-4fc6-b208-eaee498673c0",
   "metadata": {},
   "outputs": [
    {
     "data": {
      "text/plain": [
       "0    107\n",
       "1     64\n",
       "Name: target, dtype: int64"
      ]
     },
     "execution_count": 125,
     "metadata": {},
     "output_type": "execute_result"
    }
   ],
   "source": [
    "y_test.value_counts()"
   ]
  },
  {
   "cell_type": "code",
   "execution_count": 56,
   "id": "db4bb36d-cf70-4002-85a8-692c00f20ea5",
   "metadata": {},
   "outputs": [
    {
     "data": {
      "text/plain": [
       "['nn/rhc/rhc_results.pkl']"
      ]
     },
     "execution_count": 56,
     "metadata": {},
     "output_type": "execute_result"
    }
   ],
   "source": [
    "iterations = [1000, 2500, 5000]\n",
    "attempts = [25, 50]\n",
    "restarts = [10, 50]\n",
    "labels = ['max_attempts', 'max_iters', 'restarts', 'run_time', 'accuracy', 'error']\n",
    "results_list = []\n",
    "for max_iter in iterations:\n",
    "    for a in attempts:\n",
    "        for r in restarts:\n",
    "            start_time = time.perf_counter()\n",
    "            model = mlr.NeuralNetwork(\n",
    "                hidden_nodes=[len(features)],\n",
    "                is_classifier=True,\n",
    "                learning_rate=0.1,\n",
    "                early_stopping=True,\n",
    "                random_state=12345,\n",
    "                algorithm='random_hill_climb',\n",
    "                max_iters=max_iter,\n",
    "                max_attempts=a,\n",
    "                restarts=r\n",
    "            )\n",
    "            model.fit(X_train_norm, y_train)\n",
    "            run_time = time.perf_counter() - start_time\n",
    "            y_test_pred = model.predict(X_test_norm)\n",
    "            y_test_accuracy = accuracy_score(y_test, y_test_pred)\n",
    "            y_test_error = 1.0 - y_test_accuracy\n",
    "            y_test_confusion = confusion_matrix(y_test, y_test_pred)\n",
    "            joblib.dump(y_test_confusion, f\"nn/rhc/confusion,iter{max_iter},a{a},r{r}.pkl\")\n",
    "            results_list.append((a, max_iter, r, run_time, y_test_accuracy, y_test_error))\n",
    "\n",
    "rhc_results = pd.DataFrame.from_records(results_list, columns=labels)\n",
    "joblib.dump(rhc_results, \"nn/rhc/rhc_results.pkl\")"
   ]
  },
  {
   "cell_type": "code",
   "execution_count": 58,
   "id": "a4674c28-f49f-401a-bcee-109d1e896fb1",
   "metadata": {},
   "outputs": [
    {
     "data": {
      "text/html": [
       "<div>\n",
       "<style scoped>\n",
       "    .dataframe tbody tr th:only-of-type {\n",
       "        vertical-align: middle;\n",
       "    }\n",
       "\n",
       "    .dataframe tbody tr th {\n",
       "        vertical-align: top;\n",
       "    }\n",
       "\n",
       "    .dataframe thead th {\n",
       "        text-align: right;\n",
       "    }\n",
       "</style>\n",
       "<table border=\"1\" class=\"dataframe\">\n",
       "  <thead>\n",
       "    <tr style=\"text-align: right;\">\n",
       "      <th></th>\n",
       "      <th>max_attempts</th>\n",
       "      <th>max_iters</th>\n",
       "      <th>restarts</th>\n",
       "      <th>run_time</th>\n",
       "      <th>accuracy</th>\n",
       "      <th>error</th>\n",
       "    </tr>\n",
       "  </thead>\n",
       "  <tbody>\n",
       "    <tr>\n",
       "      <th>5</th>\n",
       "      <td>25</td>\n",
       "      <td>2500</td>\n",
       "      <td>50</td>\n",
       "      <td>207.805085</td>\n",
       "      <td>0.912281</td>\n",
       "      <td>0.087719</td>\n",
       "    </tr>\n",
       "    <tr>\n",
       "      <th>7</th>\n",
       "      <td>50</td>\n",
       "      <td>2500</td>\n",
       "      <td>50</td>\n",
       "      <td>223.011564</td>\n",
       "      <td>0.912281</td>\n",
       "      <td>0.087719</td>\n",
       "    </tr>\n",
       "    <tr>\n",
       "      <th>4</th>\n",
       "      <td>25</td>\n",
       "      <td>2500</td>\n",
       "      <td>10</td>\n",
       "      <td>42.508135</td>\n",
       "      <td>0.883041</td>\n",
       "      <td>0.116959</td>\n",
       "    </tr>\n",
       "    <tr>\n",
       "      <th>6</th>\n",
       "      <td>50</td>\n",
       "      <td>2500</td>\n",
       "      <td>10</td>\n",
       "      <td>43.241490</td>\n",
       "      <td>0.883041</td>\n",
       "      <td>0.116959</td>\n",
       "    </tr>\n",
       "    <tr>\n",
       "      <th>8</th>\n",
       "      <td>25</td>\n",
       "      <td>5000</td>\n",
       "      <td>10</td>\n",
       "      <td>93.424847</td>\n",
       "      <td>0.871345</td>\n",
       "      <td>0.128655</td>\n",
       "    </tr>\n",
       "    <tr>\n",
       "      <th>9</th>\n",
       "      <td>25</td>\n",
       "      <td>5000</td>\n",
       "      <td>50</td>\n",
       "      <td>470.092433</td>\n",
       "      <td>0.871345</td>\n",
       "      <td>0.128655</td>\n",
       "    </tr>\n",
       "    <tr>\n",
       "      <th>10</th>\n",
       "      <td>50</td>\n",
       "      <td>5000</td>\n",
       "      <td>10</td>\n",
       "      <td>106.087570</td>\n",
       "      <td>0.871345</td>\n",
       "      <td>0.128655</td>\n",
       "    </tr>\n",
       "    <tr>\n",
       "      <th>11</th>\n",
       "      <td>50</td>\n",
       "      <td>5000</td>\n",
       "      <td>50</td>\n",
       "      <td>464.727309</td>\n",
       "      <td>0.871345</td>\n",
       "      <td>0.128655</td>\n",
       "    </tr>\n",
       "    <tr>\n",
       "      <th>1</th>\n",
       "      <td>25</td>\n",
       "      <td>1000</td>\n",
       "      <td>50</td>\n",
       "      <td>70.116922</td>\n",
       "      <td>0.801170</td>\n",
       "      <td>0.198830</td>\n",
       "    </tr>\n",
       "    <tr>\n",
       "      <th>3</th>\n",
       "      <td>50</td>\n",
       "      <td>1000</td>\n",
       "      <td>50</td>\n",
       "      <td>77.856621</td>\n",
       "      <td>0.801170</td>\n",
       "      <td>0.198830</td>\n",
       "    </tr>\n",
       "    <tr>\n",
       "      <th>0</th>\n",
       "      <td>25</td>\n",
       "      <td>1000</td>\n",
       "      <td>10</td>\n",
       "      <td>14.640489</td>\n",
       "      <td>0.725146</td>\n",
       "      <td>0.274854</td>\n",
       "    </tr>\n",
       "    <tr>\n",
       "      <th>2</th>\n",
       "      <td>50</td>\n",
       "      <td>1000</td>\n",
       "      <td>10</td>\n",
       "      <td>16.450890</td>\n",
       "      <td>0.725146</td>\n",
       "      <td>0.274854</td>\n",
       "    </tr>\n",
       "  </tbody>\n",
       "</table>\n",
       "</div>"
      ],
      "text/plain": [
       "    max_attempts  max_iters  restarts    run_time  accuracy     error\n",
       "5             25       2500        50  207.805085  0.912281  0.087719\n",
       "7             50       2500        50  223.011564  0.912281  0.087719\n",
       "4             25       2500        10   42.508135  0.883041  0.116959\n",
       "6             50       2500        10   43.241490  0.883041  0.116959\n",
       "8             25       5000        10   93.424847  0.871345  0.128655\n",
       "9             25       5000        50  470.092433  0.871345  0.128655\n",
       "10            50       5000        10  106.087570  0.871345  0.128655\n",
       "11            50       5000        50  464.727309  0.871345  0.128655\n",
       "1             25       1000        50   70.116922  0.801170  0.198830\n",
       "3             50       1000        50   77.856621  0.801170  0.198830\n",
       "0             25       1000        10   14.640489  0.725146  0.274854\n",
       "2             50       1000        10   16.450890  0.725146  0.274854"
      ]
     },
     "execution_count": 58,
     "metadata": {},
     "output_type": "execute_result"
    }
   ],
   "source": [
    "rhc_results.sort_values(by=\"error\")"
   ]
  },
  {
   "cell_type": "code",
   "execution_count": 41,
   "id": "73db942f-01bb-4ec5-9a0f-043324b81255",
   "metadata": {},
   "outputs": [
    {
     "data": {
      "text/plain": [
       "['nn/sa/sa_results.pkl']"
      ]
     },
     "execution_count": 41,
     "metadata": {},
     "output_type": "execute_result"
    }
   ],
   "source": [
    "iterations = [1000, 2500, 5000]\n",
    "attempts = [100, 300]\n",
    "temps = [0.1, 1, 10, 100]\n",
    "labels = ['max_attempts', 'max_iters', 'temp', 'run_time', 'accuracy', 'error']\n",
    "results_list = []\n",
    "for max_iter in iterations:\n",
    "    for a in attempts:\n",
    "        for temp in temps:\n",
    "            start_time = time.perf_counter()\n",
    "            model = mlr.NeuralNetwork(\n",
    "                hidden_nodes=[len(features)],\n",
    "                is_classifier=True,\n",
    "                learning_rate=0.1,\n",
    "                early_stopping=True,\n",
    "                random_state=12345,\n",
    "                algorithm='simulated_annealing',\n",
    "                max_iters=max_iter,\n",
    "                max_attempts=a,\n",
    "                schedule=mlr.GeomDecay(init_temp=temp)\n",
    "            )\n",
    "            model.fit(X_train_norm, y_train)\n",
    "            run_time = time.perf_counter() - start_time\n",
    "            y_test_pred = model.predict(X_test_norm)\n",
    "            y_test_accuracy = accuracy_score(y_test, y_test_pred)\n",
    "            y_test_error = 1.0 - y_test_accuracy\n",
    "            y_test_confusion = confusion_matrix(y_test, y_test_pred)\n",
    "            joblib.dump(y_test_confusion, f\"nn/sa/confusion,iter{max_iter},a{a},temp{temp}.pkl\")\n",
    "            results_list.append((a, max_iter, temp, run_time, y_test_accuracy, y_test_error))\n",
    "\n",
    "sa_results = pd.DataFrame.from_records(results_list, columns=labels)\n",
    "joblib.dump(sa_results, \"nn/sa/sa_results.pkl\")"
   ]
  },
  {
   "cell_type": "code",
   "execution_count": 42,
   "id": "f94c449a-99ce-48ac-9449-8f881b2538f4",
   "metadata": {},
   "outputs": [
    {
     "data": {
      "text/html": [
       "<div>\n",
       "<style scoped>\n",
       "    .dataframe tbody tr th:only-of-type {\n",
       "        vertical-align: middle;\n",
       "    }\n",
       "\n",
       "    .dataframe tbody tr th {\n",
       "        vertical-align: top;\n",
       "    }\n",
       "\n",
       "    .dataframe thead th {\n",
       "        text-align: right;\n",
       "    }\n",
       "</style>\n",
       "<table border=\"1\" class=\"dataframe\">\n",
       "  <thead>\n",
       "    <tr style=\"text-align: right;\">\n",
       "      <th></th>\n",
       "      <th>max_attempts</th>\n",
       "      <th>max_iters</th>\n",
       "      <th>temp</th>\n",
       "      <th>run_time</th>\n",
       "      <th>accuracy</th>\n",
       "      <th>error</th>\n",
       "    </tr>\n",
       "  </thead>\n",
       "  <tbody>\n",
       "    <tr>\n",
       "      <th>20</th>\n",
       "      <td>300</td>\n",
       "      <td>5000</td>\n",
       "      <td>0.1</td>\n",
       "      <td>11.695383</td>\n",
       "      <td>0.906433</td>\n",
       "      <td>0.093567</td>\n",
       "    </tr>\n",
       "    <tr>\n",
       "      <th>18</th>\n",
       "      <td>100</td>\n",
       "      <td>5000</td>\n",
       "      <td>10.0</td>\n",
       "      <td>12.343274</td>\n",
       "      <td>0.906433</td>\n",
       "      <td>0.093567</td>\n",
       "    </tr>\n",
       "    <tr>\n",
       "      <th>16</th>\n",
       "      <td>100</td>\n",
       "      <td>5000</td>\n",
       "      <td>0.1</td>\n",
       "      <td>11.128593</td>\n",
       "      <td>0.906433</td>\n",
       "      <td>0.093567</td>\n",
       "    </tr>\n",
       "    <tr>\n",
       "      <th>22</th>\n",
       "      <td>300</td>\n",
       "      <td>5000</td>\n",
       "      <td>10.0</td>\n",
       "      <td>14.554224</td>\n",
       "      <td>0.906433</td>\n",
       "      <td>0.093567</td>\n",
       "    </tr>\n",
       "    <tr>\n",
       "      <th>23</th>\n",
       "      <td>300</td>\n",
       "      <td>5000</td>\n",
       "      <td>100.0</td>\n",
       "      <td>12.886700</td>\n",
       "      <td>0.900585</td>\n",
       "      <td>0.099415</td>\n",
       "    </tr>\n",
       "    <tr>\n",
       "      <th>19</th>\n",
       "      <td>100</td>\n",
       "      <td>5000</td>\n",
       "      <td>100.0</td>\n",
       "      <td>12.427985</td>\n",
       "      <td>0.900585</td>\n",
       "      <td>0.099415</td>\n",
       "    </tr>\n",
       "    <tr>\n",
       "      <th>21</th>\n",
       "      <td>300</td>\n",
       "      <td>5000</td>\n",
       "      <td>1.0</td>\n",
       "      <td>12.442989</td>\n",
       "      <td>0.894737</td>\n",
       "      <td>0.105263</td>\n",
       "    </tr>\n",
       "    <tr>\n",
       "      <th>17</th>\n",
       "      <td>100</td>\n",
       "      <td>5000</td>\n",
       "      <td>1.0</td>\n",
       "      <td>11.539724</td>\n",
       "      <td>0.894737</td>\n",
       "      <td>0.105263</td>\n",
       "    </tr>\n",
       "    <tr>\n",
       "      <th>9</th>\n",
       "      <td>100</td>\n",
       "      <td>2500</td>\n",
       "      <td>1.0</td>\n",
       "      <td>3.881805</td>\n",
       "      <td>0.853801</td>\n",
       "      <td>0.146199</td>\n",
       "    </tr>\n",
       "    <tr>\n",
       "      <th>13</th>\n",
       "      <td>300</td>\n",
       "      <td>2500</td>\n",
       "      <td>1.0</td>\n",
       "      <td>5.027621</td>\n",
       "      <td>0.853801</td>\n",
       "      <td>0.146199</td>\n",
       "    </tr>\n",
       "    <tr>\n",
       "      <th>8</th>\n",
       "      <td>100</td>\n",
       "      <td>2500</td>\n",
       "      <td>0.1</td>\n",
       "      <td>4.241018</td>\n",
       "      <td>0.836257</td>\n",
       "      <td>0.163743</td>\n",
       "    </tr>\n",
       "    <tr>\n",
       "      <th>12</th>\n",
       "      <td>300</td>\n",
       "      <td>2500</td>\n",
       "      <td>0.1</td>\n",
       "      <td>4.685347</td>\n",
       "      <td>0.836257</td>\n",
       "      <td>0.163743</td>\n",
       "    </tr>\n",
       "    <tr>\n",
       "      <th>10</th>\n",
       "      <td>100</td>\n",
       "      <td>2500</td>\n",
       "      <td>10.0</td>\n",
       "      <td>3.959414</td>\n",
       "      <td>0.830409</td>\n",
       "      <td>0.169591</td>\n",
       "    </tr>\n",
       "    <tr>\n",
       "      <th>14</th>\n",
       "      <td>300</td>\n",
       "      <td>2500</td>\n",
       "      <td>10.0</td>\n",
       "      <td>5.489808</td>\n",
       "      <td>0.830409</td>\n",
       "      <td>0.169591</td>\n",
       "    </tr>\n",
       "    <tr>\n",
       "      <th>15</th>\n",
       "      <td>300</td>\n",
       "      <td>2500</td>\n",
       "      <td>100.0</td>\n",
       "      <td>6.201556</td>\n",
       "      <td>0.818713</td>\n",
       "      <td>0.181287</td>\n",
       "    </tr>\n",
       "    <tr>\n",
       "      <th>11</th>\n",
       "      <td>100</td>\n",
       "      <td>2500</td>\n",
       "      <td>100.0</td>\n",
       "      <td>4.429922</td>\n",
       "      <td>0.818713</td>\n",
       "      <td>0.181287</td>\n",
       "    </tr>\n",
       "    <tr>\n",
       "      <th>4</th>\n",
       "      <td>300</td>\n",
       "      <td>1000</td>\n",
       "      <td>0.1</td>\n",
       "      <td>1.612843</td>\n",
       "      <td>0.491228</td>\n",
       "      <td>0.508772</td>\n",
       "    </tr>\n",
       "    <tr>\n",
       "      <th>0</th>\n",
       "      <td>100</td>\n",
       "      <td>1000</td>\n",
       "      <td>0.1</td>\n",
       "      <td>1.755743</td>\n",
       "      <td>0.491228</td>\n",
       "      <td>0.508772</td>\n",
       "    </tr>\n",
       "    <tr>\n",
       "      <th>5</th>\n",
       "      <td>300</td>\n",
       "      <td>1000</td>\n",
       "      <td>1.0</td>\n",
       "      <td>1.673236</td>\n",
       "      <td>0.380117</td>\n",
       "      <td>0.619883</td>\n",
       "    </tr>\n",
       "    <tr>\n",
       "      <th>1</th>\n",
       "      <td>100</td>\n",
       "      <td>1000</td>\n",
       "      <td>1.0</td>\n",
       "      <td>1.699313</td>\n",
       "      <td>0.380117</td>\n",
       "      <td>0.619883</td>\n",
       "    </tr>\n",
       "    <tr>\n",
       "      <th>6</th>\n",
       "      <td>300</td>\n",
       "      <td>1000</td>\n",
       "      <td>10.0</td>\n",
       "      <td>1.750415</td>\n",
       "      <td>0.374269</td>\n",
       "      <td>0.625731</td>\n",
       "    </tr>\n",
       "    <tr>\n",
       "      <th>3</th>\n",
       "      <td>100</td>\n",
       "      <td>1000</td>\n",
       "      <td>100.0</td>\n",
       "      <td>1.794779</td>\n",
       "      <td>0.374269</td>\n",
       "      <td>0.625731</td>\n",
       "    </tr>\n",
       "    <tr>\n",
       "      <th>2</th>\n",
       "      <td>100</td>\n",
       "      <td>1000</td>\n",
       "      <td>10.0</td>\n",
       "      <td>1.711761</td>\n",
       "      <td>0.374269</td>\n",
       "      <td>0.625731</td>\n",
       "    </tr>\n",
       "    <tr>\n",
       "      <th>7</th>\n",
       "      <td>300</td>\n",
       "      <td>1000</td>\n",
       "      <td>100.0</td>\n",
       "      <td>1.777413</td>\n",
       "      <td>0.374269</td>\n",
       "      <td>0.625731</td>\n",
       "    </tr>\n",
       "  </tbody>\n",
       "</table>\n",
       "</div>"
      ],
      "text/plain": [
       "    max_attempts  max_iters   temp   run_time  accuracy     error\n",
       "20           300       5000    0.1  11.695383  0.906433  0.093567\n",
       "18           100       5000   10.0  12.343274  0.906433  0.093567\n",
       "16           100       5000    0.1  11.128593  0.906433  0.093567\n",
       "22           300       5000   10.0  14.554224  0.906433  0.093567\n",
       "23           300       5000  100.0  12.886700  0.900585  0.099415\n",
       "19           100       5000  100.0  12.427985  0.900585  0.099415\n",
       "21           300       5000    1.0  12.442989  0.894737  0.105263\n",
       "17           100       5000    1.0  11.539724  0.894737  0.105263\n",
       "9            100       2500    1.0   3.881805  0.853801  0.146199\n",
       "13           300       2500    1.0   5.027621  0.853801  0.146199\n",
       "8            100       2500    0.1   4.241018  0.836257  0.163743\n",
       "12           300       2500    0.1   4.685347  0.836257  0.163743\n",
       "10           100       2500   10.0   3.959414  0.830409  0.169591\n",
       "14           300       2500   10.0   5.489808  0.830409  0.169591\n",
       "15           300       2500  100.0   6.201556  0.818713  0.181287\n",
       "11           100       2500  100.0   4.429922  0.818713  0.181287\n",
       "4            300       1000    0.1   1.612843  0.491228  0.508772\n",
       "0            100       1000    0.1   1.755743  0.491228  0.508772\n",
       "5            300       1000    1.0   1.673236  0.380117  0.619883\n",
       "1            100       1000    1.0   1.699313  0.380117  0.619883\n",
       "6            300       1000   10.0   1.750415  0.374269  0.625731\n",
       "3            100       1000  100.0   1.794779  0.374269  0.625731\n",
       "2            100       1000   10.0   1.711761  0.374269  0.625731\n",
       "7            300       1000  100.0   1.777413  0.374269  0.625731"
      ]
     },
     "execution_count": 42,
     "metadata": {},
     "output_type": "execute_result"
    }
   ],
   "source": [
    "sa_results.sort_values(by=\"error\")"
   ]
  },
  {
   "cell_type": "code",
   "execution_count": 43,
   "id": "e4413e28-f988-4cc8-968f-0a4ef8532d09",
   "metadata": {},
   "outputs": [
    {
     "data": {
      "text/plain": [
       "['nn/ga/ga_results.pkl']"
      ]
     },
     "execution_count": 43,
     "metadata": {},
     "output_type": "execute_result"
    }
   ],
   "source": [
    "pcts = [0.1, 0.2, 0.4, 0.6, 0.8]\n",
    "pops = [100, 200, 300, 400]\n",
    "iterations = [1000, 2500, 5000]\n",
    "labels = ['max_iters', 'population_size', 'mutation_percentag', 'run_time', 'accuracy', 'error']\n",
    "results_list = []\n",
    "for max_iter in iterations:\n",
    "    for pop in pops:\n",
    "        for pct in pcts:\n",
    "            start_time = time.perf_counter()\n",
    "            model = mlr.NeuralNetwork(\n",
    "                hidden_nodes=[len(features)],\n",
    "                is_classifier=True,\n",
    "                learning_rate=0.1,\n",
    "                early_stopping=True,\n",
    "                pop_size=pop,\n",
    "                mutation_prob=pct,\n",
    "                random_state=12345,\n",
    "                algorithm='genetic_alg',\n",
    "                max_iters=max_iter,\n",
    "            )\n",
    "            model.fit(X_train_norm, y_train)\n",
    "            run_time = time.perf_counter() - start_time\n",
    "            y_test_pred = model.predict(X_test_norm)\n",
    "            y_test_accuracy = accuracy_score(y_test, y_test_pred)\n",
    "            y_test_error = 1.0 - y_test_accuracy\n",
    "            y_test_confusion = confusion_matrix(y_test, y_test_pred)\n",
    "            joblib.dump(y_test_confusion, f\"nn/ga/confusion,iter{max_iter},pop{pop},pct{pct}.pkl\")\n",
    "            results_list.append((max_iter, pop, pct, run_time, y_test_accuracy, y_test_error))\n",
    "\n",
    "ga_results = pd.DataFrame.from_records(results_list, columns=labels)\n",
    "joblib.dump(ga_results, \"nn/ga/ga_results.pkl\")"
   ]
  },
  {
   "cell_type": "code",
   "execution_count": 44,
   "id": "165e060b-2014-45eb-a8a5-51c5d44099ce",
   "metadata": {},
   "outputs": [
    {
     "data": {
      "text/html": [
       "<div>\n",
       "<style scoped>\n",
       "    .dataframe tbody tr th:only-of-type {\n",
       "        vertical-align: middle;\n",
       "    }\n",
       "\n",
       "    .dataframe tbody tr th {\n",
       "        vertical-align: top;\n",
       "    }\n",
       "\n",
       "    .dataframe thead th {\n",
       "        text-align: right;\n",
       "    }\n",
       "</style>\n",
       "<table border=\"1\" class=\"dataframe\">\n",
       "  <thead>\n",
       "    <tr style=\"text-align: right;\">\n",
       "      <th></th>\n",
       "      <th>max_iters</th>\n",
       "      <th>population_size</th>\n",
       "      <th>mutation_percentag</th>\n",
       "      <th>run_time</th>\n",
       "      <th>accuracy</th>\n",
       "      <th>error</th>\n",
       "    </tr>\n",
       "  </thead>\n",
       "  <tbody>\n",
       "    <tr>\n",
       "      <th>59</th>\n",
       "      <td>5000</td>\n",
       "      <td>400</td>\n",
       "      <td>0.8</td>\n",
       "      <td>24.382068</td>\n",
       "      <td>0.929825</td>\n",
       "      <td>0.070175</td>\n",
       "    </tr>\n",
       "    <tr>\n",
       "      <th>39</th>\n",
       "      <td>2500</td>\n",
       "      <td>400</td>\n",
       "      <td>0.8</td>\n",
       "      <td>23.917940</td>\n",
       "      <td>0.929825</td>\n",
       "      <td>0.070175</td>\n",
       "    </tr>\n",
       "    <tr>\n",
       "      <th>19</th>\n",
       "      <td>1000</td>\n",
       "      <td>400</td>\n",
       "      <td>0.8</td>\n",
       "      <td>23.626505</td>\n",
       "      <td>0.929825</td>\n",
       "      <td>0.070175</td>\n",
       "    </tr>\n",
       "    <tr>\n",
       "      <th>2</th>\n",
       "      <td>1000</td>\n",
       "      <td>100</td>\n",
       "      <td>0.4</td>\n",
       "      <td>2.014083</td>\n",
       "      <td>0.918129</td>\n",
       "      <td>0.081871</td>\n",
       "    </tr>\n",
       "    <tr>\n",
       "      <th>22</th>\n",
       "      <td>2500</td>\n",
       "      <td>100</td>\n",
       "      <td>0.4</td>\n",
       "      <td>2.562135</td>\n",
       "      <td>0.918129</td>\n",
       "      <td>0.081871</td>\n",
       "    </tr>\n",
       "    <tr>\n",
       "      <th>42</th>\n",
       "      <td>5000</td>\n",
       "      <td>100</td>\n",
       "      <td>0.4</td>\n",
       "      <td>2.624834</td>\n",
       "      <td>0.918129</td>\n",
       "      <td>0.081871</td>\n",
       "    </tr>\n",
       "    <tr>\n",
       "      <th>35</th>\n",
       "      <td>2500</td>\n",
       "      <td>400</td>\n",
       "      <td>0.1</td>\n",
       "      <td>7.486290</td>\n",
       "      <td>0.912281</td>\n",
       "      <td>0.087719</td>\n",
       "    </tr>\n",
       "    <tr>\n",
       "      <th>15</th>\n",
       "      <td>1000</td>\n",
       "      <td>400</td>\n",
       "      <td>0.1</td>\n",
       "      <td>7.861278</td>\n",
       "      <td>0.912281</td>\n",
       "      <td>0.087719</td>\n",
       "    </tr>\n",
       "    <tr>\n",
       "      <th>55</th>\n",
       "      <td>5000</td>\n",
       "      <td>400</td>\n",
       "      <td>0.1</td>\n",
       "      <td>7.576584</td>\n",
       "      <td>0.912281</td>\n",
       "      <td>0.087719</td>\n",
       "    </tr>\n",
       "    <tr>\n",
       "      <th>32</th>\n",
       "      <td>2500</td>\n",
       "      <td>300</td>\n",
       "      <td>0.4</td>\n",
       "      <td>13.540491</td>\n",
       "      <td>0.906433</td>\n",
       "      <td>0.093567</td>\n",
       "    </tr>\n",
       "    <tr>\n",
       "      <th>12</th>\n",
       "      <td>1000</td>\n",
       "      <td>300</td>\n",
       "      <td>0.4</td>\n",
       "      <td>13.570851</td>\n",
       "      <td>0.906433</td>\n",
       "      <td>0.093567</td>\n",
       "    </tr>\n",
       "    <tr>\n",
       "      <th>52</th>\n",
       "      <td>5000</td>\n",
       "      <td>300</td>\n",
       "      <td>0.4</td>\n",
       "      <td>13.740273</td>\n",
       "      <td>0.906433</td>\n",
       "      <td>0.093567</td>\n",
       "    </tr>\n",
       "    <tr>\n",
       "      <th>5</th>\n",
       "      <td>1000</td>\n",
       "      <td>200</td>\n",
       "      <td>0.1</td>\n",
       "      <td>4.526651</td>\n",
       "      <td>0.900585</td>\n",
       "      <td>0.099415</td>\n",
       "    </tr>\n",
       "    <tr>\n",
       "      <th>25</th>\n",
       "      <td>2500</td>\n",
       "      <td>200</td>\n",
       "      <td>0.1</td>\n",
       "      <td>5.338326</td>\n",
       "      <td>0.900585</td>\n",
       "      <td>0.099415</td>\n",
       "    </tr>\n",
       "    <tr>\n",
       "      <th>45</th>\n",
       "      <td>5000</td>\n",
       "      <td>200</td>\n",
       "      <td>0.1</td>\n",
       "      <td>5.037712</td>\n",
       "      <td>0.900585</td>\n",
       "      <td>0.099415</td>\n",
       "    </tr>\n",
       "    <tr>\n",
       "      <th>26</th>\n",
       "      <td>2500</td>\n",
       "      <td>200</td>\n",
       "      <td>0.2</td>\n",
       "      <td>8.088761</td>\n",
       "      <td>0.883041</td>\n",
       "      <td>0.116959</td>\n",
       "    </tr>\n",
       "    <tr>\n",
       "      <th>6</th>\n",
       "      <td>1000</td>\n",
       "      <td>200</td>\n",
       "      <td>0.2</td>\n",
       "      <td>8.328277</td>\n",
       "      <td>0.883041</td>\n",
       "      <td>0.116959</td>\n",
       "    </tr>\n",
       "    <tr>\n",
       "      <th>51</th>\n",
       "      <td>5000</td>\n",
       "      <td>300</td>\n",
       "      <td>0.2</td>\n",
       "      <td>16.394121</td>\n",
       "      <td>0.883041</td>\n",
       "      <td>0.116959</td>\n",
       "    </tr>\n",
       "    <tr>\n",
       "      <th>31</th>\n",
       "      <td>2500</td>\n",
       "      <td>300</td>\n",
       "      <td>0.2</td>\n",
       "      <td>15.965672</td>\n",
       "      <td>0.883041</td>\n",
       "      <td>0.116959</td>\n",
       "    </tr>\n",
       "    <tr>\n",
       "      <th>46</th>\n",
       "      <td>5000</td>\n",
       "      <td>200</td>\n",
       "      <td>0.2</td>\n",
       "      <td>7.752379</td>\n",
       "      <td>0.883041</td>\n",
       "      <td>0.116959</td>\n",
       "    </tr>\n",
       "    <tr>\n",
       "      <th>11</th>\n",
       "      <td>1000</td>\n",
       "      <td>300</td>\n",
       "      <td>0.2</td>\n",
       "      <td>15.794945</td>\n",
       "      <td>0.883041</td>\n",
       "      <td>0.116959</td>\n",
       "    </tr>\n",
       "    <tr>\n",
       "      <th>3</th>\n",
       "      <td>1000</td>\n",
       "      <td>100</td>\n",
       "      <td>0.6</td>\n",
       "      <td>2.648974</td>\n",
       "      <td>0.871345</td>\n",
       "      <td>0.128655</td>\n",
       "    </tr>\n",
       "    <tr>\n",
       "      <th>23</th>\n",
       "      <td>2500</td>\n",
       "      <td>100</td>\n",
       "      <td>0.6</td>\n",
       "      <td>3.764874</td>\n",
       "      <td>0.871345</td>\n",
       "      <td>0.128655</td>\n",
       "    </tr>\n",
       "    <tr>\n",
       "      <th>43</th>\n",
       "      <td>5000</td>\n",
       "      <td>100</td>\n",
       "      <td>0.6</td>\n",
       "      <td>3.480027</td>\n",
       "      <td>0.871345</td>\n",
       "      <td>0.128655</td>\n",
       "    </tr>\n",
       "    <tr>\n",
       "      <th>10</th>\n",
       "      <td>1000</td>\n",
       "      <td>300</td>\n",
       "      <td>0.1</td>\n",
       "      <td>11.847543</td>\n",
       "      <td>0.865497</td>\n",
       "      <td>0.134503</td>\n",
       "    </tr>\n",
       "    <tr>\n",
       "      <th>50</th>\n",
       "      <td>5000</td>\n",
       "      <td>300</td>\n",
       "      <td>0.1</td>\n",
       "      <td>11.813423</td>\n",
       "      <td>0.865497</td>\n",
       "      <td>0.134503</td>\n",
       "    </tr>\n",
       "    <tr>\n",
       "      <th>30</th>\n",
       "      <td>2500</td>\n",
       "      <td>300</td>\n",
       "      <td>0.1</td>\n",
       "      <td>11.761857</td>\n",
       "      <td>0.865497</td>\n",
       "      <td>0.134503</td>\n",
       "    </tr>\n",
       "    <tr>\n",
       "      <th>53</th>\n",
       "      <td>5000</td>\n",
       "      <td>300</td>\n",
       "      <td>0.6</td>\n",
       "      <td>23.679550</td>\n",
       "      <td>0.859649</td>\n",
       "      <td>0.140351</td>\n",
       "    </tr>\n",
       "    <tr>\n",
       "      <th>13</th>\n",
       "      <td>1000</td>\n",
       "      <td>300</td>\n",
       "      <td>0.6</td>\n",
       "      <td>23.098524</td>\n",
       "      <td>0.859649</td>\n",
       "      <td>0.140351</td>\n",
       "    </tr>\n",
       "    <tr>\n",
       "      <th>33</th>\n",
       "      <td>2500</td>\n",
       "      <td>300</td>\n",
       "      <td>0.6</td>\n",
       "      <td>24.344143</td>\n",
       "      <td>0.859649</td>\n",
       "      <td>0.140351</td>\n",
       "    </tr>\n",
       "    <tr>\n",
       "      <th>40</th>\n",
       "      <td>5000</td>\n",
       "      <td>100</td>\n",
       "      <td>0.1</td>\n",
       "      <td>2.988063</td>\n",
       "      <td>0.836257</td>\n",
       "      <td>0.163743</td>\n",
       "    </tr>\n",
       "    <tr>\n",
       "      <th>0</th>\n",
       "      <td>1000</td>\n",
       "      <td>100</td>\n",
       "      <td>0.1</td>\n",
       "      <td>2.361726</td>\n",
       "      <td>0.836257</td>\n",
       "      <td>0.163743</td>\n",
       "    </tr>\n",
       "    <tr>\n",
       "      <th>20</th>\n",
       "      <td>2500</td>\n",
       "      <td>100</td>\n",
       "      <td>0.1</td>\n",
       "      <td>2.970512</td>\n",
       "      <td>0.836257</td>\n",
       "      <td>0.163743</td>\n",
       "    </tr>\n",
       "    <tr>\n",
       "      <th>1</th>\n",
       "      <td>1000</td>\n",
       "      <td>100</td>\n",
       "      <td>0.2</td>\n",
       "      <td>2.029749</td>\n",
       "      <td>0.830409</td>\n",
       "      <td>0.169591</td>\n",
       "    </tr>\n",
       "    <tr>\n",
       "      <th>21</th>\n",
       "      <td>2500</td>\n",
       "      <td>100</td>\n",
       "      <td>0.2</td>\n",
       "      <td>2.530303</td>\n",
       "      <td>0.830409</td>\n",
       "      <td>0.169591</td>\n",
       "    </tr>\n",
       "    <tr>\n",
       "      <th>41</th>\n",
       "      <td>5000</td>\n",
       "      <td>100</td>\n",
       "      <td>0.2</td>\n",
       "      <td>2.649710</td>\n",
       "      <td>0.830409</td>\n",
       "      <td>0.169591</td>\n",
       "    </tr>\n",
       "    <tr>\n",
       "      <th>17</th>\n",
       "      <td>1000</td>\n",
       "      <td>400</td>\n",
       "      <td>0.4</td>\n",
       "      <td>11.394232</td>\n",
       "      <td>0.824561</td>\n",
       "      <td>0.175439</td>\n",
       "    </tr>\n",
       "    <tr>\n",
       "      <th>24</th>\n",
       "      <td>2500</td>\n",
       "      <td>100</td>\n",
       "      <td>0.8</td>\n",
       "      <td>4.455652</td>\n",
       "      <td>0.824561</td>\n",
       "      <td>0.175439</td>\n",
       "    </tr>\n",
       "    <tr>\n",
       "      <th>57</th>\n",
       "      <td>5000</td>\n",
       "      <td>400</td>\n",
       "      <td>0.4</td>\n",
       "      <td>11.902624</td>\n",
       "      <td>0.824561</td>\n",
       "      <td>0.175439</td>\n",
       "    </tr>\n",
       "    <tr>\n",
       "      <th>37</th>\n",
       "      <td>2500</td>\n",
       "      <td>400</td>\n",
       "      <td>0.4</td>\n",
       "      <td>11.863713</td>\n",
       "      <td>0.824561</td>\n",
       "      <td>0.175439</td>\n",
       "    </tr>\n",
       "    <tr>\n",
       "      <th>44</th>\n",
       "      <td>5000</td>\n",
       "      <td>100</td>\n",
       "      <td>0.8</td>\n",
       "      <td>4.213753</td>\n",
       "      <td>0.824561</td>\n",
       "      <td>0.175439</td>\n",
       "    </tr>\n",
       "    <tr>\n",
       "      <th>4</th>\n",
       "      <td>1000</td>\n",
       "      <td>100</td>\n",
       "      <td>0.8</td>\n",
       "      <td>3.441205</td>\n",
       "      <td>0.824561</td>\n",
       "      <td>0.175439</td>\n",
       "    </tr>\n",
       "    <tr>\n",
       "      <th>14</th>\n",
       "      <td>1000</td>\n",
       "      <td>300</td>\n",
       "      <td>0.8</td>\n",
       "      <td>20.161695</td>\n",
       "      <td>0.807018</td>\n",
       "      <td>0.192982</td>\n",
       "    </tr>\n",
       "    <tr>\n",
       "      <th>54</th>\n",
       "      <td>5000</td>\n",
       "      <td>300</td>\n",
       "      <td>0.8</td>\n",
       "      <td>19.797810</td>\n",
       "      <td>0.807018</td>\n",
       "      <td>0.192982</td>\n",
       "    </tr>\n",
       "    <tr>\n",
       "      <th>34</th>\n",
       "      <td>2500</td>\n",
       "      <td>300</td>\n",
       "      <td>0.8</td>\n",
       "      <td>20.714719</td>\n",
       "      <td>0.807018</td>\n",
       "      <td>0.192982</td>\n",
       "    </tr>\n",
       "    <tr>\n",
       "      <th>38</th>\n",
       "      <td>2500</td>\n",
       "      <td>400</td>\n",
       "      <td>0.6</td>\n",
       "      <td>20.141720</td>\n",
       "      <td>0.801170</td>\n",
       "      <td>0.198830</td>\n",
       "    </tr>\n",
       "    <tr>\n",
       "      <th>58</th>\n",
       "      <td>5000</td>\n",
       "      <td>400</td>\n",
       "      <td>0.6</td>\n",
       "      <td>20.360191</td>\n",
       "      <td>0.801170</td>\n",
       "      <td>0.198830</td>\n",
       "    </tr>\n",
       "    <tr>\n",
       "      <th>18</th>\n",
       "      <td>1000</td>\n",
       "      <td>400</td>\n",
       "      <td>0.6</td>\n",
       "      <td>19.793717</td>\n",
       "      <td>0.801170</td>\n",
       "      <td>0.198830</td>\n",
       "    </tr>\n",
       "    <tr>\n",
       "      <th>47</th>\n",
       "      <td>5000</td>\n",
       "      <td>200</td>\n",
       "      <td>0.4</td>\n",
       "      <td>7.843383</td>\n",
       "      <td>0.789474</td>\n",
       "      <td>0.210526</td>\n",
       "    </tr>\n",
       "    <tr>\n",
       "      <th>27</th>\n",
       "      <td>2500</td>\n",
       "      <td>200</td>\n",
       "      <td>0.4</td>\n",
       "      <td>8.392202</td>\n",
       "      <td>0.789474</td>\n",
       "      <td>0.210526</td>\n",
       "    </tr>\n",
       "    <tr>\n",
       "      <th>7</th>\n",
       "      <td>1000</td>\n",
       "      <td>200</td>\n",
       "      <td>0.4</td>\n",
       "      <td>8.119070</td>\n",
       "      <td>0.789474</td>\n",
       "      <td>0.210526</td>\n",
       "    </tr>\n",
       "    <tr>\n",
       "      <th>48</th>\n",
       "      <td>5000</td>\n",
       "      <td>200</td>\n",
       "      <td>0.6</td>\n",
       "      <td>10.559689</td>\n",
       "      <td>0.783626</td>\n",
       "      <td>0.216374</td>\n",
       "    </tr>\n",
       "    <tr>\n",
       "      <th>8</th>\n",
       "      <td>1000</td>\n",
       "      <td>200</td>\n",
       "      <td>0.6</td>\n",
       "      <td>10.724066</td>\n",
       "      <td>0.783626</td>\n",
       "      <td>0.216374</td>\n",
       "    </tr>\n",
       "    <tr>\n",
       "      <th>28</th>\n",
       "      <td>2500</td>\n",
       "      <td>200</td>\n",
       "      <td>0.6</td>\n",
       "      <td>11.135492</td>\n",
       "      <td>0.783626</td>\n",
       "      <td>0.216374</td>\n",
       "    </tr>\n",
       "    <tr>\n",
       "      <th>56</th>\n",
       "      <td>5000</td>\n",
       "      <td>400</td>\n",
       "      <td>0.2</td>\n",
       "      <td>22.835053</td>\n",
       "      <td>0.777778</td>\n",
       "      <td>0.222222</td>\n",
       "    </tr>\n",
       "    <tr>\n",
       "      <th>16</th>\n",
       "      <td>1000</td>\n",
       "      <td>400</td>\n",
       "      <td>0.2</td>\n",
       "      <td>22.746301</td>\n",
       "      <td>0.777778</td>\n",
       "      <td>0.222222</td>\n",
       "    </tr>\n",
       "    <tr>\n",
       "      <th>36</th>\n",
       "      <td>2500</td>\n",
       "      <td>400</td>\n",
       "      <td>0.2</td>\n",
       "      <td>23.256340</td>\n",
       "      <td>0.777778</td>\n",
       "      <td>0.222222</td>\n",
       "    </tr>\n",
       "    <tr>\n",
       "      <th>49</th>\n",
       "      <td>5000</td>\n",
       "      <td>200</td>\n",
       "      <td>0.8</td>\n",
       "      <td>8.363743</td>\n",
       "      <td>0.725146</td>\n",
       "      <td>0.274854</td>\n",
       "    </tr>\n",
       "    <tr>\n",
       "      <th>9</th>\n",
       "      <td>1000</td>\n",
       "      <td>200</td>\n",
       "      <td>0.8</td>\n",
       "      <td>8.409323</td>\n",
       "      <td>0.725146</td>\n",
       "      <td>0.274854</td>\n",
       "    </tr>\n",
       "    <tr>\n",
       "      <th>29</th>\n",
       "      <td>2500</td>\n",
       "      <td>200</td>\n",
       "      <td>0.8</td>\n",
       "      <td>8.293043</td>\n",
       "      <td>0.725146</td>\n",
       "      <td>0.274854</td>\n",
       "    </tr>\n",
       "  </tbody>\n",
       "</table>\n",
       "</div>"
      ],
      "text/plain": [
       "    max_iters  population_size  mutation_percentag   run_time  accuracy  \\\n",
       "59       5000              400                 0.8  24.382068  0.929825   \n",
       "39       2500              400                 0.8  23.917940  0.929825   \n",
       "19       1000              400                 0.8  23.626505  0.929825   \n",
       "2        1000              100                 0.4   2.014083  0.918129   \n",
       "22       2500              100                 0.4   2.562135  0.918129   \n",
       "42       5000              100                 0.4   2.624834  0.918129   \n",
       "35       2500              400                 0.1   7.486290  0.912281   \n",
       "15       1000              400                 0.1   7.861278  0.912281   \n",
       "55       5000              400                 0.1   7.576584  0.912281   \n",
       "32       2500              300                 0.4  13.540491  0.906433   \n",
       "12       1000              300                 0.4  13.570851  0.906433   \n",
       "52       5000              300                 0.4  13.740273  0.906433   \n",
       "5        1000              200                 0.1   4.526651  0.900585   \n",
       "25       2500              200                 0.1   5.338326  0.900585   \n",
       "45       5000              200                 0.1   5.037712  0.900585   \n",
       "26       2500              200                 0.2   8.088761  0.883041   \n",
       "6        1000              200                 0.2   8.328277  0.883041   \n",
       "51       5000              300                 0.2  16.394121  0.883041   \n",
       "31       2500              300                 0.2  15.965672  0.883041   \n",
       "46       5000              200                 0.2   7.752379  0.883041   \n",
       "11       1000              300                 0.2  15.794945  0.883041   \n",
       "3        1000              100                 0.6   2.648974  0.871345   \n",
       "23       2500              100                 0.6   3.764874  0.871345   \n",
       "43       5000              100                 0.6   3.480027  0.871345   \n",
       "10       1000              300                 0.1  11.847543  0.865497   \n",
       "50       5000              300                 0.1  11.813423  0.865497   \n",
       "30       2500              300                 0.1  11.761857  0.865497   \n",
       "53       5000              300                 0.6  23.679550  0.859649   \n",
       "13       1000              300                 0.6  23.098524  0.859649   \n",
       "33       2500              300                 0.6  24.344143  0.859649   \n",
       "40       5000              100                 0.1   2.988063  0.836257   \n",
       "0        1000              100                 0.1   2.361726  0.836257   \n",
       "20       2500              100                 0.1   2.970512  0.836257   \n",
       "1        1000              100                 0.2   2.029749  0.830409   \n",
       "21       2500              100                 0.2   2.530303  0.830409   \n",
       "41       5000              100                 0.2   2.649710  0.830409   \n",
       "17       1000              400                 0.4  11.394232  0.824561   \n",
       "24       2500              100                 0.8   4.455652  0.824561   \n",
       "57       5000              400                 0.4  11.902624  0.824561   \n",
       "37       2500              400                 0.4  11.863713  0.824561   \n",
       "44       5000              100                 0.8   4.213753  0.824561   \n",
       "4        1000              100                 0.8   3.441205  0.824561   \n",
       "14       1000              300                 0.8  20.161695  0.807018   \n",
       "54       5000              300                 0.8  19.797810  0.807018   \n",
       "34       2500              300                 0.8  20.714719  0.807018   \n",
       "38       2500              400                 0.6  20.141720  0.801170   \n",
       "58       5000              400                 0.6  20.360191  0.801170   \n",
       "18       1000              400                 0.6  19.793717  0.801170   \n",
       "47       5000              200                 0.4   7.843383  0.789474   \n",
       "27       2500              200                 0.4   8.392202  0.789474   \n",
       "7        1000              200                 0.4   8.119070  0.789474   \n",
       "48       5000              200                 0.6  10.559689  0.783626   \n",
       "8        1000              200                 0.6  10.724066  0.783626   \n",
       "28       2500              200                 0.6  11.135492  0.783626   \n",
       "56       5000              400                 0.2  22.835053  0.777778   \n",
       "16       1000              400                 0.2  22.746301  0.777778   \n",
       "36       2500              400                 0.2  23.256340  0.777778   \n",
       "49       5000              200                 0.8   8.363743  0.725146   \n",
       "9        1000              200                 0.8   8.409323  0.725146   \n",
       "29       2500              200                 0.8   8.293043  0.725146   \n",
       "\n",
       "       error  \n",
       "59  0.070175  \n",
       "39  0.070175  \n",
       "19  0.070175  \n",
       "2   0.081871  \n",
       "22  0.081871  \n",
       "42  0.081871  \n",
       "35  0.087719  \n",
       "15  0.087719  \n",
       "55  0.087719  \n",
       "32  0.093567  \n",
       "12  0.093567  \n",
       "52  0.093567  \n",
       "5   0.099415  \n",
       "25  0.099415  \n",
       "45  0.099415  \n",
       "26  0.116959  \n",
       "6   0.116959  \n",
       "51  0.116959  \n",
       "31  0.116959  \n",
       "46  0.116959  \n",
       "11  0.116959  \n",
       "3   0.128655  \n",
       "23  0.128655  \n",
       "43  0.128655  \n",
       "10  0.134503  \n",
       "50  0.134503  \n",
       "30  0.134503  \n",
       "53  0.140351  \n",
       "13  0.140351  \n",
       "33  0.140351  \n",
       "40  0.163743  \n",
       "0   0.163743  \n",
       "20  0.163743  \n",
       "1   0.169591  \n",
       "21  0.169591  \n",
       "41  0.169591  \n",
       "17  0.175439  \n",
       "24  0.175439  \n",
       "57  0.175439  \n",
       "37  0.175439  \n",
       "44  0.175439  \n",
       "4   0.175439  \n",
       "14  0.192982  \n",
       "54  0.192982  \n",
       "34  0.192982  \n",
       "38  0.198830  \n",
       "58  0.198830  \n",
       "18  0.198830  \n",
       "47  0.210526  \n",
       "27  0.210526  \n",
       "7   0.210526  \n",
       "48  0.216374  \n",
       "8   0.216374  \n",
       "28  0.216374  \n",
       "56  0.222222  \n",
       "16  0.222222  \n",
       "36  0.222222  \n",
       "49  0.274854  \n",
       "9   0.274854  \n",
       "29  0.274854  "
      ]
     },
     "execution_count": 44,
     "metadata": {},
     "output_type": "execute_result"
    }
   ],
   "source": [
    "ga_results.sort_values(by=\"error\")"
   ]
  },
  {
   "cell_type": "code",
   "execution_count": 59,
   "id": "b9d67c60-0fa9-42eb-8d53-de41d4a036dc",
   "metadata": {},
   "outputs": [],
   "source": [
    "rhc_model = mlr.NeuralNetwork(\n",
    "    hidden_nodes=[len(features)],\n",
    "    is_classifier=True,\n",
    "    learning_rate=0.1,\n",
    "    early_stopping=True,\n",
    "    random_state=12345,\n",
    "    algorithm='random_hill_climb',\n",
    "    max_iters=2500,\n",
    "    max_attempts=25,\n",
    "    restarts=50\n",
    ")"
   ]
  },
  {
   "cell_type": "code",
   "execution_count": 60,
   "id": "ea577fe9-bbb8-4931-8ab8-60c1d12897e6",
   "metadata": {},
   "outputs": [
    {
     "data": {
      "image/png": "[encoded data removed]",
      "text/plain": [
       "<Figure size 432x288 with 1 Axes>"
      ]
     },
     "metadata": {
      "needs_background": "light"
     },
     "output_type": "display_data"
    }
   ],
   "source": [
    "plot.plot_learning_curve(rhc_model, X_train_norm, y_train, title=\"RHC Learning Curve\")"
   ]
  },
  {
   "cell_type": "code",
   "execution_count": 99,
   "id": "797269f0-116f-4196-a2b6-3514afc4e485",
   "metadata": {},
   "outputs": [
    {
     "data": {
      "text/plain": [
       "NeuralNetwork(curve=True, early_stopping=True, hidden_nodes=[30],\n",
       "              max_attempts=25, max_iters=2500, random_state=12345, restarts=50)"
      ]
     },
     "execution_count": 99,
     "metadata": {},
     "output_type": "execute_result"
    }
   ],
   "source": [
    "rhc_model = mlr.NeuralNetwork(\n",
    "    hidden_nodes=[len(features)],\n",
    "    is_classifier=True,\n",
    "    learning_rate=0.1,\n",
    "    early_stopping=True,\n",
    "    random_state=12345,\n",
    "    algorithm='random_hill_climb',\n",
    "    max_iters=2500,\n",
    "    max_attempts=25,\n",
    "    restarts=50,\n",
    "    curve=True\n",
    ")\n",
    "rhc_model.fit(X_train_norm, y_train)"
   ]
  },
  {
   "cell_type": "code",
   "execution_count": 100,
   "id": "84c04e6f-c8c8-4181-b373-d40c9b1367f9",
   "metadata": {},
   "outputs": [
    {
     "data": {
      "text/plain": [
       "0.2660715253108015"
      ]
     },
     "execution_count": 100,
     "metadata": {},
     "output_type": "execute_result"
    }
   ],
   "source": [
    "rhc_model.loss"
   ]
  },
  {
   "cell_type": "code",
   "execution_count": 101,
   "id": "4e85ad07-4f03-461a-93de-ee4a5f57f530",
   "metadata": {},
   "outputs": [
    {
     "data": {
      "text/plain": [
       "0.9122807017543859"
      ]
     },
     "execution_count": 101,
     "metadata": {},
     "output_type": "execute_result"
    }
   ],
   "source": [
    "rhc_y_test_pred = rhc_model.predict(X_test_norm)\n",
    "rhc_y_test_accuracy = accuracy_score(y_test, rhc_y_test_pred)\n",
    "rhc_y_test_accuracy"
   ]
  },
  {
   "cell_type": "code",
   "execution_count": 102,
   "id": "4bd70e4b-67f7-40a8-b591-d113411b41af",
   "metadata": {},
   "outputs": [
    {
     "data": {
      "text/plain": [
       "[<matplotlib.lines.Line2D at 0x7fd699466150>]"
      ]
     },
     "execution_count": 102,
     "metadata": {},
     "output_type": "execute_result"
    },
    {
     "data": {
      "image/png": "[encoded data removed]",
      "text/plain": [
       "<Figure size 432x288 with 1 Axes>"
      ]
     },
     "metadata": {
      "needs_background": "light"
     },
     "output_type": "display_data"
    }
   ],
   "source": [
    "plt.plot(range(1, len(rhc_model.fitness_curve) + 1), helpers.extract(rhc_model.fitness_curve))"
   ]
  },
  {
   "cell_type": "code",
   "execution_count": 116,
   "id": "32f54af1-09b1-4175-9ff4-87a9ae5f66bd",
   "metadata": {},
   "outputs": [
    {
     "data": {
      "text/plain": [
       "<sklearn.metrics._plot.confusion_matrix.ConfusionMatrixDisplay at 0x7fd6faa09610>"
      ]
     },
     "execution_count": 116,
     "metadata": {},
     "output_type": "execute_result"
    },
    {
     "data": {
      "image/png": "[encoded data removed]",
      "text/plain": [
       "<Figure size 432x288 with 2 Axes>"
      ]
     },
     "metadata": {
      "needs_background": "light"
     },
     "output_type": "display_data"
    }
   ],
   "source": [
    "rhc_confusion = joblib.load(f\"nn/rhc/confusion,iter{2500},a{25},r{50}.pkl\")\n",
    "disp = ConfusionMatrixDisplay(confusion_matrix=rhc_confusion, display_labels=[\"Benign\", \"Malignant\"])\n",
    "disp.plot()"
   ]
  },
  {
   "cell_type": "code",
   "execution_count": 61,
   "id": "38ed5cf9-2c5e-4159-96f3-16ee01d6bdaf",
   "metadata": {},
   "outputs": [],
   "source": [
    "sa_model = mlr.NeuralNetwork(\n",
    "    hidden_nodes=[len(features)],\n",
    "    is_classifier=True,\n",
    "    learning_rate=0.1,\n",
    "    early_stopping=True,\n",
    "    random_state=12345,\n",
    "    algorithm='simulated_annealing',\n",
    "    max_iters=5000,\n",
    "    max_attempts=300,\n",
    "    schedule=mlr.GeomDecay(init_temp=0.1)\n",
    ")"
   ]
  },
  {
   "cell_type": "code",
   "execution_count": 62,
   "id": "52e0118c-eee2-4bd3-919a-65167ca93bb6",
   "metadata": {},
   "outputs": [
    {
     "data": {
      "image/png": "[encoded data removed]",
      "text/plain": [
       "<Figure size 432x288 with 1 Axes>"
      ]
     },
     "metadata": {
      "needs_background": "light"
     },
     "output_type": "display_data"
    }
   ],
   "source": [
    "plot.plot_learning_curve(sa_model, X_train_norm, y_train, title=\"SA Learning Curve\")"
   ]
  },
  {
   "cell_type": "code",
   "execution_count": 108,
   "id": "52b34b8e-0f13-47fb-8191-21bdd5525136",
   "metadata": {},
   "outputs": [
    {
     "data": {
      "text/plain": [
       "NeuralNetwork(algorithm='simulated_annealing', curve=True, early_stopping=True,\n",
       "              hidden_nodes=[30], max_attempts=300, max_iters=5000,\n",
       "              random_state=12345,\n",
       "              schedule=GeomDecay(init_temp=0.1, decay=0.99, min_temp=0.001))"
      ]
     },
     "execution_count": 108,
     "metadata": {},
     "output_type": "execute_result"
    }
   ],
   "source": [
    "sa_model = mlr.NeuralNetwork(\n",
    "    hidden_nodes=[len(features)],\n",
    "    is_classifier=True,\n",
    "    learning_rate=0.1,\n",
    "    early_stopping=True,\n",
    "    random_state=12345,\n",
    "    algorithm='simulated_annealing',\n",
    "    max_iters=5000,\n",
    "    max_attempts=300,\n",
    "    schedule=mlr.GeomDecay(init_temp=0.1),\n",
    "    curve=True\n",
    ")\n",
    "sa_model.fit(X_train_norm, y_train)"
   ]
  },
  {
   "cell_type": "code",
   "execution_count": 109,
   "id": "f4c10e6f-bb6b-4275-bb13-bb784b649319",
   "metadata": {},
   "outputs": [
    {
     "data": {
      "text/plain": [
       "0.9064327485380117"
      ]
     },
     "execution_count": 109,
     "metadata": {},
     "output_type": "execute_result"
    }
   ],
   "source": [
    "sa_y_test_pred = sa_model.predict(X_test_norm)\n",
    "sa_y_test_accuracy = accuracy_score(y_test, sa_y_test_pred)\n",
    "sa_y_test_accuracy"
   ]
  },
  {
   "cell_type": "code",
   "execution_count": 110,
   "id": "1b9ef2d0-a7c8-4b69-ab9f-e287e6f4ad9c",
   "metadata": {},
   "outputs": [
    {
     "data": {
      "text/plain": [
       "array([[2.19951670e+00, 3.00000000e+00],\n",
       "       [2.19601987e+00, 5.00000000e+00],\n",
       "       [2.19598638e+00, 7.00000000e+00],\n",
       "       ...,\n",
       "       [2.48959426e-01, 9.26700000e+03],\n",
       "       [2.48959426e-01, 9.26900000e+03],\n",
       "       [2.48943393e-01, 9.27100000e+03]])"
      ]
     },
     "execution_count": 110,
     "metadata": {},
     "output_type": "execute_result"
    }
   ],
   "source": [
    "sa_model.fitness_curve"
   ]
  },
  {
   "cell_type": "code",
   "execution_count": 111,
   "id": "485a0fcc-244b-4e8f-bbd8-2df820dad464",
   "metadata": {},
   "outputs": [
    {
     "data": {
      "text/plain": [
       "[<matplotlib.lines.Line2D at 0x7fd67932d4d0>]"
      ]
     },
     "execution_count": 111,
     "metadata": {},
     "output_type": "execute_result"
    },
    {
     "data": {
      "image/png": "[encoded data removed]",
      "text/plain": [
       "<Figure size 432x288 with 1 Axes>"
      ]
     },
     "metadata": {
      "needs_background": "light"
     },
     "output_type": "display_data"
    }
   ],
   "source": [
    "plt.plot(range(1, len(sa_model.fitness_curve) + 1), helpers.extract(sa_model.fitness_curve))"
   ]
  },
  {
   "cell_type": "code",
   "execution_count": 117,
   "id": "2f1c9e93-45a0-4849-9883-161ea0a8816d",
   "metadata": {},
   "outputs": [
    {
     "data": {
      "text/plain": [
       "<sklearn.metrics._plot.confusion_matrix.ConfusionMatrixDisplay at 0x7fd698b029d0>"
      ]
     },
     "execution_count": 117,
     "metadata": {},
     "output_type": "execute_result"
    },
    {
     "data": {
      "image/png": "[encoded data removed]",
      "text/plain": [
       "<Figure size 432x288 with 2 Axes>"
      ]
     },
     "metadata": {
      "needs_background": "light"
     },
     "output_type": "display_data"
    }
   ],
   "source": [
    "sa_confusion = joblib.load(f\"nn/sa/confusion,iter{5000},a{300},temp{0.1}.pkl\")\n",
    "disp = ConfusionMatrixDisplay(confusion_matrix=sa_confusion, display_labels=[\"Benign\", \"Malignant\"])\n",
    "disp.plot()"
   ]
  },
  {
   "cell_type": "code",
   "execution_count": 63,
   "id": "d405ff52-1a2e-45c5-a9ea-6a55b29343a4",
   "metadata": {},
   "outputs": [],
   "source": [
    "ga_model = mlr.NeuralNetwork(\n",
    "    hidden_nodes=[len(features)],\n",
    "    is_classifier=True,\n",
    "    learning_rate=0.1,\n",
    "    early_stopping=True,\n",
    "    pop_size=400,\n",
    "    mutation_prob=0.8,\n",
    "    random_state=12345,\n",
    "    algorithm='genetic_alg',\n",
    "    max_iters=1000,\n",
    ")"
   ]
  },
  {
   "cell_type": "code",
   "execution_count": 64,
   "id": "3603f051-7227-4442-bf8c-8df479adf763",
   "metadata": {},
   "outputs": [
    {
     "data": {
      "image/png": "[encoded data removed]",
      "text/plain": [
       "<Figure size 432x288 with 1 Axes>"
      ]
     },
     "metadata": {
      "needs_background": "light"
     },
     "output_type": "display_data"
    }
   ],
   "source": [
    "plot.plot_learning_curve(ga_model, X_train_norm, y_train, title=\"GA Learning Curve\")"
   ]
  },
  {
   "cell_type": "code",
   "execution_count": 93,
   "id": "08744cff-645e-4190-a171-a8c444f9e42c",
   "metadata": {},
   "outputs": [
    {
     "data": {
      "text/plain": [
       "NeuralNetwork(algorithm='genetic_alg', curve=True, early_stopping=True,\n",
       "              hidden_nodes=[30], max_iters=1000, mutation_prob=0.8,\n",
       "              pop_size=400, random_state=12345)"
      ]
     },
     "execution_count": 93,
     "metadata": {},
     "output_type": "execute_result"
    }
   ],
   "source": [
    "ga_model = mlr.NeuralNetwork(\n",
    "    hidden_nodes=[len(features)],\n",
    "    is_classifier=True,\n",
    "    learning_rate=0.1,\n",
    "    early_stopping=True,\n",
    "    pop_size=400,\n",
    "    mutation_prob=0.8,\n",
    "    random_state=12345,\n",
    "    algorithm='genetic_alg',\n",
    "    max_iters=1000,\n",
    "    curve=True\n",
    ")\n",
    "ga_model.fit(X_train_norm, y_train)"
   ]
  },
  {
   "cell_type": "code",
   "execution_count": 94,
   "id": "94631598-e5d6-429c-9503-5fe4624e5560",
   "metadata": {},
   "outputs": [
    {
     "data": {
      "text/plain": [
       "0.9298245614035088"
      ]
     },
     "execution_count": 94,
     "metadata": {},
     "output_type": "execute_result"
    }
   ],
   "source": [
    "ga_y_test_pred = ga_model.predict(X_test_norm)\n",
    "ga_y_test_accuracy = accuracy_score(y_test, ga_y_test_pred)\n",
    "ga_y_test_accuracy"
   ]
  },
  {
   "cell_type": "code",
   "execution_count": 95,
   "id": "74297c24-752f-43c9-8519-3788a612d8f2",
   "metadata": {},
   "outputs": [
    {
     "data": {
      "text/plain": [
       "[<matplotlib.lines.Line2D at 0x7fd67945ced0>]"
      ]
     },
     "execution_count": 95,
     "metadata": {},
     "output_type": "execute_result"
    },
    {
     "data": {
      "image/png": "[encoded data removed]",
      "text/plain": [
       "<Figure size 432x288 with 1 Axes>"
      ]
     },
     "metadata": {
      "needs_background": "light"
     },
     "output_type": "display_data"
    }
   ],
   "source": [
    "plt.plot(range(1, len(ga_model.fitness_curve) + 1), helpers.extract(ga_model.fitness_curve))"
   ]
  },
  {
   "cell_type": "code",
   "execution_count": 119,
   "id": "63bb1f5e-3800-4b66-8707-a225029775d9",
   "metadata": {},
   "outputs": [
    {
     "data": {
      "text/plain": [
       "Text(0.5, 1.0, 'Loss over Iterations')"
      ]
     },
     "execution_count": 119,
     "metadata": {},
     "output_type": "execute_result"
    },
    {
     "data": {
      "image/png": "[encoded data removed]",
      "text/plain": [
       "<Figure size 432x288 with 1 Axes>"
      ]
     },
     "metadata": {
      "needs_background": "light"
     },
     "output_type": "display_data"
    }
   ],
   "source": [
    "plt.plot(range(1, len(rhc_model.fitness_curve) + 1), helpers.extract(rhc_model.fitness_curve), label=\"RHC\")\n",
    "plt.plot(range(1, len(sa_model.fitness_curve) + 1), helpers.extract(sa_model.fitness_curve), label=\"SA\")\n",
    "plt.plot(range(1, len(ga_model.fitness_curve) + 1), helpers.extract(ga_model.fitness_curve), label=\"GA\")\n",
    "plt.legend(loc=\"best\")\n",
    "plt.xlabel(\"# Iterations\")\n",
    "plt.ylabel(\"Loss\")\n",
    "plt.title(\"Loss over Iterations\")"
   ]
  },
  {
   "cell_type": "code",
   "execution_count": 118,
   "id": "c7fc0d45-72e1-47b0-bec0-76e1b336a5cc",
   "metadata": {},
   "outputs": [
    {
     "data": {
      "text/plain": [
       "<sklearn.metrics._plot.confusion_matrix.ConfusionMatrixDisplay at 0x7fd658cd7d90>"
      ]
     },
     "execution_count": 118,
     "metadata": {},
     "output_type": "execute_result"
    },
    {
     "data": {
      "image/png": "[encoded data removed]",
      "text/plain": [
       "<Figure size 432x288 with 2 Axes>"
      ]
     },
     "metadata": {
      "needs_background": "light"
     },
     "output_type": "display_data"
    }
   ],
   "source": [
    "ga_confusion = joblib.load(f\"nn/ga/confusion,iter{1000},pop{400},pct{0.8}.pkl\")\n",
    "disp = ConfusionMatrixDisplay(confusion_matrix=ga_confusion, display_labels=[\"Benign\", \"Malignant\"])\n",
    "disp.plot()"
   ]
  },
  {
   "cell_type": "code",
   "execution_count": 138,
   "id": "5a69430a-d8e7-4e2f-8382-d368b30b1555",
   "metadata": {},
   "outputs": [
    {
     "data": {
      "text/plain": [
       "NeuralNetwork(algorithm='gradient_descent', early_stopping=True,\n",
       "              hidden_nodes=[30], learning_rate=0.3, max_iters=1000,\n",
       "              random_state=12345)"
      ]
     },
     "execution_count": 138,
     "metadata": {},
     "output_type": "execute_result"
    }
   ],
   "source": [
    "gd_model = mlr.NeuralNetwork(\n",
    "    hidden_nodes=[len(features)],\n",
    "    is_classifier=True,\n",
    "    learning_rate=0.3,\n",
    "    early_stopping=True,\n",
    "    random_state=12345,\n",
    "    algorithm='gradient_descent',\n",
    "    max_iters=1000,\n",
    ")\n",
    "gd_model.fit(X_train_norm, y_train)"
   ]
  },
  {
   "cell_type": "code",
   "execution_count": 139,
   "id": "0622c7bf-0420-4108-91c9-e8a4c391aa04",
   "metadata": {},
   "outputs": [
    {
     "data": {
      "text/plain": [
       "0.6257309941520468"
      ]
     },
     "execution_count": 139,
     "metadata": {},
     "output_type": "execute_result"
    }
   ],
   "source": [
    "gd_y_test_pred = gd_model.predict(X_test_norm)\n",
    "gd_y_test_accuracy = accuracy_score(y_test, gd_y_test_pred)\n",
    "gd_y_test_accuracy"
   ]
  },
  {
   "cell_type": "code",
   "execution_count": 134,
   "id": "819a25f4-f7de-4017-9184-72fd12248cc2",
   "metadata": {},
   "outputs": [
    {
     "name": "stdout",
     "output_type": "stream",
     "text": [
      "Fitting 5 folds for each of 1 candidates, totalling 5 fits\n"
     ]
    },
    {
     "ename": "NotFittedError",
     "evalue": "All estimators failed to fit",
     "output_type": "error",
     "traceback": [
      "\u001b[0;31m---------------------------------------------------------------------------\u001b[0m",
      "\u001b[0;31mNotFittedError\u001b[0m                            Traceback (most recent call last)",
      "\u001b[0;32m<ipython-input-134-94a36bcf32b0>\u001b[0m in \u001b[0;36m<module>\u001b[0;34m\u001b[0m\n\u001b[1;32m     13\u001b[0m     \u001b[0mgenerate_curves\u001b[0m\u001b[0;34m=\u001b[0m\u001b[0;32mTrue\u001b[0m\u001b[0;34m,\u001b[0m\u001b[0;34m\u001b[0m\u001b[0;34m\u001b[0m\u001b[0m\n\u001b[1;32m     14\u001b[0m )\n\u001b[0;32m---> 15\u001b[0;31m \u001b[0msa_results\u001b[0m \u001b[0;34m=\u001b[0m \u001b[0msa_runner\u001b[0m\u001b[0;34m.\u001b[0m\u001b[0mrun\u001b[0m\u001b[0;34m(\u001b[0m\u001b[0;34m)\u001b[0m\u001b[0;34m\u001b[0m\u001b[0;34m\u001b[0m\u001b[0m\n\u001b[0m",
      "\u001b[0;32m~/opt/anaconda3/envs/school/lib/python3.7/site-packages/mlrose_hiive/runners/_nn_runner_base.py\u001b[0m in \u001b[0;36mrun\u001b[0;34m(self)\u001b[0m\n\u001b[1;32m     70\u001b[0m                                                \u001b[0mcv\u001b[0m\u001b[0;34m=\u001b[0m\u001b[0mself\u001b[0m\u001b[0;34m.\u001b[0m\u001b[0mcv\u001b[0m\u001b[0;34m,\u001b[0m\u001b[0;34m\u001b[0m\u001b[0;34m\u001b[0m\u001b[0m\n\u001b[1;32m     71\u001b[0m                                                \u001b[0mn_jobs\u001b[0m\u001b[0;34m=\u001b[0m\u001b[0mself\u001b[0m\u001b[0;34m.\u001b[0m\u001b[0mn_jobs\u001b[0m\u001b[0;34m,\u001b[0m\u001b[0;34m\u001b[0m\u001b[0;34m\u001b[0m\u001b[0m\n\u001b[0;32m---> 72\u001b[0;31m                                                verbose=self.verbose_grid_search)\n\u001b[0m\u001b[1;32m     73\u001b[0m                 \u001b[0mrun_end\u001b[0m \u001b[0;34m=\u001b[0m \u001b[0mtime\u001b[0m\u001b[0;34m.\u001b[0m\u001b[0mperf_counter\u001b[0m\u001b[0;34m(\u001b[0m\u001b[0;34m)\u001b[0m\u001b[0;34m\u001b[0m\u001b[0;34m\u001b[0m\u001b[0m\n\u001b[1;32m     74\u001b[0m                 \u001b[0mlogging\u001b[0m\u001b[0;34m.\u001b[0m\u001b[0minfo\u001b[0m\u001b[0;34m(\u001b[0m\u001b[0;34mf'Run time: {run_end - run_start}'\u001b[0m\u001b[0;34m)\u001b[0m\u001b[0;34m\u001b[0m\u001b[0;34m\u001b[0m\u001b[0m\n",
      "\u001b[0;32m~/opt/anaconda3/envs/school/lib/python3.7/site-packages/mlrose_hiive/gridsearch/grid_search_mixin.py\u001b[0m in \u001b[0;36m_perform_grid_search\u001b[0;34m(self, classifier, x_train, y_train, cv, parameters, n_jobs, verbose)\u001b[0m\n\u001b[1;32m     19\u001b[0m                                            \u001b[0mreturn_train_score\u001b[0m\u001b[0;34m=\u001b[0m\u001b[0;32mTrue\u001b[0m\u001b[0;34m,\u001b[0m\u001b[0;34m\u001b[0m\u001b[0;34m\u001b[0m\u001b[0m\n\u001b[1;32m     20\u001b[0m                                            verbose=verbose)\n\u001b[0;32m---> 21\u001b[0;31m         \u001b[0msearch_results\u001b[0m\u001b[0;34m.\u001b[0m\u001b[0mfit\u001b[0m\u001b[0;34m(\u001b[0m\u001b[0mx_train\u001b[0m\u001b[0;34m,\u001b[0m \u001b[0my_train\u001b[0m\u001b[0;34m)\u001b[0m\u001b[0;34m\u001b[0m\u001b[0;34m\u001b[0m\u001b[0m\n\u001b[0m\u001b[1;32m     22\u001b[0m         \u001b[0;32mreturn\u001b[0m \u001b[0msearch_results\u001b[0m\u001b[0;34m\u001b[0m\u001b[0;34m\u001b[0m\u001b[0m\n\u001b[1;32m     23\u001b[0m \u001b[0;34m\u001b[0m\u001b[0m\n",
      "\u001b[0;32m~/opt/anaconda3/envs/school/lib/python3.7/site-packages/sklearn/utils/validation.py\u001b[0m in \u001b[0;36minner_f\u001b[0;34m(*args, **kwargs)\u001b[0m\n\u001b[1;32m     61\u001b[0m             \u001b[0mextra_args\u001b[0m \u001b[0;34m=\u001b[0m \u001b[0mlen\u001b[0m\u001b[0;34m(\u001b[0m\u001b[0margs\u001b[0m\u001b[0;34m)\u001b[0m \u001b[0;34m-\u001b[0m \u001b[0mlen\u001b[0m\u001b[0;34m(\u001b[0m\u001b[0mall_args\u001b[0m\u001b[0;34m)\u001b[0m\u001b[0;34m\u001b[0m\u001b[0;34m\u001b[0m\u001b[0m\n\u001b[1;32m     62\u001b[0m             \u001b[0;32mif\u001b[0m \u001b[0mextra_args\u001b[0m \u001b[0;34m<=\u001b[0m \u001b[0;36m0\u001b[0m\u001b[0;34m:\u001b[0m\u001b[0;34m\u001b[0m\u001b[0;34m\u001b[0m\u001b[0m\n\u001b[0;32m---> 63\u001b[0;31m                 \u001b[0;32mreturn\u001b[0m \u001b[0mf\u001b[0m\u001b[0;34m(\u001b[0m\u001b[0;34m*\u001b[0m\u001b[0margs\u001b[0m\u001b[0;34m,\u001b[0m \u001b[0;34m**\u001b[0m\u001b[0mkwargs\u001b[0m\u001b[0;34m)\u001b[0m\u001b[0;34m\u001b[0m\u001b[0;34m\u001b[0m\u001b[0m\n\u001b[0m\u001b[1;32m     64\u001b[0m \u001b[0;34m\u001b[0m\u001b[0m\n\u001b[1;32m     65\u001b[0m             \u001b[0;31m# extra_args > 0\u001b[0m\u001b[0;34m\u001b[0m\u001b[0;34m\u001b[0m\u001b[0;34m\u001b[0m\u001b[0m\n",
      "\u001b[0;32m~/opt/anaconda3/envs/school/lib/python3.7/site-packages/sklearn/model_selection/_search.py\u001b[0m in \u001b[0;36mfit\u001b[0;34m(self, X, y, groups, **fit_params)\u001b[0m\n\u001b[1;32m    839\u001b[0m                 \u001b[0;32mreturn\u001b[0m \u001b[0mresults\u001b[0m\u001b[0;34m\u001b[0m\u001b[0;34m\u001b[0m\u001b[0m\n\u001b[1;32m    840\u001b[0m \u001b[0;34m\u001b[0m\u001b[0m\n\u001b[0;32m--> 841\u001b[0;31m             \u001b[0mself\u001b[0m\u001b[0;34m.\u001b[0m\u001b[0m_run_search\u001b[0m\u001b[0;34m(\u001b[0m\u001b[0mevaluate_candidates\u001b[0m\u001b[0;34m)\u001b[0m\u001b[0;34m\u001b[0m\u001b[0;34m\u001b[0m\u001b[0m\n\u001b[0m\u001b[1;32m    842\u001b[0m \u001b[0;34m\u001b[0m\u001b[0m\n\u001b[1;32m    843\u001b[0m             \u001b[0;31m# multimetric is determined here because in the case of a callable\u001b[0m\u001b[0;34m\u001b[0m\u001b[0;34m\u001b[0m\u001b[0;34m\u001b[0m\u001b[0m\n",
      "\u001b[0;32m~/opt/anaconda3/envs/school/lib/python3.7/site-packages/sklearn/model_selection/_search.py\u001b[0m in \u001b[0;36m_run_search\u001b[0;34m(self, evaluate_candidates)\u001b[0m\n\u001b[1;32m   1294\u001b[0m     \u001b[0;32mdef\u001b[0m \u001b[0m_run_search\u001b[0m\u001b[0;34m(\u001b[0m\u001b[0mself\u001b[0m\u001b[0;34m,\u001b[0m \u001b[0mevaluate_candidates\u001b[0m\u001b[0;34m)\u001b[0m\u001b[0;34m:\u001b[0m\u001b[0;34m\u001b[0m\u001b[0;34m\u001b[0m\u001b[0m\n\u001b[1;32m   1295\u001b[0m         \u001b[0;34m\"\"\"Search all candidates in param_grid\"\"\"\u001b[0m\u001b[0;34m\u001b[0m\u001b[0;34m\u001b[0m\u001b[0m\n\u001b[0;32m-> 1296\u001b[0;31m         \u001b[0mevaluate_candidates\u001b[0m\u001b[0;34m(\u001b[0m\u001b[0mParameterGrid\u001b[0m\u001b[0;34m(\u001b[0m\u001b[0mself\u001b[0m\u001b[0;34m.\u001b[0m\u001b[0mparam_grid\u001b[0m\u001b[0;34m)\u001b[0m\u001b[0;34m)\u001b[0m\u001b[0;34m\u001b[0m\u001b[0;34m\u001b[0m\u001b[0m\n\u001b[0m\u001b[1;32m   1297\u001b[0m \u001b[0;34m\u001b[0m\u001b[0m\n\u001b[1;32m   1298\u001b[0m \u001b[0;34m\u001b[0m\u001b[0m\n",
      "\u001b[0;32m~/opt/anaconda3/envs/school/lib/python3.7/site-packages/sklearn/model_selection/_search.py\u001b[0m in \u001b[0;36mevaluate_candidates\u001b[0;34m(candidate_params, cv, more_results)\u001b[0m\n\u001b[1;32m    825\u001b[0m                 \u001b[0;31m# of out will be done in `_insert_error_scores`.\u001b[0m\u001b[0;34m\u001b[0m\u001b[0;34m\u001b[0m\u001b[0;34m\u001b[0m\u001b[0m\n\u001b[1;32m    826\u001b[0m                 \u001b[0;32mif\u001b[0m \u001b[0mcallable\u001b[0m\u001b[0;34m(\u001b[0m\u001b[0mself\u001b[0m\u001b[0;34m.\u001b[0m\u001b[0mscoring\u001b[0m\u001b[0;34m)\u001b[0m\u001b[0;34m:\u001b[0m\u001b[0;34m\u001b[0m\u001b[0;34m\u001b[0m\u001b[0m\n\u001b[0;32m--> 827\u001b[0;31m                     \u001b[0m_insert_error_scores\u001b[0m\u001b[0;34m(\u001b[0m\u001b[0mout\u001b[0m\u001b[0;34m,\u001b[0m \u001b[0mself\u001b[0m\u001b[0;34m.\u001b[0m\u001b[0merror_score\u001b[0m\u001b[0;34m)\u001b[0m\u001b[0;34m\u001b[0m\u001b[0;34m\u001b[0m\u001b[0m\n\u001b[0m\u001b[1;32m    828\u001b[0m                 \u001b[0mall_candidate_params\u001b[0m\u001b[0;34m.\u001b[0m\u001b[0mextend\u001b[0m\u001b[0;34m(\u001b[0m\u001b[0mcandidate_params\u001b[0m\u001b[0;34m)\u001b[0m\u001b[0;34m\u001b[0m\u001b[0;34m\u001b[0m\u001b[0m\n\u001b[1;32m    829\u001b[0m                 \u001b[0mall_out\u001b[0m\u001b[0;34m.\u001b[0m\u001b[0mextend\u001b[0m\u001b[0;34m(\u001b[0m\u001b[0mout\u001b[0m\u001b[0;34m)\u001b[0m\u001b[0;34m\u001b[0m\u001b[0;34m\u001b[0m\u001b[0m\n",
      "\u001b[0;32m~/opt/anaconda3/envs/school/lib/python3.7/site-packages/sklearn/model_selection/_validation.py\u001b[0m in \u001b[0;36m_insert_error_scores\u001b[0;34m(results, error_score)\u001b[0m\n\u001b[1;32m    299\u001b[0m \u001b[0;34m\u001b[0m\u001b[0m\n\u001b[1;32m    300\u001b[0m     \u001b[0;32mif\u001b[0m \u001b[0msuccessful_score\u001b[0m \u001b[0;32mis\u001b[0m \u001b[0;32mNone\u001b[0m\u001b[0;34m:\u001b[0m\u001b[0;34m\u001b[0m\u001b[0;34m\u001b[0m\u001b[0m\n\u001b[0;32m--> 301\u001b[0;31m         \u001b[0;32mraise\u001b[0m \u001b[0mNotFittedError\u001b[0m\u001b[0;34m(\u001b[0m\u001b[0;34m\"All estimators failed to fit\"\u001b[0m\u001b[0;34m)\u001b[0m\u001b[0;34m\u001b[0m\u001b[0;34m\u001b[0m\u001b[0m\n\u001b[0m\u001b[1;32m    302\u001b[0m \u001b[0;34m\u001b[0m\u001b[0m\n\u001b[1;32m    303\u001b[0m     \u001b[0;32mif\u001b[0m \u001b[0misinstance\u001b[0m\u001b[0;34m(\u001b[0m\u001b[0msuccessful_score\u001b[0m\u001b[0;34m,\u001b[0m \u001b[0mdict\u001b[0m\u001b[0;34m)\u001b[0m\u001b[0;34m:\u001b[0m\u001b[0;34m\u001b[0m\u001b[0;34m\u001b[0m\u001b[0m\n",
      "\u001b[0;31mNotFittedError\u001b[0m: All estimators failed to fit"
     ]
    }
   ],
   "source": [
    "params=dict(schedule=[mlr.GeomDecay(init_temp=0.1)], max_iters=[5000], activation=[\"relu\"])\n",
    "sa_runner = NNGSRunner(\n",
    "    X_train_norm,\n",
    "    y_train,\n",
    "    X_test_norm,\n",
    "    y_test,\n",
    "    'sa-nn-test',\n",
    "    12345,\n",
    "    [1, 10, 50, 100, 250, 500, 1000, 2500, 5000, 10000],\n",
    "    mlr.algorithms.sa.simulated_annealing,\n",
    "    params,\n",
    "    hidden_layer_sizes=[[len(features)]],\n",
    "    generate_curves=True,\n",
    ")\n",
    "sa_results = sa_runner.run()"
   ]
  },
  {
   "cell_type": "code",
   "execution_count": 39,
   "id": "1ff47948-ad67-4cc4-8972-5310c6272b0e",
   "metadata": {},
   "outputs": [
    {
     "ename": "KeyboardInterrupt",
     "evalue": "",
     "output_type": "error",
     "traceback": [
      "\u001b[0;31m---------------------------------------------------------------------------\u001b[0m",
      "\u001b[0;31mKeyboardInterrupt\u001b[0m                         Traceback (most recent call last)",
      "\u001b[0;32m<ipython-input-39-d2d339e30d03>\u001b[0m in \u001b[0;36m<module>\u001b[0;34m\u001b[0m\n\u001b[1;32m     17\u001b[0m         \u001b[0mrestarts\u001b[0m\u001b[0;34m=\u001b[0m\u001b[0;36m50\u001b[0m\u001b[0;34m\u001b[0m\u001b[0;34m\u001b[0m\u001b[0m\n\u001b[1;32m     18\u001b[0m     )\n\u001b[0;32m---> 19\u001b[0;31m     \u001b[0mmodel\u001b[0m\u001b[0;34m.\u001b[0m\u001b[0mfit\u001b[0m\u001b[0;34m(\u001b[0m\u001b[0mX_train_norm\u001b[0m\u001b[0;34m,\u001b[0m \u001b[0my_train\u001b[0m\u001b[0;34m)\u001b[0m\u001b[0;34m\u001b[0m\u001b[0;34m\u001b[0m\u001b[0m\n\u001b[0m\u001b[1;32m     20\u001b[0m     \u001b[0mrun_time\u001b[0m \u001b[0;34m=\u001b[0m \u001b[0mtime\u001b[0m\u001b[0;34m.\u001b[0m\u001b[0mperf_counter\u001b[0m\u001b[0;34m(\u001b[0m\u001b[0;34m)\u001b[0m \u001b[0;34m-\u001b[0m \u001b[0mstart_time\u001b[0m\u001b[0;34m\u001b[0m\u001b[0;34m\u001b[0m\u001b[0m\n\u001b[1;32m     21\u001b[0m     \u001b[0my_test_pred\u001b[0m \u001b[0;34m=\u001b[0m \u001b[0mmodel\u001b[0m\u001b[0;34m.\u001b[0m\u001b[0mpredict\u001b[0m\u001b[0;34m(\u001b[0m\u001b[0mX_test_norm\u001b[0m\u001b[0;34m)\u001b[0m\u001b[0;34m\u001b[0m\u001b[0;34m\u001b[0m\u001b[0m\n",
      "\u001b[0;32m~/opt/anaconda3/envs/school/lib/python3.7/site-packages/mlrose_hiive/neural/_nn_core.py\u001b[0m in \u001b[0;36mfit\u001b[0;34m(self, X, y, init_weights)\u001b[0m\n\u001b[1;32m    151\u001b[0m \u001b[0;34m\u001b[0m\u001b[0m\n\u001b[1;32m    152\u001b[0m         \u001b[0;32mif\u001b[0m \u001b[0mself\u001b[0m\u001b[0;34m.\u001b[0m\u001b[0malgorithm\u001b[0m \u001b[0;34m==\u001b[0m \u001b[0;34m'random_hill_climb'\u001b[0m\u001b[0;34m:\u001b[0m\u001b[0;34m\u001b[0m\u001b[0;34m\u001b[0m\u001b[0m\n\u001b[0;32m--> 153\u001b[0;31m             \u001b[0mfitness_curve\u001b[0m\u001b[0;34m,\u001b[0m \u001b[0mfitted_weights\u001b[0m\u001b[0;34m,\u001b[0m \u001b[0mloss\u001b[0m \u001b[0;34m=\u001b[0m \u001b[0mself\u001b[0m\u001b[0;34m.\u001b[0m\u001b[0m__run_with_rhc\u001b[0m\u001b[0;34m(\u001b[0m\u001b[0minit_weights\u001b[0m\u001b[0;34m,\u001b[0m \u001b[0mnum_nodes\u001b[0m\u001b[0;34m,\u001b[0m \u001b[0mproblem\u001b[0m\u001b[0;34m)\u001b[0m\u001b[0;34m\u001b[0m\u001b[0;34m\u001b[0m\u001b[0m\n\u001b[0m\u001b[1;32m    154\u001b[0m \u001b[0;34m\u001b[0m\u001b[0m\n\u001b[1;32m    155\u001b[0m         \u001b[0;32melif\u001b[0m \u001b[0mself\u001b[0m\u001b[0;34m.\u001b[0m\u001b[0malgorithm\u001b[0m \u001b[0;34m==\u001b[0m \u001b[0;34m'simulated_annealing'\u001b[0m\u001b[0;34m:\u001b[0m\u001b[0;34m\u001b[0m\u001b[0;34m\u001b[0m\u001b[0m\n",
      "\u001b[0;32m~/opt/anaconda3/envs/school/lib/python3.7/site-packages/mlrose_hiive/neural/_nn_core.py\u001b[0m in \u001b[0;36m__run_with_rhc\u001b[0;34m(self, init_weights, num_nodes, problem)\u001b[0m\n\u001b[1;32m    254\u001b[0m                     \u001b[0;32melse\u001b[0m \u001b[0mself\u001b[0m\u001b[0;34m.\u001b[0m\u001b[0mmax_iters\u001b[0m\u001b[0;34m,\u001b[0m\u001b[0;34m\u001b[0m\u001b[0;34m\u001b[0m\u001b[0m\n\u001b[1;32m    255\u001b[0m                     \u001b[0mmax_iters\u001b[0m\u001b[0;34m=\u001b[0m\u001b[0mself\u001b[0m\u001b[0;34m.\u001b[0m\u001b[0mmax_iters\u001b[0m\u001b[0;34m,\u001b[0m\u001b[0;34m\u001b[0m\u001b[0;34m\u001b[0m\u001b[0m\n\u001b[0;32m--> 256\u001b[0;31m                     restarts=0, init_state=init_weights, curve=self.curve)\n\u001b[0m\u001b[1;32m    257\u001b[0m \u001b[0;34m\u001b[0m\u001b[0m\n\u001b[1;32m    258\u001b[0m             \u001b[0;32mif\u001b[0m \u001b[0mcurrent_loss\u001b[0m \u001b[0;34m<\u001b[0m \u001b[0mloss\u001b[0m\u001b[0;34m:\u001b[0m\u001b[0;34m\u001b[0m\u001b[0;34m\u001b[0m\u001b[0m\n",
      "\u001b[0;32m~/opt/anaconda3/envs/school/lib/python3.7/site-packages/mlrose_hiive/algorithms/rhc.py\u001b[0m in \u001b[0;36mrandom_hill_climb\u001b[0;34m(problem, max_attempts, max_iters, restarts, init_state, curve, random_state, state_fitness_callback, callback_user_info)\u001b[0m\n\u001b[1;32m    119\u001b[0m             \u001b[0;31m# Find random neighbor and evaluate fitness\u001b[0m\u001b[0;34m\u001b[0m\u001b[0;34m\u001b[0m\u001b[0;34m\u001b[0m\u001b[0m\n\u001b[1;32m    120\u001b[0m             \u001b[0mnext_state\u001b[0m \u001b[0;34m=\u001b[0m \u001b[0mproblem\u001b[0m\u001b[0;34m.\u001b[0m\u001b[0mrandom_neighbor\u001b[0m\u001b[0;34m(\u001b[0m\u001b[0;34m)\u001b[0m\u001b[0;34m\u001b[0m\u001b[0;34m\u001b[0m\u001b[0m\n\u001b[0;32m--> 121\u001b[0;31m             \u001b[0mnext_fitness\u001b[0m \u001b[0;34m=\u001b[0m \u001b[0mproblem\u001b[0m\u001b[0;34m.\u001b[0m\u001b[0meval_fitness\u001b[0m\u001b[0;34m(\u001b[0m\u001b[0mnext_state\u001b[0m\u001b[0;34m)\u001b[0m\u001b[0;34m\u001b[0m\u001b[0;34m\u001b[0m\u001b[0m\n\u001b[0m\u001b[1;32m    122\u001b[0m \u001b[0;34m\u001b[0m\u001b[0m\n\u001b[1;32m    123\u001b[0m             \u001b[0;31m# If best neighbor is an improvement,\u001b[0m\u001b[0;34m\u001b[0m\u001b[0;34m\u001b[0m\u001b[0;34m\u001b[0m\u001b[0m\n",
      "\u001b[0;32m~/opt/anaconda3/envs/school/lib/python3.7/site-packages/mlrose_hiive/opt_probs/_opt_prob.py\u001b[0m in \u001b[0;36meval_fitness\u001b[0;34m(self, state)\u001b[0m\n\u001b[1;32m     96\u001b[0m             \u001b[0;32mraise\u001b[0m \u001b[0mException\u001b[0m\u001b[0;34m(\u001b[0m\u001b[0;34m\"state length must match problem length\"\u001b[0m\u001b[0;34m)\u001b[0m\u001b[0;34m\u001b[0m\u001b[0;34m\u001b[0m\u001b[0m\n\u001b[1;32m     97\u001b[0m \u001b[0;34m\u001b[0m\u001b[0m\n\u001b[0;32m---> 98\u001b[0;31m         \u001b[0mfitness\u001b[0m \u001b[0;34m=\u001b[0m \u001b[0mself\u001b[0m\u001b[0;34m.\u001b[0m\u001b[0mmaximize\u001b[0m\u001b[0;34m*\u001b[0m\u001b[0mself\u001b[0m\u001b[0;34m.\u001b[0m\u001b[0mfitness_fn\u001b[0m\u001b[0;34m.\u001b[0m\u001b[0mevaluate\u001b[0m\u001b[0;34m(\u001b[0m\u001b[0mstate\u001b[0m\u001b[0;34m)\u001b[0m\u001b[0;34m\u001b[0m\u001b[0;34m\u001b[0m\u001b[0m\n\u001b[0m\u001b[1;32m     99\u001b[0m         \u001b[0;31m# increment fevals for the current iteration\u001b[0m\u001b[0;34m\u001b[0m\u001b[0;34m\u001b[0m\u001b[0;34m\u001b[0m\u001b[0m\n\u001b[1;32m    100\u001b[0m         \u001b[0mself\u001b[0m\u001b[0;34m.\u001b[0m\u001b[0mfitness_evaluations\u001b[0m \u001b[0;34m+=\u001b[0m \u001b[0;36m1\u001b[0m\u001b[0;34m\u001b[0m\u001b[0;34m\u001b[0m\u001b[0m\n",
      "\u001b[0;32m~/opt/anaconda3/envs/school/lib/python3.7/site-packages/mlrose_hiive/neural/fitness/network_weights.py\u001b[0m in \u001b[0;36mevaluate\u001b[0;34m(self, state)\u001b[0m\n\u001b[1;32m    122\u001b[0m \u001b[0;34m\u001b[0m\u001b[0m\n\u001b[1;32m    123\u001b[0m         \u001b[0mself\u001b[0m\u001b[0;34m.\u001b[0m\u001b[0minputs_list\u001b[0m \u001b[0;34m=\u001b[0m \u001b[0;34m[\u001b[0m\u001b[0;34m]\u001b[0m\u001b[0;34m\u001b[0m\u001b[0;34m\u001b[0m\u001b[0m\n\u001b[0;32m--> 124\u001b[0;31m         \u001b[0mself\u001b[0m\u001b[0;34m.\u001b[0m\u001b[0mweights\u001b[0m \u001b[0;34m=\u001b[0m \u001b[0munflatten_weights\u001b[0m\u001b[0;34m(\u001b[0m\u001b[0mstate\u001b[0m\u001b[0;34m,\u001b[0m \u001b[0mself\u001b[0m\u001b[0;34m.\u001b[0m\u001b[0mnode_list\u001b[0m\u001b[0;34m)\u001b[0m\u001b[0;34m\u001b[0m\u001b[0;34m\u001b[0m\u001b[0m\n\u001b[0m\u001b[1;32m    125\u001b[0m \u001b[0;34m\u001b[0m\u001b[0m\n\u001b[1;32m    126\u001b[0m         \u001b[0;31m# Add bias column to inputs matrix, if required\u001b[0m\u001b[0;34m\u001b[0m\u001b[0;34m\u001b[0m\u001b[0;34m\u001b[0m\u001b[0m\n",
      "\u001b[0;31mKeyboardInterrupt\u001b[0m: "
     ]
    }
   ],
   "source": [
    "iterations = [100, 250, 500, 1000, 2500, 5000]\n",
    "attempts = [25, 50]\n",
    "restarts = [10, 50]\n",
    "labels = ['max_attempts', 'max_iters', 'restarts', 'run_time', 'accuracy', 'error']\n",
    "results_list = []\n",
    "for max_iter in iterations:\n",
    "    start_time = time.perf_counter()\n",
    "    model = mlr.NeuralNetwork(\n",
    "        hidden_nodes=[len(features)],\n",
    "        is_classifier=True,\n",
    "        learning_rate=0.1,\n",
    "        early_stopping=True,\n",
    "        random_state=12345,\n",
    "        algorithm='random_hill_climb',\n",
    "        max_iters=max_iter,\n",
    "        max_attempts=25,\n",
    "        restarts=50\n",
    "    )\n",
    "    model.fit(X_train_norm, y_train)\n",
    "    run_time = time.perf_counter() - start_time\n",
    "    y_test_pred = model.predict(X_test_norm)\n",
    "    y_test_accuracy = accuracy_score(y_test, y_test_pred)\n",
    "    y_test_error = 1.0 - y_test_accuracy\n",
    "    y_test_confusion = confusion_matrix(y_test, y_test_pred)\n",
    "    joblib.dump(y_test_confusion, f\"nn/rhc/confusion,iter{max_iter},a{25},r{50}.pkl\")\n",
    "    results_list.append((a, max_iter, r, run_time, y_test_accuracy, y_test_error))\n",
    "\n",
    "rhc_vary_iterations = pd.DataFrame.from_records(results_list, columns=labels)\n",
    "joblib.dump(rhc_vary_iterations, \"nn/rhc/rhc_results_vary_iteration.pkl\")"
   ]
  },
  {
   "cell_type": "code",
   "execution_count": 45,
   "id": "d37758a4-6afd-47a7-a51f-a8f88cb133ab",
   "metadata": {},
   "outputs": [
    {
     "data": {
      "text/plain": [
       "['nn/sa/sa_results_vary_iteration.pkl']"
      ]
     },
     "execution_count": 45,
     "metadata": {},
     "output_type": "execute_result"
    }
   ],
   "source": [
    "iterations = [50, 100, 250, 500, 1000, 1500, 2000, 2500, 5000, 7500, 10000]\n",
    "labels = ['max_attempts', 'max_iters', 'temp', 'run_time', 'accuracy', 'error', 'loss']\n",
    "results_list = []\n",
    "attempts = 100\n",
    "temp = 10.0\n",
    "for max_iter in iterations:\n",
    "    start_time = time.perf_counter()\n",
    "    model = mlr.NeuralNetwork(\n",
    "        hidden_nodes=[len(features)],\n",
    "        is_classifier=True,\n",
    "        learning_rate=0.1,\n",
    "        early_stopping=True,\n",
    "        random_state=12345,\n",
    "        algorithm='simulated_annealing',\n",
    "        max_iters=max_iter,\n",
    "        max_attempts=attempts,\n",
    "        schedule=mlr.GeomDecay(init_temp=temp)\n",
    "    )\n",
    "    model.fit(X_train_norm, y_train)\n",
    "    run_time = time.perf_counter() - start_time\n",
    "    y_test_pred = model.predict(X_test_norm)\n",
    "    y_test_accuracy = accuracy_score(y_test, y_test_pred)\n",
    "    y_test_error = 1.0 - y_test_accuracy\n",
    "    loss = model.loss\n",
    "    y_test_confusion = confusion_matrix(y_test, y_test_pred)\n",
    "    joblib.dump(y_test_confusion, f\"nn/sa/confusion,iter{max_iter},a{attempts},temp{temp}.pkl\")\n",
    "    results_list.append((attempts, max_iter, temp, run_time, y_test_accuracy, y_test_error))\n",
    "\n",
    "sa_vary_iterations_res = pd.DataFrame.from_records(results_list, columns=labels)\n",
    "joblib.dump(sa_vary_iterations_res, \"nn/sa/sa_results_vary_iteration.pkl\")"
   ]
  },
  {
   "cell_type": "code",
   "execution_count": 46,
   "id": "a2d318f8-ebaa-4069-9d7d-76a74e06ba60",
   "metadata": {},
   "outputs": [
    {
     "data": {
      "text/html": [
       "<div>\n",
       "<style scoped>\n",
       "    .dataframe tbody tr th:only-of-type {\n",
       "        vertical-align: middle;\n",
       "    }\n",
       "\n",
       "    .dataframe tbody tr th {\n",
       "        vertical-align: top;\n",
       "    }\n",
       "\n",
       "    .dataframe thead th {\n",
       "        text-align: right;\n",
       "    }\n",
       "</style>\n",
       "<table border=\"1\" class=\"dataframe\">\n",
       "  <thead>\n",
       "    <tr style=\"text-align: right;\">\n",
       "      <th></th>\n",
       "      <th>max_attempts</th>\n",
       "      <th>max_iters</th>\n",
       "      <th>temp</th>\n",
       "      <th>run_time</th>\n",
       "      <th>accuracy</th>\n",
       "      <th>error</th>\n",
       "    </tr>\n",
       "  </thead>\n",
       "  <tbody>\n",
       "    <tr>\n",
       "      <th>0</th>\n",
       "      <td>100</td>\n",
       "      <td>50</td>\n",
       "      <td>10.0</td>\n",
       "      <td>0.107813</td>\n",
       "      <td>0.374269</td>\n",
       "      <td>0.625731</td>\n",
       "    </tr>\n",
       "    <tr>\n",
       "      <th>1</th>\n",
       "      <td>100</td>\n",
       "      <td>100</td>\n",
       "      <td>10.0</td>\n",
       "      <td>0.187325</td>\n",
       "      <td>0.374269</td>\n",
       "      <td>0.625731</td>\n",
       "    </tr>\n",
       "    <tr>\n",
       "      <th>2</th>\n",
       "      <td>100</td>\n",
       "      <td>250</td>\n",
       "      <td>10.0</td>\n",
       "      <td>0.478216</td>\n",
       "      <td>0.374269</td>\n",
       "      <td>0.625731</td>\n",
       "    </tr>\n",
       "    <tr>\n",
       "      <th>3</th>\n",
       "      <td>100</td>\n",
       "      <td>500</td>\n",
       "      <td>10.0</td>\n",
       "      <td>0.916041</td>\n",
       "      <td>0.374269</td>\n",
       "      <td>0.625731</td>\n",
       "    </tr>\n",
       "    <tr>\n",
       "      <th>4</th>\n",
       "      <td>100</td>\n",
       "      <td>1000</td>\n",
       "      <td>10.0</td>\n",
       "      <td>1.738954</td>\n",
       "      <td>0.374269</td>\n",
       "      <td>0.625731</td>\n",
       "    </tr>\n",
       "    <tr>\n",
       "      <th>5</th>\n",
       "      <td>100</td>\n",
       "      <td>1500</td>\n",
       "      <td>10.0</td>\n",
       "      <td>2.524283</td>\n",
       "      <td>0.432749</td>\n",
       "      <td>0.567251</td>\n",
       "    </tr>\n",
       "    <tr>\n",
       "      <th>6</th>\n",
       "      <td>100</td>\n",
       "      <td>2000</td>\n",
       "      <td>10.0</td>\n",
       "      <td>3.364793</td>\n",
       "      <td>0.760234</td>\n",
       "      <td>0.239766</td>\n",
       "    </tr>\n",
       "    <tr>\n",
       "      <th>7</th>\n",
       "      <td>100</td>\n",
       "      <td>2500</td>\n",
       "      <td>10.0</td>\n",
       "      <td>4.253869</td>\n",
       "      <td>0.830409</td>\n",
       "      <td>0.169591</td>\n",
       "    </tr>\n",
       "    <tr>\n",
       "      <th>8</th>\n",
       "      <td>100</td>\n",
       "      <td>5000</td>\n",
       "      <td>10.0</td>\n",
       "      <td>9.090069</td>\n",
       "      <td>0.906433</td>\n",
       "      <td>0.093567</td>\n",
       "    </tr>\n",
       "  </tbody>\n",
       "</table>\n",
       "</div>"
      ],
      "text/plain": [
       "   max_attempts  max_iters  temp  run_time  accuracy     error\n",
       "0           100         50  10.0  0.107813  0.374269  0.625731\n",
       "1           100        100  10.0  0.187325  0.374269  0.625731\n",
       "2           100        250  10.0  0.478216  0.374269  0.625731\n",
       "3           100        500  10.0  0.916041  0.374269  0.625731\n",
       "4           100       1000  10.0  1.738954  0.374269  0.625731\n",
       "5           100       1500  10.0  2.524283  0.432749  0.567251\n",
       "6           100       2000  10.0  3.364793  0.760234  0.239766\n",
       "7           100       2500  10.0  4.253869  0.830409  0.169591\n",
       "8           100       5000  10.0  9.090069  0.906433  0.093567"
      ]
     },
     "execution_count": 46,
     "metadata": {},
     "output_type": "execute_result"
    }
   ],
   "source": [
    "sa_vary_iterations_res"
   ]
  },
  {
   "cell_type": "code",
   "execution_count": 47,
   "id": "63b4556e-10e5-4458-94db-5429e9536b0e",
   "metadata": {},
   "outputs": [
    {
     "data": {
      "text/plain": [
       "['nn/ga/ga_results_vary_iteration.pkl']"
      ]
     },
     "execution_count": 47,
     "metadata": {},
     "output_type": "execute_result"
    }
   ],
   "source": [
    "iterations = [50, 100, 250, 500, 1000, 1500, 2000, 2500, 5000, 7500, 10000]\n",
    "labels = ['max_iters', 'population_size', 'mutation_percentag', 'run_time', 'accuracy', 'error']\n",
    "results_list = []\n",
    "pop = 100\n",
    "mut_prob = 0.4\n",
    "for max_iter in iterations:\n",
    "    start_time = time.perf_counter()\n",
    "    model = mlr.NeuralNetwork(\n",
    "        hidden_nodes=[len(features)],\n",
    "        is_classifier=True,\n",
    "        learning_rate=0.1,\n",
    "        early_stopping=True,\n",
    "        pop_size=pop,\n",
    "        mutation_prob=mut_prob,\n",
    "        random_state=12345,\n",
    "        algorithm='genetic_alg',\n",
    "        max_iters=1000,\n",
    "    )\n",
    "    model.fit(X_train_norm, y_train)\n",
    "    run_time = time.perf_counter() - start_time\n",
    "    y_test_pred = model.predict(X_test_norm)\n",
    "    y_test_accuracy = accuracy_score(y_test, y_test_pred)\n",
    "    y_test_error = 1.0 - y_test_accuracy\n",
    "    y_test_confusion = confusion_matrix(y_test, y_test_pred)\n",
    "    joblib.dump(y_test_confusion, f\"nn/ga/confusion,iter{max_iter},pop{pop},pct{mut_prob}.pkl\")\n",
    "    results_list.append((max_iter, pop, mut_prob, run_time, y_test_accuracy, y_test_error))\n",
    "\n",
    "ga_vary_iterations_res = pd.DataFrame.from_records(results_list, columns=labels)\n",
    "joblib.dump(ga_vary_iterations_res, \"nn/ga/ga_results_vary_iteration.pkl\")"
   ]
  },
  {
   "cell_type": "code",
   "execution_count": 48,
   "id": "b8c50b64-1237-4485-a8c4-fff64d601a62",
   "metadata": {},
   "outputs": [
    {
     "data": {
      "text/html": [
       "<div>\n",
       "<style scoped>\n",
       "    .dataframe tbody tr th:only-of-type {\n",
       "        vertical-align: middle;\n",
       "    }\n",
       "\n",
       "    .dataframe tbody tr th {\n",
       "        vertical-align: top;\n",
       "    }\n",
       "\n",
       "    .dataframe thead th {\n",
       "        text-align: right;\n",
       "    }\n",
       "</style>\n",
       "<table border=\"1\" class=\"dataframe\">\n",
       "  <thead>\n",
       "    <tr style=\"text-align: right;\">\n",
       "      <th></th>\n",
       "      <th>max_iters</th>\n",
       "      <th>population_size</th>\n",
       "      <th>mutation_percentag</th>\n",
       "      <th>run_time</th>\n",
       "      <th>accuracy</th>\n",
       "      <th>error</th>\n",
       "    </tr>\n",
       "  </thead>\n",
       "  <tbody>\n",
       "    <tr>\n",
       "      <th>0</th>\n",
       "      <td>50</td>\n",
       "      <td>100</td>\n",
       "      <td>0.4</td>\n",
       "      <td>2.160429</td>\n",
       "      <td>0.918129</td>\n",
       "      <td>0.081871</td>\n",
       "    </tr>\n",
       "    <tr>\n",
       "      <th>1</th>\n",
       "      <td>100</td>\n",
       "      <td>100</td>\n",
       "      <td>0.4</td>\n",
       "      <td>2.097338</td>\n",
       "      <td>0.918129</td>\n",
       "      <td>0.081871</td>\n",
       "    </tr>\n",
       "    <tr>\n",
       "      <th>2</th>\n",
       "      <td>250</td>\n",
       "      <td>100</td>\n",
       "      <td>0.4</td>\n",
       "      <td>2.091554</td>\n",
       "      <td>0.918129</td>\n",
       "      <td>0.081871</td>\n",
       "    </tr>\n",
       "    <tr>\n",
       "      <th>3</th>\n",
       "      <td>500</td>\n",
       "      <td>100</td>\n",
       "      <td>0.4</td>\n",
       "      <td>2.085193</td>\n",
       "      <td>0.918129</td>\n",
       "      <td>0.081871</td>\n",
       "    </tr>\n",
       "    <tr>\n",
       "      <th>4</th>\n",
       "      <td>1000</td>\n",
       "      <td>100</td>\n",
       "      <td>0.4</td>\n",
       "      <td>2.116501</td>\n",
       "      <td>0.918129</td>\n",
       "      <td>0.081871</td>\n",
       "    </tr>\n",
       "    <tr>\n",
       "      <th>5</th>\n",
       "      <td>1500</td>\n",
       "      <td>100</td>\n",
       "      <td>0.4</td>\n",
       "      <td>2.078501</td>\n",
       "      <td>0.918129</td>\n",
       "      <td>0.081871</td>\n",
       "    </tr>\n",
       "    <tr>\n",
       "      <th>6</th>\n",
       "      <td>2000</td>\n",
       "      <td>100</td>\n",
       "      <td>0.4</td>\n",
       "      <td>2.072347</td>\n",
       "      <td>0.918129</td>\n",
       "      <td>0.081871</td>\n",
       "    </tr>\n",
       "    <tr>\n",
       "      <th>7</th>\n",
       "      <td>2500</td>\n",
       "      <td>100</td>\n",
       "      <td>0.4</td>\n",
       "      <td>2.083233</td>\n",
       "      <td>0.918129</td>\n",
       "      <td>0.081871</td>\n",
       "    </tr>\n",
       "    <tr>\n",
       "      <th>8</th>\n",
       "      <td>5000</td>\n",
       "      <td>100</td>\n",
       "      <td>0.4</td>\n",
       "      <td>2.070112</td>\n",
       "      <td>0.918129</td>\n",
       "      <td>0.081871</td>\n",
       "    </tr>\n",
       "    <tr>\n",
       "      <th>9</th>\n",
       "      <td>7500</td>\n",
       "      <td>100</td>\n",
       "      <td>0.4</td>\n",
       "      <td>2.157003</td>\n",
       "      <td>0.918129</td>\n",
       "      <td>0.081871</td>\n",
       "    </tr>\n",
       "    <tr>\n",
       "      <th>10</th>\n",
       "      <td>10000</td>\n",
       "      <td>100</td>\n",
       "      <td>0.4</td>\n",
       "      <td>2.087729</td>\n",
       "      <td>0.918129</td>\n",
       "      <td>0.081871</td>\n",
       "    </tr>\n",
       "  </tbody>\n",
       "</table>\n",
       "</div>"
      ],
      "text/plain": [
       "    max_iters  population_size  mutation_percentag  run_time  accuracy  \\\n",
       "0          50              100                 0.4  2.160429  0.918129   \n",
       "1         100              100                 0.4  2.097338  0.918129   \n",
       "2         250              100                 0.4  2.091554  0.918129   \n",
       "3         500              100                 0.4  2.085193  0.918129   \n",
       "4        1000              100                 0.4  2.116501  0.918129   \n",
       "5        1500              100                 0.4  2.078501  0.918129   \n",
       "6        2000              100                 0.4  2.072347  0.918129   \n",
       "7        2500              100                 0.4  2.083233  0.918129   \n",
       "8        5000              100                 0.4  2.070112  0.918129   \n",
       "9        7500              100                 0.4  2.157003  0.918129   \n",
       "10      10000              100                 0.4  2.087729  0.918129   \n",
       "\n",
       "       error  \n",
       "0   0.081871  \n",
       "1   0.081871  \n",
       "2   0.081871  \n",
       "3   0.081871  \n",
       "4   0.081871  \n",
       "5   0.081871  \n",
       "6   0.081871  \n",
       "7   0.081871  \n",
       "8   0.081871  \n",
       "9   0.081871  \n",
       "10  0.081871  "
      ]
     },
     "execution_count": 48,
     "metadata": {},
     "output_type": "execute_result"
    }
   ],
   "source": [
    "ga_vary_iterations_res"
   ]
  },
  {
   "cell_type": "code",
   "execution_count": 75,
   "id": "3814c418-64ea-4a6f-8200-d08d067bb396",
   "metadata": {},
   "outputs": [
    {
     "data": {
      "text/plain": [
       "NeuralNetwork(algorithm='simulated_annealing', curve=True, early_stopping=True,\n",
       "              hidden_nodes=[30], max_attempts=100, max_iters=2500,\n",
       "              random_state=12345,\n",
       "              schedule=GeomDecay(init_temp=10.0, decay=0.99, min_temp=0.001))"
      ]
     },
     "execution_count": 75,
     "metadata": {},
     "output_type": "execute_result"
    }
   ],
   "source": [
    "sa_model = mlr.NeuralNetwork(\n",
    "    hidden_nodes=[len(features)],\n",
    "    is_classifier=True,\n",
    "    learning_rate=0.1,\n",
    "    early_stopping=True,\n",
    "    random_state=12345,\n",
    "    algorithm='simulated_annealing',\n",
    "    max_iters=2500,\n",
    "    max_attempts=100,\n",
    "    schedule=mlr.GeomDecay(init_temp=10.0),\n",
    "    curve=True\n",
    ")\n",
    "sa_model.fit(X_train_norm, y_train)"
   ]
  },
  {
   "cell_type": "code",
   "execution_count": 76,
   "id": "027b65d5-90f5-4180-a67b-60653643f97e",
   "metadata": {},
   "outputs": [
    {
     "data": {
      "text/plain": [
       "array([[2.19951670e+00, 3.00000000e+00],\n",
       "       [2.19601987e+00, 5.00000000e+00],\n",
       "       [2.19598638e+00, 7.00000000e+00],\n",
       "       ...,\n",
       "       [4.94078205e-01, 4.57500000e+03],\n",
       "       [4.93565062e-01, 4.57700000e+03],\n",
       "       [4.93851296e-01, 4.57900000e+03]])"
      ]
     },
     "execution_count": 76,
     "metadata": {},
     "output_type": "execute_result"
    }
   ],
   "source": [
    "sa_model.fitness_curve"
   ]
  },
  {
   "cell_type": "code",
   "execution_count": 77,
   "id": "df7c3564-7b8e-4a9a-a84b-674816df69ba",
   "metadata": {},
   "outputs": [
    {
     "data": {
      "text/plain": [
       "0.8304093567251462"
      ]
     },
     "execution_count": 77,
     "metadata": {},
     "output_type": "execute_result"
    }
   ],
   "source": [
    "y_test_pred = sa_model.predict(X_test_norm)\n",
    "y_test_accuracy = accuracy_score(y_test, y_test_pred)\n",
    "y_test_accuracy"
   ]
  },
  {
   "cell_type": "code",
   "execution_count": 57,
   "id": "8f05c211-8912-4c90-a92c-6655e1faa5c5",
   "metadata": {},
   "outputs": [],
   "source": [
    "ga_model = mlr.NeuralNetwork(\n",
    "    hidden_nodes=[len(features)],\n",
    "    is_classifier=True,\n",
    "    learning_rate=0.1,\n",
    "    early_stopping=True,\n",
    "    pop_size=100,\n",
    "    mutation_prob=0.4,\n",
    "    random_state=12345,\n",
    "    algorithm='genetic_alg',\n",
    "    max_iters=1000,\n",
    ")"
   ]
  },
  {
   "cell_type": "code",
   "execution_count": 36,
   "id": "59c1d092-105f-4f41-82d9-408e5e41f699",
   "metadata": {},
   "outputs": [
    {
     "data": {
      "image/png": "[encoded data removed]",
      "text/plain": [
       "<Figure size 432x288 with 1 Axes>"
      ]
     },
     "metadata": {
      "needs_background": "light"
     },
     "output_type": "display_data"
    }
   ],
   "source": [
    "plot.plot_learning_curve(ga_model, X_train_norm, y_train, title=\"GA Learning Curve\")"
   ]
  },
  {
   "cell_type": "code",
   "execution_count": null,
   "id": "c3329930-3831-4fed-bc6f-3bf7cc20b3a9",
   "metadata": {},
   "outputs": [],
   "source": [
    "ga_model = mlr.NeuralNetwork(\n",
    "    hidden_nodes=[len(features)],\n",
    "    is_classifier=True,\n",
    "    learning_rate=0.1,\n",
    "    early_stopping=True,\n",
    "    pop_size=400,\n",
    "    mutation_prob=0.1,\n",
    "    random_state=12345,\n",
    "    algorithm='genetic_alg',\n",
    "    max_iters=1000,\n",
    ")\n",
    "ga_model."
   ]
  }
 ],
 "metadata": {
  "kernelspec": {
   "display_name": "Python 3",
   "language": "python",
   "name": "python3"
  },
  "language_info": {
   "codemirror_mode": {
    "name": "ipython",
    "version": 3
   },
   "file_extension": ".py",
   "mimetype": "text/x-python",
   "name": "python",
   "nbconvert_exporter": "python",
   "pygments_lexer": "ipython3",
   "version": "3.7.11"
  }
 },
 "nbformat": 4,
 "nbformat_minor": 5
}
