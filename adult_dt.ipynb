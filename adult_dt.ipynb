{
 "cells": [
  {
   "cell_type": "code",
   "execution_count": 2,
   "id": "65d0e26c-bda1-40e1-9c5a-e4ab7d0fd985",
   "metadata": {},
   "outputs": [],
   "source": [
    "import pandas as pd\n",
    "import numpy as np\n",
    "import matplotlib.pyplot as plt\n",
    "import tensorflow as tf\n",
    "import loader\n",
    "import plot\n",
    "import helpers\n",
    "import importlib\n",
    "importlib.reload(loader)\n",
    "importlib.reload(plot)\n",
    "importlib.reload(helpers)\n",
    "from sklearn.metrics import confusion_matrix, ConfusionMatrixDisplay, accuracy_score\n",
    "from sklearn.model_selection import RepeatedStratifiedKFold\n",
    "from sklearn.neighbors import KNeighborsClassifier\n",
    "from tensorflow.keras.utils import to_categorical\n",
    "from sklearn.preprocessing import MinMaxScaler\n",
    "from sklearn.model_selection import GridSearchCV\n",
    "from tensorflow.keras.models import Sequential\n",
    "from tensorflow.keras.layers import Dense\n",
    "from tensorflow.keras.wrappers.scikit_learn import KerasClassifier\n",
    "from sklearn.model_selection import ShuffleSplit, cross_val_score, train_test_split, StratifiedKFold, learning_curve\n",
    "from sklearn.tree import DecisionTreeClassifier, plot_tree\n",
    "from sklearn.neural_network import MLPClassifier\n",
    "from sklearn.preprocessing import LabelEncoder\n",
    "from tensorflow.keras.optimizers import RMSprop\n",
    "from sklearn.ensemble import AdaBoostClassifier"
   ]
  },
  {
   "cell_type": "code",
   "execution_count": 3,
   "id": "1f065fc7-bd48-4996-86b7-bee3915be819",
   "metadata": {},
   "outputs": [
    {
     "data": {
      "text/plain": [
       "(32561, 109)"
      ]
     },
     "execution_count": 3,
     "metadata": {},
     "output_type": "execute_result"
    }
   ],
   "source": [
    "data = loader.load_adult_data()\n",
    "data.shape"
   ]
  },
  {
   "cell_type": "code",
   "execution_count": 4,
   "id": "5d4efc4a-b1f6-4a08-ba8a-92be1d53f96b",
   "metadata": {},
   "outputs": [
    {
     "data": {
      "text/html": [
       "<div>\n",
       "<style scoped>\n",
       "    .dataframe tbody tr th:only-of-type {\n",
       "        vertical-align: middle;\n",
       "    }\n",
       "\n",
       "    .dataframe tbody tr th {\n",
       "        vertical-align: top;\n",
       "    }\n",
       "\n",
       "    .dataframe thead th {\n",
       "        text-align: right;\n",
       "    }\n",
       "</style>\n",
       "<table border=\"1\" class=\"dataframe\">\n",
       "  <thead>\n",
       "    <tr style=\"text-align: right;\">\n",
       "      <th></th>\n",
       "      <th>age</th>\n",
       "      <th>fnlwgt</th>\n",
       "      <th>education-num</th>\n",
       "      <th>capital gain</th>\n",
       "      <th>capital loss</th>\n",
       "      <th>hours per week</th>\n",
       "      <th>workclass_ ?</th>\n",
       "      <th>workclass_ Federal-gov</th>\n",
       "      <th>workclass_ Local-gov</th>\n",
       "      <th>workclass_ Never-worked</th>\n",
       "      <th>...</th>\n",
       "      <th>country_ Puerto-Rico</th>\n",
       "      <th>country_ Scotland</th>\n",
       "      <th>country_ South</th>\n",
       "      <th>country_ Taiwan</th>\n",
       "      <th>country_ Thailand</th>\n",
       "      <th>country_ Trinadad&amp;Tobago</th>\n",
       "      <th>country_ United-States</th>\n",
       "      <th>country_ Vietnam</th>\n",
       "      <th>country_ Yugoslavia</th>\n",
       "      <th>target</th>\n",
       "    </tr>\n",
       "  </thead>\n",
       "  <tbody>\n",
       "    <tr>\n",
       "      <th>0</th>\n",
       "      <td>39</td>\n",
       "      <td>77516</td>\n",
       "      <td>13</td>\n",
       "      <td>2174</td>\n",
       "      <td>0</td>\n",
       "      <td>40</td>\n",
       "      <td>0</td>\n",
       "      <td>0</td>\n",
       "      <td>0</td>\n",
       "      <td>0</td>\n",
       "      <td>...</td>\n",
       "      <td>0</td>\n",
       "      <td>0</td>\n",
       "      <td>0</td>\n",
       "      <td>0</td>\n",
       "      <td>0</td>\n",
       "      <td>0</td>\n",
       "      <td>1</td>\n",
       "      <td>0</td>\n",
       "      <td>0</td>\n",
       "      <td>0</td>\n",
       "    </tr>\n",
       "    <tr>\n",
       "      <th>1</th>\n",
       "      <td>50</td>\n",
       "      <td>83311</td>\n",
       "      <td>13</td>\n",
       "      <td>0</td>\n",
       "      <td>0</td>\n",
       "      <td>13</td>\n",
       "      <td>0</td>\n",
       "      <td>0</td>\n",
       "      <td>0</td>\n",
       "      <td>0</td>\n",
       "      <td>...</td>\n",
       "      <td>0</td>\n",
       "      <td>0</td>\n",
       "      <td>0</td>\n",
       "      <td>0</td>\n",
       "      <td>0</td>\n",
       "      <td>0</td>\n",
       "      <td>1</td>\n",
       "      <td>0</td>\n",
       "      <td>0</td>\n",
       "      <td>0</td>\n",
       "    </tr>\n",
       "    <tr>\n",
       "      <th>2</th>\n",
       "      <td>38</td>\n",
       "      <td>215646</td>\n",
       "      <td>9</td>\n",
       "      <td>0</td>\n",
       "      <td>0</td>\n",
       "      <td>40</td>\n",
       "      <td>0</td>\n",
       "      <td>0</td>\n",
       "      <td>0</td>\n",
       "      <td>0</td>\n",
       "      <td>...</td>\n",
       "      <td>0</td>\n",
       "      <td>0</td>\n",
       "      <td>0</td>\n",
       "      <td>0</td>\n",
       "      <td>0</td>\n",
       "      <td>0</td>\n",
       "      <td>1</td>\n",
       "      <td>0</td>\n",
       "      <td>0</td>\n",
       "      <td>0</td>\n",
       "    </tr>\n",
       "    <tr>\n",
       "      <th>3</th>\n",
       "      <td>53</td>\n",
       "      <td>234721</td>\n",
       "      <td>7</td>\n",
       "      <td>0</td>\n",
       "      <td>0</td>\n",
       "      <td>40</td>\n",
       "      <td>0</td>\n",
       "      <td>0</td>\n",
       "      <td>0</td>\n",
       "      <td>0</td>\n",
       "      <td>...</td>\n",
       "      <td>0</td>\n",
       "      <td>0</td>\n",
       "      <td>0</td>\n",
       "      <td>0</td>\n",
       "      <td>0</td>\n",
       "      <td>0</td>\n",
       "      <td>1</td>\n",
       "      <td>0</td>\n",
       "      <td>0</td>\n",
       "      <td>0</td>\n",
       "    </tr>\n",
       "    <tr>\n",
       "      <th>4</th>\n",
       "      <td>28</td>\n",
       "      <td>338409</td>\n",
       "      <td>13</td>\n",
       "      <td>0</td>\n",
       "      <td>0</td>\n",
       "      <td>40</td>\n",
       "      <td>0</td>\n",
       "      <td>0</td>\n",
       "      <td>0</td>\n",
       "      <td>0</td>\n",
       "      <td>...</td>\n",
       "      <td>0</td>\n",
       "      <td>0</td>\n",
       "      <td>0</td>\n",
       "      <td>0</td>\n",
       "      <td>0</td>\n",
       "      <td>0</td>\n",
       "      <td>0</td>\n",
       "      <td>0</td>\n",
       "      <td>0</td>\n",
       "      <td>0</td>\n",
       "    </tr>\n",
       "  </tbody>\n",
       "</table>\n",
       "<p>5 rows × 109 columns</p>\n",
       "</div>"
      ],
      "text/plain": [
       "   age  fnlwgt  education-num  capital gain  capital loss  hours per week  \\\n",
       "0   39   77516             13          2174             0              40   \n",
       "1   50   83311             13             0             0              13   \n",
       "2   38  215646              9             0             0              40   \n",
       "3   53  234721              7             0             0              40   \n",
       "4   28  338409             13             0             0              40   \n",
       "\n",
       "   workclass_ ?  workclass_ Federal-gov  workclass_ Local-gov  \\\n",
       "0             0                       0                     0   \n",
       "1             0                       0                     0   \n",
       "2             0                       0                     0   \n",
       "3             0                       0                     0   \n",
       "4             0                       0                     0   \n",
       "\n",
       "   workclass_ Never-worked  ...  country_ Puerto-Rico  country_ Scotland  \\\n",
       "0                        0  ...                     0                  0   \n",
       "1                        0  ...                     0                  0   \n",
       "2                        0  ...                     0                  0   \n",
       "3                        0  ...                     0                  0   \n",
       "4                        0  ...                     0                  0   \n",
       "\n",
       "   country_ South  country_ Taiwan  country_ Thailand  \\\n",
       "0               0                0                  0   \n",
       "1               0                0                  0   \n",
       "2               0                0                  0   \n",
       "3               0                0                  0   \n",
       "4               0                0                  0   \n",
       "\n",
       "   country_ Trinadad&Tobago  country_ United-States  country_ Vietnam  \\\n",
       "0                         0                       1                 0   \n",
       "1                         0                       1                 0   \n",
       "2                         0                       1                 0   \n",
       "3                         0                       1                 0   \n",
       "4                         0                       0                 0   \n",
       "\n",
       "   country_ Yugoslavia  target  \n",
       "0                    0       0  \n",
       "1                    0       0  \n",
       "2                    0       0  \n",
       "3                    0       0  \n",
       "4                    0       0  \n",
       "\n",
       "[5 rows x 109 columns]"
      ]
     },
     "execution_count": 4,
     "metadata": {},
     "output_type": "execute_result"
    }
   ],
   "source": [
    "data.head()"
   ]
  },
  {
   "cell_type": "code",
   "execution_count": 5,
   "id": "312c9037-3d02-4dd5-ab3c-5114f670ab10",
   "metadata": {},
   "outputs": [
    {
     "data": {
      "text/html": [
       "<div>\n",
       "<style scoped>\n",
       "    .dataframe tbody tr th:only-of-type {\n",
       "        vertical-align: middle;\n",
       "    }\n",
       "\n",
       "    .dataframe tbody tr th {\n",
       "        vertical-align: top;\n",
       "    }\n",
       "\n",
       "    .dataframe thead th {\n",
       "        text-align: right;\n",
       "    }\n",
       "</style>\n",
       "<table border=\"1\" class=\"dataframe\">\n",
       "  <thead>\n",
       "    <tr style=\"text-align: right;\">\n",
       "      <th></th>\n",
       "      <th>age</th>\n",
       "      <th>fnlwgt</th>\n",
       "      <th>education-num</th>\n",
       "      <th>capital gain</th>\n",
       "      <th>capital loss</th>\n",
       "      <th>hours per week</th>\n",
       "      <th>workclass_ ?</th>\n",
       "      <th>workclass_ Federal-gov</th>\n",
       "      <th>workclass_ Local-gov</th>\n",
       "      <th>workclass_ Never-worked</th>\n",
       "      <th>...</th>\n",
       "      <th>country_ Portugal</th>\n",
       "      <th>country_ Puerto-Rico</th>\n",
       "      <th>country_ Scotland</th>\n",
       "      <th>country_ South</th>\n",
       "      <th>country_ Taiwan</th>\n",
       "      <th>country_ Thailand</th>\n",
       "      <th>country_ Trinadad&amp;Tobago</th>\n",
       "      <th>country_ United-States</th>\n",
       "      <th>country_ Vietnam</th>\n",
       "      <th>country_ Yugoslavia</th>\n",
       "    </tr>\n",
       "    <tr>\n",
       "      <th>target</th>\n",
       "      <th></th>\n",
       "      <th></th>\n",
       "      <th></th>\n",
       "      <th></th>\n",
       "      <th></th>\n",
       "      <th></th>\n",
       "      <th></th>\n",
       "      <th></th>\n",
       "      <th></th>\n",
       "      <th></th>\n",
       "      <th></th>\n",
       "      <th></th>\n",
       "      <th></th>\n",
       "      <th></th>\n",
       "      <th></th>\n",
       "      <th></th>\n",
       "      <th></th>\n",
       "      <th></th>\n",
       "      <th></th>\n",
       "      <th></th>\n",
       "      <th></th>\n",
       "    </tr>\n",
       "  </thead>\n",
       "  <tbody>\n",
       "    <tr>\n",
       "      <th>0</th>\n",
       "      <td>24720</td>\n",
       "      <td>24720</td>\n",
       "      <td>24720</td>\n",
       "      <td>24720</td>\n",
       "      <td>24720</td>\n",
       "      <td>24720</td>\n",
       "      <td>24720</td>\n",
       "      <td>24720</td>\n",
       "      <td>24720</td>\n",
       "      <td>24720</td>\n",
       "      <td>...</td>\n",
       "      <td>24720</td>\n",
       "      <td>24720</td>\n",
       "      <td>24720</td>\n",
       "      <td>24720</td>\n",
       "      <td>24720</td>\n",
       "      <td>24720</td>\n",
       "      <td>24720</td>\n",
       "      <td>24720</td>\n",
       "      <td>24720</td>\n",
       "      <td>24720</td>\n",
       "    </tr>\n",
       "    <tr>\n",
       "      <th>1</th>\n",
       "      <td>7841</td>\n",
       "      <td>7841</td>\n",
       "      <td>7841</td>\n",
       "      <td>7841</td>\n",
       "      <td>7841</td>\n",
       "      <td>7841</td>\n",
       "      <td>7841</td>\n",
       "      <td>7841</td>\n",
       "      <td>7841</td>\n",
       "      <td>7841</td>\n",
       "      <td>...</td>\n",
       "      <td>7841</td>\n",
       "      <td>7841</td>\n",
       "      <td>7841</td>\n",
       "      <td>7841</td>\n",
       "      <td>7841</td>\n",
       "      <td>7841</td>\n",
       "      <td>7841</td>\n",
       "      <td>7841</td>\n",
       "      <td>7841</td>\n",
       "      <td>7841</td>\n",
       "    </tr>\n",
       "  </tbody>\n",
       "</table>\n",
       "<p>2 rows × 108 columns</p>\n",
       "</div>"
      ],
      "text/plain": [
       "          age  fnlwgt  education-num  capital gain  capital loss  \\\n",
       "target                                                             \n",
       "0       24720   24720          24720         24720         24720   \n",
       "1        7841    7841           7841          7841          7841   \n",
       "\n",
       "        hours per week  workclass_ ?  workclass_ Federal-gov  \\\n",
       "target                                                         \n",
       "0                24720         24720                   24720   \n",
       "1                 7841          7841                    7841   \n",
       "\n",
       "        workclass_ Local-gov  workclass_ Never-worked  ...  country_ Portugal  \\\n",
       "target                                                 ...                      \n",
       "0                      24720                    24720  ...              24720   \n",
       "1                       7841                     7841  ...               7841   \n",
       "\n",
       "        country_ Puerto-Rico  country_ Scotland  country_ South  \\\n",
       "target                                                            \n",
       "0                      24720              24720           24720   \n",
       "1                       7841               7841            7841   \n",
       "\n",
       "        country_ Taiwan  country_ Thailand  country_ Trinadad&Tobago  \\\n",
       "target                                                                 \n",
       "0                 24720              24720                     24720   \n",
       "1                  7841               7841                      7841   \n",
       "\n",
       "        country_ United-States  country_ Vietnam  country_ Yugoslavia  \n",
       "target                                                                 \n",
       "0                        24720             24720                24720  \n",
       "1                         7841              7841                 7841  \n",
       "\n",
       "[2 rows x 108 columns]"
      ]
     },
     "execution_count": 5,
     "metadata": {},
     "output_type": "execute_result"
    }
   ],
   "source": [
    "data.groupby(by='target').count()"
   ]
  },
  {
   "cell_type": "code",
   "execution_count": 6,
   "id": "404c71de-57a2-435e-8b10-a0585d4b22b1",
   "metadata": {},
   "outputs": [
    {
     "data": {
      "text/html": [
       "<div>\n",
       "<style scoped>\n",
       "    .dataframe tbody tr th:only-of-type {\n",
       "        vertical-align: middle;\n",
       "    }\n",
       "\n",
       "    .dataframe tbody tr th {\n",
       "        vertical-align: top;\n",
       "    }\n",
       "\n",
       "    .dataframe thead th {\n",
       "        text-align: right;\n",
       "    }\n",
       "</style>\n",
       "<table border=\"1\" class=\"dataframe\">\n",
       "  <thead>\n",
       "    <tr style=\"text-align: right;\">\n",
       "      <th></th>\n",
       "      <th>age</th>\n",
       "      <th>fnlwgt</th>\n",
       "      <th>education-num</th>\n",
       "      <th>capital gain</th>\n",
       "      <th>capital loss</th>\n",
       "      <th>hours per week</th>\n",
       "      <th>workclass_ ?</th>\n",
       "      <th>workclass_ Federal-gov</th>\n",
       "      <th>workclass_ Local-gov</th>\n",
       "      <th>workclass_ Never-worked</th>\n",
       "      <th>...</th>\n",
       "      <th>country_ Puerto-Rico</th>\n",
       "      <th>country_ Scotland</th>\n",
       "      <th>country_ South</th>\n",
       "      <th>country_ Taiwan</th>\n",
       "      <th>country_ Thailand</th>\n",
       "      <th>country_ Trinadad&amp;Tobago</th>\n",
       "      <th>country_ United-States</th>\n",
       "      <th>country_ Vietnam</th>\n",
       "      <th>country_ Yugoslavia</th>\n",
       "      <th>target</th>\n",
       "    </tr>\n",
       "  </thead>\n",
       "  <tbody>\n",
       "    <tr>\n",
       "      <th>0</th>\n",
       "      <td>39</td>\n",
       "      <td>77516</td>\n",
       "      <td>13</td>\n",
       "      <td>2174</td>\n",
       "      <td>0</td>\n",
       "      <td>40</td>\n",
       "      <td>0</td>\n",
       "      <td>0</td>\n",
       "      <td>0</td>\n",
       "      <td>0</td>\n",
       "      <td>...</td>\n",
       "      <td>0</td>\n",
       "      <td>0</td>\n",
       "      <td>0</td>\n",
       "      <td>0</td>\n",
       "      <td>0</td>\n",
       "      <td>0</td>\n",
       "      <td>1</td>\n",
       "      <td>0</td>\n",
       "      <td>0</td>\n",
       "      <td>0</td>\n",
       "    </tr>\n",
       "    <tr>\n",
       "      <th>1</th>\n",
       "      <td>50</td>\n",
       "      <td>83311</td>\n",
       "      <td>13</td>\n",
       "      <td>0</td>\n",
       "      <td>0</td>\n",
       "      <td>13</td>\n",
       "      <td>0</td>\n",
       "      <td>0</td>\n",
       "      <td>0</td>\n",
       "      <td>0</td>\n",
       "      <td>...</td>\n",
       "      <td>0</td>\n",
       "      <td>0</td>\n",
       "      <td>0</td>\n",
       "      <td>0</td>\n",
       "      <td>0</td>\n",
       "      <td>0</td>\n",
       "      <td>1</td>\n",
       "      <td>0</td>\n",
       "      <td>0</td>\n",
       "      <td>0</td>\n",
       "    </tr>\n",
       "    <tr>\n",
       "      <th>2</th>\n",
       "      <td>38</td>\n",
       "      <td>215646</td>\n",
       "      <td>9</td>\n",
       "      <td>0</td>\n",
       "      <td>0</td>\n",
       "      <td>40</td>\n",
       "      <td>0</td>\n",
       "      <td>0</td>\n",
       "      <td>0</td>\n",
       "      <td>0</td>\n",
       "      <td>...</td>\n",
       "      <td>0</td>\n",
       "      <td>0</td>\n",
       "      <td>0</td>\n",
       "      <td>0</td>\n",
       "      <td>0</td>\n",
       "      <td>0</td>\n",
       "      <td>1</td>\n",
       "      <td>0</td>\n",
       "      <td>0</td>\n",
       "      <td>0</td>\n",
       "    </tr>\n",
       "    <tr>\n",
       "      <th>3</th>\n",
       "      <td>53</td>\n",
       "      <td>234721</td>\n",
       "      <td>7</td>\n",
       "      <td>0</td>\n",
       "      <td>0</td>\n",
       "      <td>40</td>\n",
       "      <td>0</td>\n",
       "      <td>0</td>\n",
       "      <td>0</td>\n",
       "      <td>0</td>\n",
       "      <td>...</td>\n",
       "      <td>0</td>\n",
       "      <td>0</td>\n",
       "      <td>0</td>\n",
       "      <td>0</td>\n",
       "      <td>0</td>\n",
       "      <td>0</td>\n",
       "      <td>1</td>\n",
       "      <td>0</td>\n",
       "      <td>0</td>\n",
       "      <td>0</td>\n",
       "    </tr>\n",
       "    <tr>\n",
       "      <th>4</th>\n",
       "      <td>28</td>\n",
       "      <td>338409</td>\n",
       "      <td>13</td>\n",
       "      <td>0</td>\n",
       "      <td>0</td>\n",
       "      <td>40</td>\n",
       "      <td>0</td>\n",
       "      <td>0</td>\n",
       "      <td>0</td>\n",
       "      <td>0</td>\n",
       "      <td>...</td>\n",
       "      <td>0</td>\n",
       "      <td>0</td>\n",
       "      <td>0</td>\n",
       "      <td>0</td>\n",
       "      <td>0</td>\n",
       "      <td>0</td>\n",
       "      <td>0</td>\n",
       "      <td>0</td>\n",
       "      <td>0</td>\n",
       "      <td>0</td>\n",
       "    </tr>\n",
       "  </tbody>\n",
       "</table>\n",
       "<p>5 rows × 109 columns</p>\n",
       "</div>"
      ],
      "text/plain": [
       "   age  fnlwgt  education-num  capital gain  capital loss  hours per week  \\\n",
       "0   39   77516             13          2174             0              40   \n",
       "1   50   83311             13             0             0              13   \n",
       "2   38  215646              9             0             0              40   \n",
       "3   53  234721              7             0             0              40   \n",
       "4   28  338409             13             0             0              40   \n",
       "\n",
       "   workclass_ ?  workclass_ Federal-gov  workclass_ Local-gov  \\\n",
       "0             0                       0                     0   \n",
       "1             0                       0                     0   \n",
       "2             0                       0                     0   \n",
       "3             0                       0                     0   \n",
       "4             0                       0                     0   \n",
       "\n",
       "   workclass_ Never-worked  ...  country_ Puerto-Rico  country_ Scotland  \\\n",
       "0                        0  ...                     0                  0   \n",
       "1                        0  ...                     0                  0   \n",
       "2                        0  ...                     0                  0   \n",
       "3                        0  ...                     0                  0   \n",
       "4                        0  ...                     0                  0   \n",
       "\n",
       "   country_ South  country_ Taiwan  country_ Thailand  \\\n",
       "0               0                0                  0   \n",
       "1               0                0                  0   \n",
       "2               0                0                  0   \n",
       "3               0                0                  0   \n",
       "4               0                0                  0   \n",
       "\n",
       "   country_ Trinadad&Tobago  country_ United-States  country_ Vietnam  \\\n",
       "0                         0                       1                 0   \n",
       "1                         0                       1                 0   \n",
       "2                         0                       1                 0   \n",
       "3                         0                       1                 0   \n",
       "4                         0                       0                 0   \n",
       "\n",
       "   country_ Yugoslavia  target  \n",
       "0                    0       0  \n",
       "1                    0       0  \n",
       "2                    0       0  \n",
       "3                    0       0  \n",
       "4                    0       0  \n",
       "\n",
       "[5 rows x 109 columns]"
      ]
     },
     "execution_count": 6,
     "metadata": {},
     "output_type": "execute_result"
    }
   ],
   "source": [
    "data.head()"
   ]
  },
  {
   "cell_type": "code",
   "execution_count": 7,
   "id": "3bf965a5-b6b2-4af3-91d8-15aec5495a5e",
   "metadata": {},
   "outputs": [],
   "source": [
    "features = [col for col in data.columns if col != \"target\"]\n",
    "X = data[features]\n",
    "y = data[\"target\"]"
   ]
  },
  {
   "cell_type": "code",
   "execution_count": 8,
   "id": "af943dfd-ab8f-4aab-b925-95b027cf496a",
   "metadata": {},
   "outputs": [],
   "source": [
    "X_train, X_test, y_train, y_test = train_test_split(X, y, test_size=0.3, random_state=0, stratify=y)"
   ]
  },
  {
   "cell_type": "code",
   "execution_count": 85,
   "id": "532d8532-aec9-497f-8d5c-16d813be8f60",
   "metadata": {},
   "outputs": [
    {
     "data": {
      "text/plain": [
       "0.8148223973794656"
      ]
     },
     "execution_count": 85,
     "metadata": {},
     "output_type": "execute_result"
    }
   ],
   "source": [
    "# No param tuning base classifier score\n",
    "basic = DecisionTreeClassifier()\n",
    "basic.fit(X_train, y_train)\n",
    "basic.score(X_test, y_test)"
   ]
  },
  {
   "cell_type": "code",
   "execution_count": 108,
   "id": "acb68357-3ebf-4323-acbb-cf87d4844879",
   "metadata": {},
   "outputs": [
    {
     "data": {
      "text/html": [
       "<div>\n",
       "<style scoped>\n",
       "    .dataframe tbody tr th:only-of-type {\n",
       "        vertical-align: middle;\n",
       "    }\n",
       "\n",
       "    .dataframe tbody tr th {\n",
       "        vertical-align: top;\n",
       "    }\n",
       "\n",
       "    .dataframe thead th {\n",
       "        text-align: right;\n",
       "    }\n",
       "</style>\n",
       "<table border=\"1\" class=\"dataframe\">\n",
       "  <thead>\n",
       "    <tr style=\"text-align: right;\">\n",
       "      <th></th>\n",
       "      <th>mean_fit_time</th>\n",
       "      <th>std_fit_time</th>\n",
       "      <th>mean_score_time</th>\n",
       "      <th>std_score_time</th>\n",
       "      <th>mean_test_score</th>\n",
       "      <th>std_test_score</th>\n",
       "      <th>rank_test_score</th>\n",
       "      <th>mean_train_score</th>\n",
       "      <th>std_train_score</th>\n",
       "    </tr>\n",
       "    <tr>\n",
       "      <th>criterion</th>\n",
       "      <th></th>\n",
       "      <th></th>\n",
       "      <th></th>\n",
       "      <th></th>\n",
       "      <th></th>\n",
       "      <th></th>\n",
       "      <th></th>\n",
       "      <th></th>\n",
       "      <th></th>\n",
       "    </tr>\n",
       "  </thead>\n",
       "  <tbody>\n",
       "    <tr>\n",
       "      <th>gini</th>\n",
       "      <td>0.287317</td>\n",
       "      <td>0.025278</td>\n",
       "      <td>0.006868</td>\n",
       "      <td>0.001203</td>\n",
       "      <td>0.812565</td>\n",
       "      <td>0.00602</td>\n",
       "      <td>1</td>\n",
       "      <td>1.0</td>\n",
       "      <td>0.0</td>\n",
       "    </tr>\n",
       "  </tbody>\n",
       "</table>\n",
       "</div>"
      ],
      "text/plain": [
       "           mean_fit_time  std_fit_time  mean_score_time  std_score_time  \\\n",
       "criterion                                                                 \n",
       "gini            0.287317      0.025278         0.006868        0.001203   \n",
       "\n",
       "           mean_test_score  std_test_score  rank_test_score  mean_train_score  \\\n",
       "criterion                                                                       \n",
       "gini              0.812565         0.00602                1               1.0   \n",
       "\n",
       "           std_train_score  \n",
       "criterion                   \n",
       "gini                   0.0  "
      ]
     },
     "execution_count": 108,
     "metadata": {},
     "output_type": "execute_result"
    }
   ],
   "source": [
    "# Decision Tree\n",
    "basic_param_grid=dict(criterion=['gini'])\n",
    "clf = DecisionTreeClassifier()\n",
    "basic_grid = GridSearchCV(estimator=clf, param_grid=basic_param_grid, return_train_score=True)\n",
    "basic_grid_result = basic_grid.fit(X_train, y_train)\n",
    "basic_res = basic_grid_result.cv_results_\n",
    "basic_res_df = helpers.scikit_cv_result_to_df(basic_res)\n",
    "basic_res_df.sort_values(by='rank_test_score')"
   ]
  },
  {
   "cell_type": "code",
   "execution_count": 111,
   "id": "6df9815f-ecb1-4068-9b3a-469ccaeb41d1",
   "metadata": {},
   "outputs": [
    {
     "data": {
      "text/html": [
       "<div>\n",
       "<style scoped>\n",
       "    .dataframe tbody tr th:only-of-type {\n",
       "        vertical-align: middle;\n",
       "    }\n",
       "\n",
       "    .dataframe tbody tr th {\n",
       "        vertical-align: top;\n",
       "    }\n",
       "\n",
       "    .dataframe thead th {\n",
       "        text-align: right;\n",
       "    }\n",
       "</style>\n",
       "<table border=\"1\" class=\"dataframe\">\n",
       "  <thead>\n",
       "    <tr style=\"text-align: right;\">\n",
       "      <th></th>\n",
       "      <th>mean_fit_time</th>\n",
       "      <th>mean_score_time</th>\n",
       "      <th>mean_test_score</th>\n",
       "      <th>mean_train_score</th>\n",
       "    </tr>\n",
       "    <tr>\n",
       "      <th>criterion</th>\n",
       "      <th></th>\n",
       "      <th></th>\n",
       "      <th></th>\n",
       "      <th></th>\n",
       "    </tr>\n",
       "  </thead>\n",
       "  <tbody>\n",
       "    <tr>\n",
       "      <th>gini</th>\n",
       "      <td>0.287317</td>\n",
       "      <td>0.006868</td>\n",
       "      <td>0.812565</td>\n",
       "      <td>1.0</td>\n",
       "    </tr>\n",
       "  </tbody>\n",
       "</table>\n",
       "</div>"
      ],
      "text/plain": [
       "           mean_fit_time  mean_score_time  mean_test_score  mean_train_score\n",
       "criterion                                                                   \n",
       "gini            0.287317         0.006868         0.812565               1.0"
      ]
     },
     "execution_count": 111,
     "metadata": {},
     "output_type": "execute_result"
    }
   ],
   "source": [
    "basic_res_df[helpers.get_useful_cv_columns()]"
   ]
  },
  {
   "cell_type": "code",
   "execution_count": 90,
   "id": "ff274280-ffd6-4892-bb8e-878797808688",
   "metadata": {},
   "outputs": [
    {
     "data": {
      "text/plain": [
       "45"
      ]
     },
     "execution_count": 90,
     "metadata": {},
     "output_type": "execute_result"
    }
   ],
   "source": [
    "basic.tree_.max_depth"
   ]
  },
  {
   "cell_type": "code",
   "execution_count": 99,
   "id": "9dc10a7d-bcf2-4534-8fac-f16cf53cc0bf",
   "metadata": {},
   "outputs": [
    {
     "data": {
      "text/plain": [
       "3224"
      ]
     },
     "execution_count": 99,
     "metadata": {},
     "output_type": "execute_result"
    }
   ],
   "source": [
    "basic.get_n_leaves()"
   ]
  },
  {
   "cell_type": "code",
   "execution_count": 102,
   "id": "23a582ce-b144-4aa3-a0ea-4b559dc9f86a",
   "metadata": {},
   "outputs": [
    {
     "data": {
      "text/plain": [
       "6447"
      ]
     },
     "execution_count": 102,
     "metadata": {},
     "output_type": "execute_result"
    }
   ],
   "source": [
    "basic.tree_.node_count"
   ]
  },
  {
   "cell_type": "code",
   "execution_count": 117,
   "id": "07035f0a-a8af-4d91-87bb-e5395a933a4f",
   "metadata": {},
   "outputs": [],
   "source": [
    "basic = DecisionTreeClassifier()\n",
    "path = basic.cost_complexity_pruning_path(X_train, y_train)"
   ]
  },
  {
   "cell_type": "code",
   "execution_count": 123,
   "id": "1c09bbc3-1262-46a6-94fb-3f4ee2f9010c",
   "metadata": {},
   "outputs": [
    {
     "data": {
      "text/plain": [
       "array([0.00000000e+00, 1.75148472e-05, 2.07187707e-05, ...,\n",
       "       1.61755448e-02, 3.00664776e-02, 7.21877997e-02])"
      ]
     },
     "execution_count": 123,
     "metadata": {},
     "output_type": "execute_result"
    }
   ],
   "source": [
    "path.ccp_alphas"
   ]
  },
  {
   "cell_type": "code",
   "execution_count": 141,
   "id": "491aeace-0ad4-4548-abc5-fe7d16b219d5",
   "metadata": {},
   "outputs": [],
   "source": [
    "alphas = [0, .001, 0.0025, .01, 0.2]"
   ]
  },
  {
   "cell_type": "code",
   "execution_count": 142,
   "id": "6609e704-aecf-4f64-a7ca-e2f84f61bf37",
   "metadata": {},
   "outputs": [],
   "source": [
    "criterion = ['gini', 'entropy']\n",
    "\n",
    "param_grid = dict(ccp_alpha=alphas, criterion=criterion)\n",
    "grid = GridSearchCV(estimator=basic, param_grid=param_grid, return_train_score=True)\n",
    "grid_result = grid.fit(X_train, y_train)"
   ]
  },
  {
   "cell_type": "code",
   "execution_count": 143,
   "id": "6996046f-2a4c-498b-aa5f-826166d359fb",
   "metadata": {},
   "outputs": [
    {
     "data": {
      "text/plain": [
       "{'mean_fit_time': array([0.42621102, 0.42239771, 0.44176097, 0.43213758, 0.45022717,\n",
       "        0.44461708, 0.45929284, 0.45293303, 0.46362543, 0.457511  ]),\n",
       " 'std_fit_time': array([0.0194592 , 0.00690799, 0.01752368, 0.00555716, 0.02662055,\n",
       "        0.00659515, 0.01546183, 0.00544805, 0.01321892, 0.0074585 ]),\n",
       " 'mean_score_time': array([0.00987644, 0.01062613, 0.00954428, 0.0090342 , 0.00916557,\n",
       "        0.00930915, 0.00957384, 0.00952249, 0.00961699, 0.01010375]),\n",
       " 'std_score_time': array([0.00086245, 0.00119377, 0.00093954, 0.00117645, 0.00031161,\n",
       "        0.00068158, 0.00091927, 0.00138841, 0.00035302, 0.00082934]),\n",
       " 'param_ccp_alpha': masked_array(data=[0, 0, 0.001, 0.001, 0.0025, 0.0025, 0.01, 0.01, 0.2,\n",
       "                    0.2],\n",
       "              mask=[False, False, False, False, False, False, False, False,\n",
       "                    False, False],\n",
       "        fill_value='?',\n",
       "             dtype=object),\n",
       " 'param_criterion': masked_array(data=['gini', 'entropy', 'gini', 'entropy', 'gini',\n",
       "                    'entropy', 'gini', 'entropy', 'gini', 'entropy'],\n",
       "              mask=[False, False, False, False, False, False, False, False,\n",
       "                    False, False],\n",
       "        fill_value='?',\n",
       "             dtype=object),\n",
       " 'params': [{'ccp_alpha': 0, 'criterion': 'gini'},\n",
       "  {'ccp_alpha': 0, 'criterion': 'entropy'},\n",
       "  {'ccp_alpha': 0.001, 'criterion': 'gini'},\n",
       "  {'ccp_alpha': 0.001, 'criterion': 'entropy'},\n",
       "  {'ccp_alpha': 0.0025, 'criterion': 'gini'},\n",
       "  {'ccp_alpha': 0.0025, 'criterion': 'entropy'},\n",
       "  {'ccp_alpha': 0.01, 'criterion': 'gini'},\n",
       "  {'ccp_alpha': 0.01, 'criterion': 'entropy'},\n",
       "  {'ccp_alpha': 0.2, 'criterion': 'gini'},\n",
       "  {'ccp_alpha': 0.2, 'criterion': 'entropy'}],\n",
       " 'split0_test_score': array([0.81311691, 0.81180083, 0.85545076, 0.85764422, 0.85106383,\n",
       "        0.85654749, 0.84645756, 0.84645756, 0.75915771, 0.75915771]),\n",
       " 'split1_test_score': array([0.81794253, 0.82189077, 0.84865102, 0.8499671 , 0.84448344,\n",
       "        0.85018644, 0.84053521, 0.84053521, 0.75915771, 0.75915771]),\n",
       " 'split2_test_score': array([0.81307591, 0.81724441, 0.85563844, 0.85432207, 0.84993418,\n",
       "        0.85278631, 0.84708205, 0.84708205, 0.75910487, 0.75910487]),\n",
       " 'split3_test_score': array([0.81219833, 0.81197894, 0.85563844, 0.86200088, 0.84686266,\n",
       "        0.85432207, 0.84686266, 0.84686266, 0.75910487, 0.75910487]),\n",
       " 'split4_test_score': array([0.8016674 , 0.80495832, 0.84554629, 0.84664326, 0.84708205,\n",
       "        0.84620448, 0.84357174, 0.84357174, 0.75932427, 0.75932427]),\n",
       " 'mean_test_score': array([0.81160022, 0.81357465, 0.85218499, 0.85411551, 0.84788523,\n",
       "        0.85200936, 0.84490184, 0.84490184, 0.75916989, 0.75916989]),\n",
       " 'std_test_score': array([5.36137333e-03, 5.70190901e-03, 4.26799929e-03, 5.43538882e-03,\n",
       "        2.34796179e-03, 3.56557421e-03, 2.52408626e-03, 2.52408626e-03,\n",
       "        8.07259671e-05, 8.07259671e-05]),\n",
       " 'rank_test_score': array([8, 7, 2, 1, 4, 3, 5, 5, 9, 9], dtype=int32),\n",
       " 'split0_train_score': array([1.        , 1.        , 0.85454944, 0.85849833, 0.84911973,\n",
       "        0.85323315, 0.84473208, 0.84473208, 0.75917293, 0.75917293]),\n",
       " 'split1_train_score': array([1.        , 1.        , 0.85603027, 0.85932101, 0.85114902,\n",
       "        0.85641419, 0.84621291, 0.84621291, 0.75917293, 0.75917293]),\n",
       " 'split2_train_score': array([1.        , 1.        , 0.85823187, 0.86080948, 0.84978611,\n",
       "        0.85335088, 0.84457607, 0.84457607, 0.75918614, 0.75918614]),\n",
       " 'split3_train_score': array([1.        , 1.        , 0.84973127, 0.85625754, 0.84441154,\n",
       "        0.8498958 , 0.84441154, 0.84441154, 0.75918614, 0.75918614]),\n",
       " 'split4_train_score': array([1.        , 1.        , 0.85729955, 0.85965778, 0.85017001,\n",
       "        0.85768345, 0.84545355, 0.84545355, 0.75913129, 0.75913129]),\n",
       " 'mean_train_score': array([1.        , 1.        , 0.85516848, 0.85890883, 0.84892728,\n",
       "        0.85411549, 0.84507723, 0.84507723, 0.75916988, 0.75916988]),\n",
       " 'std_train_score': array([0.00000000e+00, 0.00000000e+00, 2.98713850e-03, 1.51928455e-03,\n",
       "        2.35146939e-03, 2.72702438e-03, 6.70048421e-04, 6.70048421e-04,\n",
       "        2.01793285e-05, 2.01793285e-05])}"
      ]
     },
     "execution_count": 143,
     "metadata": {},
     "output_type": "execute_result"
    }
   ],
   "source": [
    "res = grid_result.cv_results_\n",
    "res"
   ]
  },
  {
   "cell_type": "code",
   "execution_count": 144,
   "id": "e9ec5846-452f-43fb-9694-cb05915bcc46",
   "metadata": {},
   "outputs": [
    {
     "data": {
      "text/html": [
       "<div>\n",
       "<style scoped>\n",
       "    .dataframe tbody tr th:only-of-type {\n",
       "        vertical-align: middle;\n",
       "    }\n",
       "\n",
       "    .dataframe tbody tr th {\n",
       "        vertical-align: top;\n",
       "    }\n",
       "\n",
       "    .dataframe thead th {\n",
       "        text-align: right;\n",
       "    }\n",
       "</style>\n",
       "<table border=\"1\" class=\"dataframe\">\n",
       "  <thead>\n",
       "    <tr style=\"text-align: right;\">\n",
       "      <th></th>\n",
       "      <th></th>\n",
       "      <th>mean_fit_time</th>\n",
       "      <th>mean_score_time</th>\n",
       "      <th>mean_test_score</th>\n",
       "      <th>mean_train_score</th>\n",
       "    </tr>\n",
       "    <tr>\n",
       "      <th>ccp_alpha</th>\n",
       "      <th>criterion</th>\n",
       "      <th></th>\n",
       "      <th></th>\n",
       "      <th></th>\n",
       "      <th></th>\n",
       "    </tr>\n",
       "  </thead>\n",
       "  <tbody>\n",
       "    <tr>\n",
       "      <th rowspan=\"2\" valign=\"top\">0.0010</th>\n",
       "      <th>entropy</th>\n",
       "      <td>0.432138</td>\n",
       "      <td>0.009034</td>\n",
       "      <td>0.854116</td>\n",
       "      <td>0.858909</td>\n",
       "    </tr>\n",
       "    <tr>\n",
       "      <th>gini</th>\n",
       "      <td>0.441761</td>\n",
       "      <td>0.009544</td>\n",
       "      <td>0.852185</td>\n",
       "      <td>0.855168</td>\n",
       "    </tr>\n",
       "    <tr>\n",
       "      <th rowspan=\"2\" valign=\"top\">0.0025</th>\n",
       "      <th>entropy</th>\n",
       "      <td>0.444617</td>\n",
       "      <td>0.009309</td>\n",
       "      <td>0.852009</td>\n",
       "      <td>0.854115</td>\n",
       "    </tr>\n",
       "    <tr>\n",
       "      <th>gini</th>\n",
       "      <td>0.450227</td>\n",
       "      <td>0.009166</td>\n",
       "      <td>0.847885</td>\n",
       "      <td>0.848927</td>\n",
       "    </tr>\n",
       "    <tr>\n",
       "      <th rowspan=\"2\" valign=\"top\">0.0100</th>\n",
       "      <th>gini</th>\n",
       "      <td>0.459293</td>\n",
       "      <td>0.009574</td>\n",
       "      <td>0.844902</td>\n",
       "      <td>0.845077</td>\n",
       "    </tr>\n",
       "    <tr>\n",
       "      <th>entropy</th>\n",
       "      <td>0.452933</td>\n",
       "      <td>0.009522</td>\n",
       "      <td>0.844902</td>\n",
       "      <td>0.845077</td>\n",
       "    </tr>\n",
       "    <tr>\n",
       "      <th rowspan=\"2\" valign=\"top\">0.0000</th>\n",
       "      <th>entropy</th>\n",
       "      <td>0.422398</td>\n",
       "      <td>0.010626</td>\n",
       "      <td>0.813575</td>\n",
       "      <td>1.000000</td>\n",
       "    </tr>\n",
       "    <tr>\n",
       "      <th>gini</th>\n",
       "      <td>0.426211</td>\n",
       "      <td>0.009876</td>\n",
       "      <td>0.811600</td>\n",
       "      <td>1.000000</td>\n",
       "    </tr>\n",
       "    <tr>\n",
       "      <th rowspan=\"2\" valign=\"top\">0.2000</th>\n",
       "      <th>gini</th>\n",
       "      <td>0.463625</td>\n",
       "      <td>0.009617</td>\n",
       "      <td>0.759170</td>\n",
       "      <td>0.759170</td>\n",
       "    </tr>\n",
       "    <tr>\n",
       "      <th>entropy</th>\n",
       "      <td>0.457511</td>\n",
       "      <td>0.010104</td>\n",
       "      <td>0.759170</td>\n",
       "      <td>0.759170</td>\n",
       "    </tr>\n",
       "  </tbody>\n",
       "</table>\n",
       "</div>"
      ],
      "text/plain": [
       "                     mean_fit_time  mean_score_time  mean_test_score  \\\n",
       "ccp_alpha criterion                                                    \n",
       "0.0010    entropy         0.432138         0.009034         0.854116   \n",
       "          gini            0.441761         0.009544         0.852185   \n",
       "0.0025    entropy         0.444617         0.009309         0.852009   \n",
       "          gini            0.450227         0.009166         0.847885   \n",
       "0.0100    gini            0.459293         0.009574         0.844902   \n",
       "          entropy         0.452933         0.009522         0.844902   \n",
       "0.0000    entropy         0.422398         0.010626         0.813575   \n",
       "          gini            0.426211         0.009876         0.811600   \n",
       "0.2000    gini            0.463625         0.009617         0.759170   \n",
       "          entropy         0.457511         0.010104         0.759170   \n",
       "\n",
       "                     mean_train_score  \n",
       "ccp_alpha criterion                    \n",
       "0.0010    entropy            0.858909  \n",
       "          gini               0.855168  \n",
       "0.0025    entropy            0.854115  \n",
       "          gini               0.848927  \n",
       "0.0100    gini               0.845077  \n",
       "          entropy            0.845077  \n",
       "0.0000    entropy            1.000000  \n",
       "          gini               1.000000  \n",
       "0.2000    gini               0.759170  \n",
       "          entropy            0.759170  "
      ]
     },
     "execution_count": 144,
     "metadata": {},
     "output_type": "execute_result"
    }
   ],
   "source": [
    "res_df = helpers.scikit_cv_result_to_df(res)\n",
    "res_df.sort_values(by='rank_test_score')[helpers.get_useful_cv_columns()]"
   ]
  },
  {
   "cell_type": "code",
   "execution_count": 145,
   "id": "c6a5f371-8abf-4484-a8b5-9a4ed2380354",
   "metadata": {},
   "outputs": [],
   "source": [
    "gini = res_df.xs('gini', level='criterion')\n",
    "entropy = res_df.xs('entropy', level='criterion')"
   ]
  },
  {
   "cell_type": "code",
   "execution_count": 160,
   "id": "73ce9a2c-66ed-4074-bb8b-a27587ea3ecd",
   "metadata": {},
   "outputs": [
    {
     "data": {
      "image/png": "[encoded data removed]",
      "text/plain": [
       "<Figure size 432x288 with 1 Axes>"
      ]
     },
     "metadata": {
      "needs_background": "light"
     },
     "output_type": "display_data"
    }
   ],
   "source": [
    "plt.plot(alphas, gini['mean_test_score'], label='gini - CV')\n",
    "plt.plot(alphas, gini['mean_train_score'],  label='gini - training')\n",
    "plt.plot(alphas, entropy['mean_test_score'], label='entropy - CV')\n",
    "plt.plot(alphas, entropy['mean_train_score'], label='entropy - training')\n",
    "plt.legend(loc='best')\n",
    "plt.title('Validation Curves')\n",
    "plt.ylabel('Accuracy')\n",
    "plt.xlabel('CCP Alpha')\n",
    "plt.show()"
   ]
  },
  {
   "cell_type": "code",
   "execution_count": 161,
   "id": "bbeb02cd-f97c-4de0-a338-c60f4d354e4f",
   "metadata": {},
   "outputs": [
    {
     "data": {
      "image/png": "[encoded data removed]",
      "text/plain": [
       "<Figure size 432x288 with 1 Axes>"
      ]
     },
     "metadata": {
      "needs_background": "light"
     },
     "output_type": "display_data"
    }
   ],
   "source": [
    "less_alphas = [0, .001, 0.0025, .01]\n",
    "gini['mean_test_score'].iloc[0:4]\n",
    "plt.plot(less_alphas, gini['mean_test_score'].iloc[0:4], marker='o', label='gini - CV')\n",
    "plt.plot(less_alphas, gini['mean_train_score'].iloc[0:4], marker='o',  label='gini - training')\n",
    "plt.plot(less_alphas, entropy['mean_test_score'].iloc[0:4], marker='o', label='entropy - CV')\n",
    "plt.plot(less_alphas, entropy['mean_train_score'].iloc[0:4], marker='o', label='entropy - training')\n",
    "plt.legend(loc='best')\n",
    "plt.title('Validation Curves')\n",
    "plt.ylabel('Accuracy')\n",
    "plt.xlabel('CCP Alpha')\n",
    "plt.show()"
   ]
  },
  {
   "cell_type": "code",
   "execution_count": 9,
   "id": "3ae3230f-cc16-432e-ba31-50f6c3a56a9f",
   "metadata": {},
   "outputs": [
    {
     "data": {
      "image/png": "[encoded data removed]",
      "text/plain": [
       "<Figure size 432x288 with 1 Axes>"
      ]
     },
     "metadata": {
      "needs_background": "light"
     },
     "output_type": "display_data"
    }
   ],
   "source": [
    "best_model = DecisionTreeClassifier(criterion='entropy', ccp_alpha=.001)\n",
    "plot.plot_learning_curve(best_model, X_train, y_train, title='Learning Curve for Tuned Decision Tree')"
   ]
  },
  {
   "cell_type": "code",
   "execution_count": 169,
   "id": "dcae7464-4716-44dd-8ee6-79e255a1b43b",
   "metadata": {},
   "outputs": [
    {
     "name": "stdout",
     "output_type": "stream",
     "text": [
      "Final accuracy achieved: 0.8499334629951889\n"
     ]
    }
   ],
   "source": [
    "best_model.fit(X_train, y_train)\n",
    "y_test_pred = best_model.predict(X_test)\n",
    "print(f\"Final accuracy achieved: {accuracy_score(y_test, y_test_pred)}\")"
   ]
  },
  {
   "cell_type": "code",
   "execution_count": 166,
   "id": "7844f732-260c-4291-9d7b-28b5fa690988",
   "metadata": {},
   "outputs": [
    {
     "data": {
      "text/plain": [
       "25"
      ]
     },
     "execution_count": 166,
     "metadata": {},
     "output_type": "execute_result"
    }
   ],
   "source": [
    "best_model.get_n_leaves()"
   ]
  },
  {
   "cell_type": "code",
   "execution_count": 167,
   "id": "b57bc7fc-054e-4e98-aa2f-386a937f4d93",
   "metadata": {},
   "outputs": [
    {
     "data": {
      "text/plain": [
       "49"
      ]
     },
     "execution_count": 167,
     "metadata": {},
     "output_type": "execute_result"
    }
   ],
   "source": [
    "best_model.tree_.node_count"
   ]
  },
  {
   "cell_type": "code",
   "execution_count": 168,
   "id": "57110a83-c3c3-49fd-b1b7-a59da431c9fc",
   "metadata": {},
   "outputs": [
    {
     "data": {
      "text/plain": [
       "10"
      ]
     },
     "execution_count": 168,
     "metadata": {},
     "output_type": "execute_result"
    }
   ],
   "source": [
    "best_model.tree_.max_depth"
   ]
  },
  {
   "cell_type": "code",
   "execution_count": null,
   "id": "288e366d-e2d2-4d8b-824e-4b3d2e801089",
   "metadata": {},
   "outputs": [],
   "source": []
  }
 ],
 "metadata": {
  "kernelspec": {
   "display_name": "Python 3",
   "language": "python",
   "name": "python3"
  },
  "language_info": {
   "codemirror_mode": {
    "name": "ipython",
    "version": 3
   },
   "file_extension": ".py",
   "mimetype": "text/x-python",
   "name": "python",
   "nbconvert_exporter": "python",
   "pygments_lexer": "ipython3",
   "version": "3.7.11"
  }
 },
 "nbformat": 4,
 "nbformat_minor": 5
}
