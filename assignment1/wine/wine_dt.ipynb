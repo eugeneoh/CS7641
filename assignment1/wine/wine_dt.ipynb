{
 "cells": [
  {
   "cell_type": "code",
   "execution_count": 1,
   "id": "67aae0e2-db43-46fc-8d6d-992b02538407",
   "metadata": {},
   "outputs": [],
   "source": [
    "import pandas as pd\n",
    "import numpy as np\n",
    "import matplotlib.pyplot as plt\n",
    "import tensorflow as tf\n",
    "from sklearn.metrics import confusion_matrix, ConfusionMatrixDisplay\n",
    "from sklearn.model_selection import RepeatedStratifiedKFold\n",
    "from sklearn.neighbors import KNeighborsClassifier\n",
    "from tensorflow.keras.utils import to_categorical\n",
    "from sklearn.preprocessing import MinMaxScaler\n",
    "from sklearn.model_selection import GridSearchCV\n",
    "from tensorflow.keras.models import Sequential\n",
    "from tensorflow.keras.layers import Dense\n",
    "from tensorflow.keras.wrappers.scikit_learn import KerasClassifier\n",
    "from sklearn.model_selection import ShuffleSplit, cross_val_score, train_test_split, StratifiedKFold, learning_curve\n",
    "from sklearn.tree import DecisionTreeClassifier, plot_tree\n",
    "from sklearn.neural_network import MLPClassifier\n",
    "from sklearn.preprocessing import LabelEncoder\n",
    "from tensorflow.keras.optimizers import RMSprop\n",
    "from sklearn.ensemble import AdaBoostClassifier\n"
   ]
  },
  {
   "cell_type": "code",
   "execution_count": 3,
   "id": "f3e5bca7-14d3-49c0-8bbe-e5a9f312702b",
   "metadata": {},
   "outputs": [],
   "source": [
    "# Add columns to DF\n",
    "columns = [\"Class\", \"alcohol\", \"malic acid\", \"ash\", \"alcalinity of ash\", \"magnesium\", \"total phenols\", \"flavanoids\", \"nonflavanoid phenols\", \"proanthocyanins\", \"color intensity\", \"hue\", \"OD280/OD315 of diluted wines\", \"proline\"]\n",
    "data = pd.read_csv(\"wine.data\")\n",
    "data.columns = columns\n",
    "\n",
    "X = data[columns[1:]].to_numpy()\n",
    "y_initial = data[columns[0]]\n",
    "encoder = LabelEncoder()\n",
    "encoder.fit(y_initial)\n",
    "y = encoder.transform(y_initial)"
   ]
  },
  {
   "cell_type": "code",
   "execution_count": null,
   "id": "0d6f6b1e-af22-4526-a95b-48245aa1e512",
   "metadata": {},
   "outputs": [],
   "source": []
  }
 ],
 "metadata": {
  "kernelspec": {
   "display_name": "Python 3",
   "language": "python",
   "name": "python3"
  },
  "language_info": {
   "codemirror_mode": {
    "name": "ipython",
    "version": 3
   },
   "file_extension": ".py",
   "mimetype": "text/x-python",
   "name": "python",
   "nbconvert_exporter": "python",
   "pygments_lexer": "ipython3",
   "version": "3.7.11"
  }
 },
 "nbformat": 4,
 "nbformat_minor": 5
}
