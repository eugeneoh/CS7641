{
 "cells": [
  {
   "cell_type": "code",
   "execution_count": 1,
   "id": "38547b99-d53f-48bf-b39b-c92565a724a3",
   "metadata": {},
   "outputs": [],
   "source": [
    "import pandas as pd\n",
    "import matplotlib.pyplot as plt\n",
    "import sys\n",
    "import mlrose_hiive as mlr\n",
    "from mlrose_hiive import Queens, DiscreteOpt, random_hill_climb\n",
    "from mlrose_hiive import SARunner, GARunner, RHCRunner\n",
    "from array import array\n",
    "import importlib\n",
    "import numpy as np\n",
    "import helpers #import the module here, so that it can be reloaded.\n",
    "importlib.reload(helpers)\n",
    "import time\n",
    "import joblib"
   ]
  },
  {
   "cell_type": "code",
   "execution_count": null,
   "id": "3a3caae7-0b23-487b-a3f0-c377c3a152ff",
   "metadata": {},
   "outputs": [],
   "source": []
  }
 ],
 "metadata": {
  "kernelspec": {
   "display_name": "Python 3",
   "language": "python",
   "name": "python3"
  },
  "language_info": {
   "codemirror_mode": {
    "name": "ipython",
    "version": 3
   },
   "file_extension": ".py",
   "mimetype": "text/x-python",
   "name": "python",
   "nbconvert_exporter": "python",
   "pygments_lexer": "ipython3",
   "version": "3.7.11"
  }
 },
 "nbformat": 4,
 "nbformat_minor": 5
}
