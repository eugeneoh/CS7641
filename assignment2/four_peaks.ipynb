{
 "cells": [
  {
   "cell_type": "code",
   "execution_count": 2,
   "id": "37f9fe86-e520-4f36-9542-f835e0e820cf",
   "metadata": {},
   "outputs": [],
   "source": [
    "import pandas as pd\n",
    "import matplotlib.pyplot as plt\n",
    "import sys\n",
    "import mlrose_hiive as mlr\n",
    "from mlrose_hiive import FourPeaks, DiscreteOpt, random_hill_climb\n",
    "from mlrose_hiive import SARunner, GARunner, RHCRunner\n",
    "from array import array\n",
    "import importlib\n",
    "import numpy as np\n",
    "import helpers #import the module here, so that it can be reloaded.\n",
    "importlib.reload(helpers)\n",
    "import time\n",
    "import joblib"
   ]
  },
  {
   "cell_type": "code",
   "execution_count": 74,
   "id": "92b96cf3-1cd2-493e-adeb-b2672aaf18ae",
   "metadata": {},
   "outputs": [
    {
     "data": {
      "text/plain": [
       "['four_peaks_rhc_results.pkl']"
      ]
     },
     "execution_count": 74,
     "metadata": {},
     "output_type": "execute_result"
    }
   ],
   "source": [
    "N = 100\n",
    "T = 29\n",
    "max_iters = 5000\n",
    "numTrials = 5\n",
    "restarts = [25, 75, 100]\n",
    "max_attempts = [25, 50, 75, 100, 125, 150]\n",
    "labels = ['max_attempts', 'restarts', 'run_time', 'best_fitness', 'stopped_at']\n",
    "results_list=[]\n",
    "for a in max_attempts:\n",
    "    for r in restarts:\n",
    "        eval_func = FourPeaks(t_pct=.1)\n",
    "        prob = mlr.DiscreteOpt(N, eval_func)\n",
    "        start_time = time.perf_counter()\n",
    "        best_state, best_fitness, curve = mlr.random_hill_climb(prob, random_state=1, max_attempts=a, max_iters=max_iters, restarts=r, curve=True)\n",
    "        run_time = time.perf_counter() - start_time\n",
    "        stopped_at = len(curve)\n",
    "        results_list.append([a, r, run_time, best_fitness, stopped_at])\n",
    "        joblib.dump(pd.DataFrame.from_records(curve), f\"four_peaks/rhc/max_attempts{a},restarts{r}_curve.pkl\")\n",
    "\n",
    "df_results = pd.DataFrame.from_records(results_list, columns=labels)\n",
    "joblib.dump(df_results, \"four_peaks/rhc/four_peaks_rhc_results.pkl\")\n",
    "\n",
    "# rhc_best_state, rhc_best_fitness, rhc_curve = mlr.random_hill_climb(prob, max_attempts=30, restarts=1000, max_iters=max_iters, curve=True, random_state=1)\n",
    "# sa_best_state, sa_best_fitness, sa_curve = mlr.simulated_annealing(prob, max_iters=max_iters, curve=True, random_state=1)"
   ]
  },
  {
   "cell_type": "code",
   "execution_count": 75,
   "id": "a1fb6e31-f83f-46d1-912b-957f3156d4bc",
   "metadata": {},
   "outputs": [
    {
     "data": {
      "text/html": [
       "<div>\n",
       "<style scoped>\n",
       "    .dataframe tbody tr th:only-of-type {\n",
       "        vertical-align: middle;\n",
       "    }\n",
       "\n",
       "    .dataframe tbody tr th {\n",
       "        vertical-align: top;\n",
       "    }\n",
       "\n",
       "    .dataframe thead th {\n",
       "        text-align: right;\n",
       "    }\n",
       "</style>\n",
       "<table border=\"1\" class=\"dataframe\">\n",
       "  <thead>\n",
       "    <tr style=\"text-align: right;\">\n",
       "      <th></th>\n",
       "      <th>max_attempts</th>\n",
       "      <th>restarts</th>\n",
       "      <th>run_time</th>\n",
       "      <th>best_fitness</th>\n",
       "      <th>stopped_at</th>\n",
       "    </tr>\n",
       "  </thead>\n",
       "  <tbody>\n",
       "    <tr>\n",
       "      <th>0</th>\n",
       "      <td>25</td>\n",
       "      <td>25</td>\n",
       "      <td>0.022801</td>\n",
       "      <td>9.0</td>\n",
       "      <td>85</td>\n",
       "    </tr>\n",
       "    <tr>\n",
       "      <th>1</th>\n",
       "      <td>25</td>\n",
       "      <td>75</td>\n",
       "      <td>0.051292</td>\n",
       "      <td>10.0</td>\n",
       "      <td>52</td>\n",
       "    </tr>\n",
       "    <tr>\n",
       "      <th>2</th>\n",
       "      <td>25</td>\n",
       "      <td>100</td>\n",
       "      <td>0.054333</td>\n",
       "      <td>10.0</td>\n",
       "      <td>52</td>\n",
       "    </tr>\n",
       "    <tr>\n",
       "      <th>3</th>\n",
       "      <td>50</td>\n",
       "      <td>25</td>\n",
       "      <td>0.029213</td>\n",
       "      <td>13.0</td>\n",
       "      <td>182</td>\n",
       "    </tr>\n",
       "    <tr>\n",
       "      <th>4</th>\n",
       "      <td>50</td>\n",
       "      <td>75</td>\n",
       "      <td>0.088112</td>\n",
       "      <td>16.0</td>\n",
       "      <td>87</td>\n",
       "    </tr>\n",
       "    <tr>\n",
       "      <th>5</th>\n",
       "      <td>50</td>\n",
       "      <td>100</td>\n",
       "      <td>0.117952</td>\n",
       "      <td>16.0</td>\n",
       "      <td>87</td>\n",
       "    </tr>\n",
       "    <tr>\n",
       "      <th>6</th>\n",
       "      <td>75</td>\n",
       "      <td>25</td>\n",
       "      <td>0.038258</td>\n",
       "      <td>12.0</td>\n",
       "      <td>149</td>\n",
       "    </tr>\n",
       "    <tr>\n",
       "      <th>7</th>\n",
       "      <td>75</td>\n",
       "      <td>75</td>\n",
       "      <td>0.115941</td>\n",
       "      <td>15.0</td>\n",
       "      <td>424</td>\n",
       "    </tr>\n",
       "    <tr>\n",
       "      <th>8</th>\n",
       "      <td>75</td>\n",
       "      <td>100</td>\n",
       "      <td>0.177585</td>\n",
       "      <td>18.0</td>\n",
       "      <td>404</td>\n",
       "    </tr>\n",
       "    <tr>\n",
       "      <th>9</th>\n",
       "      <td>100</td>\n",
       "      <td>25</td>\n",
       "      <td>0.074663</td>\n",
       "      <td>20.0</td>\n",
       "      <td>480</td>\n",
       "    </tr>\n",
       "    <tr>\n",
       "      <th>10</th>\n",
       "      <td>100</td>\n",
       "      <td>75</td>\n",
       "      <td>0.238556</td>\n",
       "      <td>20.0</td>\n",
       "      <td>480</td>\n",
       "    </tr>\n",
       "    <tr>\n",
       "      <th>11</th>\n",
       "      <td>100</td>\n",
       "      <td>100</td>\n",
       "      <td>0.328539</td>\n",
       "      <td>20.0</td>\n",
       "      <td>480</td>\n",
       "    </tr>\n",
       "    <tr>\n",
       "      <th>12</th>\n",
       "      <td>125</td>\n",
       "      <td>25</td>\n",
       "      <td>0.116747</td>\n",
       "      <td>20.0</td>\n",
       "      <td>446</td>\n",
       "    </tr>\n",
       "    <tr>\n",
       "      <th>13</th>\n",
       "      <td>125</td>\n",
       "      <td>75</td>\n",
       "      <td>0.313812</td>\n",
       "      <td>32.0</td>\n",
       "      <td>622</td>\n",
       "    </tr>\n",
       "    <tr>\n",
       "      <th>14</th>\n",
       "      <td>125</td>\n",
       "      <td>100</td>\n",
       "      <td>0.435992</td>\n",
       "      <td>38.0</td>\n",
       "      <td>729</td>\n",
       "    </tr>\n",
       "    <tr>\n",
       "      <th>15</th>\n",
       "      <td>150</td>\n",
       "      <td>25</td>\n",
       "      <td>0.157952</td>\n",
       "      <td>36.0</td>\n",
       "      <td>886</td>\n",
       "    </tr>\n",
       "    <tr>\n",
       "      <th>16</th>\n",
       "      <td>150</td>\n",
       "      <td>75</td>\n",
       "      <td>0.516079</td>\n",
       "      <td>68.0</td>\n",
       "      <td>1834</td>\n",
       "    </tr>\n",
       "    <tr>\n",
       "      <th>17</th>\n",
       "      <td>150</td>\n",
       "      <td>100</td>\n",
       "      <td>0.768002</td>\n",
       "      <td>114.0</td>\n",
       "      <td>403</td>\n",
       "    </tr>\n",
       "  </tbody>\n",
       "</table>\n",
       "</div>"
      ],
      "text/plain": [
       "    max_attempts  restarts  run_time  best_fitness  stopped_at\n",
       "0             25        25  0.022801           9.0          85\n",
       "1             25        75  0.051292          10.0          52\n",
       "2             25       100  0.054333          10.0          52\n",
       "3             50        25  0.029213          13.0         182\n",
       "4             50        75  0.088112          16.0          87\n",
       "5             50       100  0.117952          16.0          87\n",
       "6             75        25  0.038258          12.0         149\n",
       "7             75        75  0.115941          15.0         424\n",
       "8             75       100  0.177585          18.0         404\n",
       "9            100        25  0.074663          20.0         480\n",
       "10           100        75  0.238556          20.0         480\n",
       "11           100       100  0.328539          20.0         480\n",
       "12           125        25  0.116747          20.0         446\n",
       "13           125        75  0.313812          32.0         622\n",
       "14           125       100  0.435992          38.0         729\n",
       "15           150        25  0.157952          36.0         886\n",
       "16           150        75  0.516079          68.0        1834\n",
       "17           150       100  0.768002         114.0         403"
      ]
     },
     "execution_count": 75,
     "metadata": {},
     "output_type": "execute_result"
    }
   ],
   "source": [
    "df_results"
   ]
  },
  {
   "cell_type": "code",
   "execution_count": 76,
   "id": "6c345f01-a2f9-46e6-8ffa-95103e132dd4",
   "metadata": {},
   "outputs": [
    {
     "name": "stdout",
     "output_type": "stream",
     "text": [
      "20\n",
      "30\n",
      "40\n",
      "50\n",
      "60\n",
      "70\n",
      "80\n",
      "90\n",
      "100\n"
     ]
    }
   ],
   "source": [
    "Ns = range(20, 110, 10)\n",
    "for n in Ns:\n",
    "    print(n)"
   ]
  },
  {
   "cell_type": "code",
   "execution_count": 78,
   "id": "4af18f6c-49ad-4534-a793-f61429623616",
   "metadata": {},
   "outputs": [
    {
     "data": {
      "text/plain": [
       "[<matplotlib.lines.Line2D at 0x7fd47087da90>]"
      ]
     },
     "execution_count": 78,
     "metadata": {},
     "output_type": "execute_result"
    },
    {
     "data": {
      "image/png": "[encoded data removed]",
      "text/plain": [
       "<Figure size 432x288 with 1 Axes>"
      ]
     },
     "metadata": {
      "needs_background": "light"
     },
     "output_type": "display_data"
    }
   ],
   "source": [
    "Ns = range(20, 300, 10)\n",
    "iterations = []\n",
    "for n in Ns:\n",
    "    eval_func = FourPeaks(t_pct=.1)\n",
    "    prob = mlr.DiscreteOpt(N, eval_func)\n",
    "    best_state, best_fitness, curve = mlr.random_hill_climb(prob, max_attempts=150, max_iters=5000, restarts=100, random_state=12345, curve=True)\n",
    "    iterations.append(len(curve))\n",
    "plt.plot(Ns, iterations)"
   ]
  },
  {
   "cell_type": "code",
   "execution_count": 80,
   "id": "665700b3-a817-4b8d-88ba-7fa53ffd5642",
   "metadata": {},
   "outputs": [],
   "source": [
    "best = joblib.load(\"four_peaks/rhc/max_attempts150,restarts100_curve.pkl\")\n",
    "len(best)\n",
    "fitness_vals_best = best[0].values"
   ]
  },
  {
   "cell_type": "code",
   "execution_count": 81,
   "id": "e0ccde2c-c0f9-4301-afa3-9c3d222cdf71",
   "metadata": {},
   "outputs": [
    {
     "data": {
      "text/plain": [
       "Text(0.5, 1.0, 'Fitness over Iterations')"
      ]
     },
     "execution_count": 81,
     "metadata": {},
     "output_type": "execute_result"
    },
    {
     "data": {
      "image/png": "[encoded data removed]",
      "text/plain": [
       "<Figure size 432x288 with 1 Axes>"
      ]
     },
     "metadata": {
      "needs_background": "light"
     },
     "output_type": "display_data"
    }
   ],
   "source": [
    "plt.plot(range(1, len(fitness_vals_best) + 1), fitness_vals_best)\n",
    "plt.title(\"Fitness over Iterations\")"
   ]
  },
  {
   "cell_type": "code",
   "execution_count": 83,
   "id": "b3382235-45cd-46fb-a19e-e37bc159b0cd",
   "metadata": {},
   "outputs": [
    {
     "data": {
      "text/plain": [
       "['four_peaks_sa_results.pkl']"
      ]
     },
     "execution_count": 83,
     "metadata": {},
     "output_type": "execute_result"
    }
   ],
   "source": [
    "N = 100\n",
    "T = 29\n",
    "max_iters = 5000\n",
    "numTrials = 5\n",
    "temps = [1, 5, 10, 50, 100]\n",
    "max_attempts = [25, 50, 75, 100, 125, 150]\n",
    "labels = ['max_attempts', 'temp', 'run_time', 'best_fitness', 'stopped_at']\n",
    "results_list=[]\n",
    "for a in max_attempts:\n",
    "    for temp in temps:\n",
    "        eval_func = FourPeaks(t_pct=.1)\n",
    "        prob = mlr.DiscreteOpt(N, eval_func)\n",
    "        start_time = time.perf_counter()\n",
    "        best_state, best_fitness, curve = mlr.simulated_annealing(prob, max_attempts=a, max_iters=max_iters, random_state=1, schedule=mlr.GeomDecay(init_temp=temp), curve=True)\n",
    "        run_time = time.perf_counter() - start_time\n",
    "        stopped_at = len(curve)\n",
    "        results_list.append([a, temp, run_time, best_fitness, stopped_at])\n",
    "        joblib.dump(pd.DataFrame.from_records(curve), f\"four_peaks/sa/max_attempts{a},temp{temp}_curve.pkl\")\n",
    "\n",
    "df_results = pd.DataFrame.from_records(results_list, columns=labels)\n",
    "joblib.dump(df_results, \"four_peaks/sa/four_peaks_sa_results.pkl\")"
   ]
  },
  {
   "cell_type": "code",
   "execution_count": 86,
   "id": "99acf859-a821-4e90-8d33-21172a7cd646",
   "metadata": {},
   "outputs": [
    {
     "data": {
      "text/html": [
       "<div>\n",
       "<style scoped>\n",
       "    .dataframe tbody tr th:only-of-type {\n",
       "        vertical-align: middle;\n",
       "    }\n",
       "\n",
       "    .dataframe tbody tr th {\n",
       "        vertical-align: top;\n",
       "    }\n",
       "\n",
       "    .dataframe thead th {\n",
       "        text-align: right;\n",
       "    }\n",
       "</style>\n",
       "<table border=\"1\" class=\"dataframe\">\n",
       "  <thead>\n",
       "    <tr style=\"text-align: right;\">\n",
       "      <th></th>\n",
       "      <th>max_attempts</th>\n",
       "      <th>temp</th>\n",
       "      <th>run_time</th>\n",
       "      <th>best_fitness</th>\n",
       "      <th>stopped_at</th>\n",
       "    </tr>\n",
       "  </thead>\n",
       "  <tbody>\n",
       "    <tr>\n",
       "      <th>22</th>\n",
       "      <td>100</td>\n",
       "      <td>100</td>\n",
       "      <td>0.158517</td>\n",
       "      <td>98.0</td>\n",
       "      <td>4992</td>\n",
       "    </tr>\n",
       "    <tr>\n",
       "      <th>34</th>\n",
       "      <td>150</td>\n",
       "      <td>100</td>\n",
       "      <td>0.196604</td>\n",
       "      <td>98.0</td>\n",
       "      <td>5000</td>\n",
       "    </tr>\n",
       "    <tr>\n",
       "      <th>28</th>\n",
       "      <td>125</td>\n",
       "      <td>100</td>\n",
       "      <td>0.164689</td>\n",
       "      <td>98.0</td>\n",
       "      <td>5000</td>\n",
       "    </tr>\n",
       "    <tr>\n",
       "      <th>16</th>\n",
       "      <td>75</td>\n",
       "      <td>100</td>\n",
       "      <td>0.154288</td>\n",
       "      <td>94.0</td>\n",
       "      <td>4720</td>\n",
       "    </tr>\n",
       "    <tr>\n",
       "      <th>10</th>\n",
       "      <td>50</td>\n",
       "      <td>100</td>\n",
       "      <td>0.151367</td>\n",
       "      <td>94.0</td>\n",
       "      <td>4695</td>\n",
       "    </tr>\n",
       "    <tr>\n",
       "      <th>9</th>\n",
       "      <td>50</td>\n",
       "      <td>50</td>\n",
       "      <td>0.165325</td>\n",
       "      <td>92.0</td>\n",
       "      <td>5000</td>\n",
       "    </tr>\n",
       "    <tr>\n",
       "      <th>27</th>\n",
       "      <td>125</td>\n",
       "      <td>50</td>\n",
       "      <td>0.161948</td>\n",
       "      <td>92.0</td>\n",
       "      <td>5000</td>\n",
       "    </tr>\n",
       "    <tr>\n",
       "      <th>21</th>\n",
       "      <td>100</td>\n",
       "      <td>50</td>\n",
       "      <td>0.167565</td>\n",
       "      <td>92.0</td>\n",
       "      <td>5000</td>\n",
       "    </tr>\n",
       "    <tr>\n",
       "      <th>33</th>\n",
       "      <td>150</td>\n",
       "      <td>50</td>\n",
       "      <td>0.197044</td>\n",
       "      <td>92.0</td>\n",
       "      <td>5000</td>\n",
       "    </tr>\n",
       "    <tr>\n",
       "      <th>15</th>\n",
       "      <td>75</td>\n",
       "      <td>50</td>\n",
       "      <td>0.159467</td>\n",
       "      <td>92.0</td>\n",
       "      <td>5000</td>\n",
       "    </tr>\n",
       "    <tr>\n",
       "      <th>14</th>\n",
       "      <td>75</td>\n",
       "      <td>10</td>\n",
       "      <td>0.191483</td>\n",
       "      <td>91.0</td>\n",
       "      <td>5000</td>\n",
       "    </tr>\n",
       "    <tr>\n",
       "      <th>26</th>\n",
       "      <td>125</td>\n",
       "      <td>10</td>\n",
       "      <td>0.204367</td>\n",
       "      <td>91.0</td>\n",
       "      <td>5000</td>\n",
       "    </tr>\n",
       "    <tr>\n",
       "      <th>20</th>\n",
       "      <td>100</td>\n",
       "      <td>10</td>\n",
       "      <td>0.198281</td>\n",
       "      <td>91.0</td>\n",
       "      <td>5000</td>\n",
       "    </tr>\n",
       "    <tr>\n",
       "      <th>32</th>\n",
       "      <td>150</td>\n",
       "      <td>10</td>\n",
       "      <td>0.213680</td>\n",
       "      <td>91.0</td>\n",
       "      <td>5000</td>\n",
       "    </tr>\n",
       "    <tr>\n",
       "      <th>8</th>\n",
       "      <td>50</td>\n",
       "      <td>10</td>\n",
       "      <td>0.197689</td>\n",
       "      <td>91.0</td>\n",
       "      <td>5000</td>\n",
       "    </tr>\n",
       "    <tr>\n",
       "      <th>3</th>\n",
       "      <td>25</td>\n",
       "      <td>50</td>\n",
       "      <td>0.167857</td>\n",
       "      <td>89.0</td>\n",
       "      <td>4581</td>\n",
       "    </tr>\n",
       "    <tr>\n",
       "      <th>4</th>\n",
       "      <td>25</td>\n",
       "      <td>100</td>\n",
       "      <td>0.176664</td>\n",
       "      <td>88.0</td>\n",
       "      <td>4521</td>\n",
       "    </tr>\n",
       "    <tr>\n",
       "      <th>19</th>\n",
       "      <td>100</td>\n",
       "      <td>5</td>\n",
       "      <td>0.176223</td>\n",
       "      <td>86.0</td>\n",
       "      <td>5000</td>\n",
       "    </tr>\n",
       "    <tr>\n",
       "      <th>13</th>\n",
       "      <td>75</td>\n",
       "      <td>5</td>\n",
       "      <td>0.162766</td>\n",
       "      <td>86.0</td>\n",
       "      <td>5000</td>\n",
       "    </tr>\n",
       "    <tr>\n",
       "      <th>25</th>\n",
       "      <td>125</td>\n",
       "      <td>5</td>\n",
       "      <td>0.176161</td>\n",
       "      <td>86.0</td>\n",
       "      <td>5000</td>\n",
       "    </tr>\n",
       "    <tr>\n",
       "      <th>1</th>\n",
       "      <td>25</td>\n",
       "      <td>5</td>\n",
       "      <td>0.172729</td>\n",
       "      <td>86.0</td>\n",
       "      <td>4972</td>\n",
       "    </tr>\n",
       "    <tr>\n",
       "      <th>31</th>\n",
       "      <td>150</td>\n",
       "      <td>5</td>\n",
       "      <td>0.174814</td>\n",
       "      <td>86.0</td>\n",
       "      <td>5000</td>\n",
       "    </tr>\n",
       "    <tr>\n",
       "      <th>7</th>\n",
       "      <td>50</td>\n",
       "      <td>5</td>\n",
       "      <td>0.169619</td>\n",
       "      <td>86.0</td>\n",
       "      <td>5000</td>\n",
       "    </tr>\n",
       "    <tr>\n",
       "      <th>2</th>\n",
       "      <td>25</td>\n",
       "      <td>10</td>\n",
       "      <td>0.205878</td>\n",
       "      <td>79.0</td>\n",
       "      <td>4841</td>\n",
       "    </tr>\n",
       "    <tr>\n",
       "      <th>30</th>\n",
       "      <td>150</td>\n",
       "      <td>1</td>\n",
       "      <td>0.232536</td>\n",
       "      <td>78.0</td>\n",
       "      <td>5000</td>\n",
       "    </tr>\n",
       "    <tr>\n",
       "      <th>0</th>\n",
       "      <td>25</td>\n",
       "      <td>1</td>\n",
       "      <td>0.251967</td>\n",
       "      <td>78.0</td>\n",
       "      <td>5000</td>\n",
       "    </tr>\n",
       "    <tr>\n",
       "      <th>18</th>\n",
       "      <td>100</td>\n",
       "      <td>1</td>\n",
       "      <td>0.208645</td>\n",
       "      <td>78.0</td>\n",
       "      <td>5000</td>\n",
       "    </tr>\n",
       "    <tr>\n",
       "      <th>24</th>\n",
       "      <td>125</td>\n",
       "      <td>1</td>\n",
       "      <td>0.212496</td>\n",
       "      <td>78.0</td>\n",
       "      <td>5000</td>\n",
       "    </tr>\n",
       "    <tr>\n",
       "      <th>12</th>\n",
       "      <td>75</td>\n",
       "      <td>1</td>\n",
       "      <td>0.203931</td>\n",
       "      <td>78.0</td>\n",
       "      <td>5000</td>\n",
       "    </tr>\n",
       "    <tr>\n",
       "      <th>6</th>\n",
       "      <td>50</td>\n",
       "      <td>1</td>\n",
       "      <td>0.203129</td>\n",
       "      <td>78.0</td>\n",
       "      <td>5000</td>\n",
       "    </tr>\n",
       "    <tr>\n",
       "      <th>23</th>\n",
       "      <td>100</td>\n",
       "      <td>1000</td>\n",
       "      <td>0.160986</td>\n",
       "      <td>59.0</td>\n",
       "      <td>5000</td>\n",
       "    </tr>\n",
       "    <tr>\n",
       "      <th>29</th>\n",
       "      <td>125</td>\n",
       "      <td>1000</td>\n",
       "      <td>0.166782</td>\n",
       "      <td>59.0</td>\n",
       "      <td>5000</td>\n",
       "    </tr>\n",
       "    <tr>\n",
       "      <th>17</th>\n",
       "      <td>75</td>\n",
       "      <td>1000</td>\n",
       "      <td>0.163259</td>\n",
       "      <td>59.0</td>\n",
       "      <td>5000</td>\n",
       "    </tr>\n",
       "    <tr>\n",
       "      <th>11</th>\n",
       "      <td>50</td>\n",
       "      <td>1000</td>\n",
       "      <td>0.159405</td>\n",
       "      <td>59.0</td>\n",
       "      <td>5000</td>\n",
       "    </tr>\n",
       "    <tr>\n",
       "      <th>5</th>\n",
       "      <td>25</td>\n",
       "      <td>1000</td>\n",
       "      <td>0.187448</td>\n",
       "      <td>59.0</td>\n",
       "      <td>5000</td>\n",
       "    </tr>\n",
       "    <tr>\n",
       "      <th>35</th>\n",
       "      <td>150</td>\n",
       "      <td>1000</td>\n",
       "      <td>0.197980</td>\n",
       "      <td>59.0</td>\n",
       "      <td>5000</td>\n",
       "    </tr>\n",
       "  </tbody>\n",
       "</table>\n",
       "</div>"
      ],
      "text/plain": [
       "    max_attempts  temp  run_time  best_fitness  stopped_at\n",
       "22           100   100  0.158517          98.0        4992\n",
       "34           150   100  0.196604          98.0        5000\n",
       "28           125   100  0.164689          98.0        5000\n",
       "16            75   100  0.154288          94.0        4720\n",
       "10            50   100  0.151367          94.0        4695\n",
       "9             50    50  0.165325          92.0        5000\n",
       "27           125    50  0.161948          92.0        5000\n",
       "21           100    50  0.167565          92.0        5000\n",
       "33           150    50  0.197044          92.0        5000\n",
       "15            75    50  0.159467          92.0        5000\n",
       "14            75    10  0.191483          91.0        5000\n",
       "26           125    10  0.204367          91.0        5000\n",
       "20           100    10  0.198281          91.0        5000\n",
       "32           150    10  0.213680          91.0        5000\n",
       "8             50    10  0.197689          91.0        5000\n",
       "3             25    50  0.167857          89.0        4581\n",
       "4             25   100  0.176664          88.0        4521\n",
       "19           100     5  0.176223          86.0        5000\n",
       "13            75     5  0.162766          86.0        5000\n",
       "25           125     5  0.176161          86.0        5000\n",
       "1             25     5  0.172729          86.0        4972\n",
       "31           150     5  0.174814          86.0        5000\n",
       "7             50     5  0.169619          86.0        5000\n",
       "2             25    10  0.205878          79.0        4841\n",
       "30           150     1  0.232536          78.0        5000\n",
       "0             25     1  0.251967          78.0        5000\n",
       "18           100     1  0.208645          78.0        5000\n",
       "24           125     1  0.212496          78.0        5000\n",
       "12            75     1  0.203931          78.0        5000\n",
       "6             50     1  0.203129          78.0        5000\n",
       "23           100  1000  0.160986          59.0        5000\n",
       "29           125  1000  0.166782          59.0        5000\n",
       "17            75  1000  0.163259          59.0        5000\n",
       "11            50  1000  0.159405          59.0        5000\n",
       "5             25  1000  0.187448          59.0        5000\n",
       "35           150  1000  0.197980          59.0        5000"
      ]
     },
     "execution_count": 86,
     "metadata": {},
     "output_type": "execute_result"
    }
   ],
   "source": [
    "df_results.sort_values(by='best_fitness', ascending=False)"
   ]
  },
  {
   "cell_type": "code",
   "execution_count": 87,
   "id": "6eecfcf7-7a70-4c6f-92e7-411ccaca8571",
   "metadata": {},
   "outputs": [],
   "source": [
    "best = joblib.load(\"four_peaks/sa/max_attempts100,temp100_curve.pkl\")\n",
    "len(best)\n",
    "fitness_vals_best = best[0].values"
   ]
  },
  {
   "cell_type": "code",
   "execution_count": 88,
   "id": "ad319e1b-e585-41c4-80ba-eeea8225d3b1",
   "metadata": {},
   "outputs": [
    {
     "data": {
      "text/plain": [
       "Text(0.5, 1.0, 'Fitness over Iterations')"
      ]
     },
     "execution_count": 88,
     "metadata": {},
     "output_type": "execute_result"
    },
    {
     "data": {
      "image/png": "[encoded data removed]",
      "text/plain": [
       "<Figure size 432x288 with 1 Axes>"
      ]
     },
     "metadata": {
      "needs_background": "light"
     },
     "output_type": "display_data"
    }
   ],
   "source": [
    "plt.plot(range(1, len(fitness_vals_best) + 1), fitness_vals_best)\n",
    "plt.title(\"Fitness over Iterations\")"
   ]
  },
  {
   "cell_type": "code",
   "execution_count": 92,
   "id": "19f12343-94f5-47ab-9605-762303ecdf34",
   "metadata": {},
   "outputs": [
    {
     "data": {
      "text/plain": [
       "['four_peaks/ga/four_peaks_ma_results.pkl']"
      ]
     },
     "execution_count": 92,
     "metadata": {},
     "output_type": "execute_result"
    }
   ],
   "source": [
    "attempts = [10, 100, 1000, 10000]\n",
    "populations = [100, 200, 300, 400]\n",
    "mutation_probs = [0.1, 0.2, 0.3]\n",
    "labels = ['max_attempts', 'population_size', 'mutation_probability', 'run_time', 'best_fitness', 'stopped_at']\n",
    "results_list=[]\n",
    "for a in attempts:\n",
    "    for pop in populations:\n",
    "        for prob in mutation_probs:\n",
    "            eval_func = FourPeaks(t_pct=.1)\n",
    "            problem = mlr.DiscreteOpt(N, eval_func)\n",
    "            start_time = time.perf_counter()\n",
    "            (best_state, best_fitness, curve) = mlr.genetic_alg(\n",
    "                problem,\n",
    "                pop_size=pop,\n",
    "                mutation_prob = prob,\n",
    "                max_attempts=a,\n",
    "                max_iters=max_iters,\n",
    "                curve=True,\n",
    "                random_state=1\n",
    "            )\n",
    "            run_time = time.perf_counter() - start_time\n",
    "            stopped_at = len(curve)\n",
    "            results_list.append((\n",
    "                a,\n",
    "                pop, \n",
    "                prob, \n",
    "                run_time, \n",
    "                best_fitness,\n",
    "                stopped_at,\n",
    "            ))\n",
    "            joblib.dump(pd.DataFrame.from_records(curve), f\"four_peaks/ga/max_attempts{a},pop{pop},mut{prob}_curve.pkl\")\n",
    "\n",
    "df_results = pd.DataFrame.from_records(results_list, columns=labels)\n",
    "joblib.dump(df_results, \"four_peaks/ga/four_peaks_ga_results.pkl\")"
   ]
  },
  {
   "cell_type": "code",
   "execution_count": 99,
   "id": "72c543b9-f18f-4d10-818a-cc27747fcde1",
   "metadata": {},
   "outputs": [],
   "source": [
    "ga_results = joblib.load(\"four_peaks/ga/four_peaks_ga_results.pkl\")"
   ]
  },
  {
   "cell_type": "code",
   "execution_count": 103,
   "id": "6112446c-fd36-438b-9d18-939da87fc7a0",
   "metadata": {},
   "outputs": [
    {
     "data": {
      "text/html": [
       "<div>\n",
       "<style scoped>\n",
       "    .dataframe tbody tr th:only-of-type {\n",
       "        vertical-align: middle;\n",
       "    }\n",
       "\n",
       "    .dataframe tbody tr th {\n",
       "        vertical-align: top;\n",
       "    }\n",
       "\n",
       "    .dataframe thead th {\n",
       "        text-align: right;\n",
       "    }\n",
       "</style>\n",
       "<table border=\"1\" class=\"dataframe\">\n",
       "  <thead>\n",
       "    <tr style=\"text-align: right;\">\n",
       "      <th></th>\n",
       "      <th>max_attempts</th>\n",
       "      <th>population_size</th>\n",
       "      <th>mutation_probability</th>\n",
       "      <th>run_time</th>\n",
       "      <th>best_fitness</th>\n",
       "      <th>stopped_at</th>\n",
       "    </tr>\n",
       "  </thead>\n",
       "  <tbody>\n",
       "    <tr>\n",
       "      <th>50</th>\n",
       "      <td>100</td>\n",
       "      <td>100</td>\n",
       "      <td>0.3</td>\n",
       "      <td>3.210806</td>\n",
       "      <td>189.0</td>\n",
       "      <td>375.0</td>\n",
       "    </tr>\n",
       "    <tr>\n",
       "      <th>93</th>\n",
       "      <td>100</td>\n",
       "      <td>100</td>\n",
       "      <td>0.3</td>\n",
       "      <td>3.312235</td>\n",
       "      <td>189.0</td>\n",
       "      <td>375.0</td>\n",
       "    </tr>\n",
       "    <tr>\n",
       "      <th>49</th>\n",
       "      <td>100</td>\n",
       "      <td>100</td>\n",
       "      <td>0.2</td>\n",
       "      <td>3.803890</td>\n",
       "      <td>189.0</td>\n",
       "      <td>489.0</td>\n",
       "    </tr>\n",
       "    <tr>\n",
       "      <th>92</th>\n",
       "      <td>100</td>\n",
       "      <td>100</td>\n",
       "      <td>0.2</td>\n",
       "      <td>3.932306</td>\n",
       "      <td>189.0</td>\n",
       "      <td>489.0</td>\n",
       "    </tr>\n",
       "    <tr>\n",
       "      <th>47</th>\n",
       "      <td>10</td>\n",
       "      <td>400</td>\n",
       "      <td>0.3</td>\n",
       "      <td>4.250422</td>\n",
       "      <td>189.0</td>\n",
       "      <td>133.0</td>\n",
       "    </tr>\n",
       "    <tr>\n",
       "      <th>...</th>\n",
       "      <td>...</td>\n",
       "      <td>...</td>\n",
       "      <td>...</td>\n",
       "      <td>...</td>\n",
       "      <td>...</td>\n",
       "      <td>...</td>\n",
       "    </tr>\n",
       "    <tr>\n",
       "      <th>121</th>\n",
       "      <td>10000</td>\n",
       "      <td>300</td>\n",
       "      <td>0.1</td>\n",
       "      <td>149.916847</td>\n",
       "      <td>189.0</td>\n",
       "      <td>5000.0</td>\n",
       "    </tr>\n",
       "    <tr>\n",
       "      <th>123</th>\n",
       "      <td>10000</td>\n",
       "      <td>300</td>\n",
       "      <td>0.3</td>\n",
       "      <td>150.552020</td>\n",
       "      <td>189.0</td>\n",
       "      <td>5000.0</td>\n",
       "    </tr>\n",
       "    <tr>\n",
       "      <th>125</th>\n",
       "      <td>10000</td>\n",
       "      <td>400</td>\n",
       "      <td>0.2</td>\n",
       "      <td>176.269113</td>\n",
       "      <td>189.0</td>\n",
       "      <td>5000.0</td>\n",
       "    </tr>\n",
       "    <tr>\n",
       "      <th>126</th>\n",
       "      <td>10000</td>\n",
       "      <td>400</td>\n",
       "      <td>0.3</td>\n",
       "      <td>192.577303</td>\n",
       "      <td>189.0</td>\n",
       "      <td>5000.0</td>\n",
       "    </tr>\n",
       "    <tr>\n",
       "      <th>124</th>\n",
       "      <td>10000</td>\n",
       "      <td>400</td>\n",
       "      <td>0.1</td>\n",
       "      <td>194.554644</td>\n",
       "      <td>189.0</td>\n",
       "      <td>5000.0</td>\n",
       "    </tr>\n",
       "  </tbody>\n",
       "</table>\n",
       "<p>69 rows × 6 columns</p>\n",
       "</div>"
      ],
      "text/plain": [
       "     max_attempts  population_size  mutation_probability    run_time  \\\n",
       "50            100              100                   0.3    3.210806   \n",
       "93            100              100                   0.3    3.312235   \n",
       "49            100              100                   0.2    3.803890   \n",
       "92            100              100                   0.2    3.932306   \n",
       "47             10              400                   0.3    4.250422   \n",
       "..            ...              ...                   ...         ...   \n",
       "121         10000              300                   0.1  149.916847   \n",
       "123         10000              300                   0.3  150.552020   \n",
       "125         10000              400                   0.2  176.269113   \n",
       "126         10000              400                   0.3  192.577303   \n",
       "124         10000              400                   0.1  194.554644   \n",
       "\n",
       "     best_fitness  stopped_at  \n",
       "50          189.0       375.0  \n",
       "93          189.0       375.0  \n",
       "49          189.0       489.0  \n",
       "92          189.0       489.0  \n",
       "47          189.0       133.0  \n",
       "..            ...         ...  \n",
       "121         189.0      5000.0  \n",
       "123         189.0      5000.0  \n",
       "125         189.0      5000.0  \n",
       "126         189.0      5000.0  \n",
       "124         189.0      5000.0  \n",
       "\n",
       "[69 rows x 6 columns]"
      ]
     },
     "execution_count": 103,
     "metadata": {},
     "output_type": "execute_result"
    }
   ],
   "source": [
    "ga_results.sort_values(by=\"best_fitness\", ascending=False)\n",
    "ga_results.loc[ga_results['best_fitness'] == 189].sort_values(by=\"run_time\")"
   ]
  },
  {
   "cell_type": "code",
   "execution_count": 241,
   "id": "f5410aac-3134-4b0e-bcde-a8bf8631046f",
   "metadata": {},
   "outputs": [
    {
     "data": {
      "text/plain": [
       "Text(0.5, 1.0, 'Fitness over #Iterations')"
      ]
     },
     "execution_count": 241,
     "metadata": {},
     "output_type": "execute_result"
    },
    {
     "data": {
      "image/png": "[encoded data removed]",
      "text/plain": [
       "<Figure size 432x288 with 1 Axes>"
      ]
     },
     "metadata": {
      "needs_background": "light"
     },
     "output_type": "display_data"
    }
   ],
   "source": [
    "ga_curve = joblib.load(\"four_peaks/ga/max_attempts100,pop100,mut0.3_curve.pkl\")\n",
    "ga_vals_best = ga_curve[0].values\n",
    "plt.plot(range(1, len(ga_vals_best) + 1), ga_vals_best)\n",
    "plt.title(\"Fitness over #Iterations\")"
   ]
  },
  {
   "cell_type": "code",
   "execution_count": 244,
   "id": "89c76912-6451-4b38-82df-5330b860ac3f",
   "metadata": {},
   "outputs": [
    {
     "data": {
      "text/plain": [
       "['four_peaks/mimic/four_peaks_mimic_results.pkl']"
      ]
     },
     "execution_count": 244,
     "metadata": {},
     "output_type": "execute_result"
    }
   ],
   "source": [
    "pcts = [0.1, 0.2, 0.4, 0.6, 0.8]\n",
    "pops = [100, 200, 300]\n",
    "labels = ['keep_pct', 'population_size', 'run_time', 'best_fitness', 'stopped_at']\n",
    "results_list = []\n",
    "for pct in pcts:\n",
    "    for pop in pops:\n",
    "        eval_func = FourPeaks(t_pct=.1)\n",
    "        prob = mlr.DiscreteOpt(N, eval_func)\n",
    "        start_time = time.perf_counter()\n",
    "        best_state, best_fitness, curve = mlr.mimic(\n",
    "            prob,\n",
    "            pop_size=pop,\n",
    "            keep_pct=pct,\n",
    "            max_iters=np.inf, \n",
    "            random_state=1, \n",
    "            curve=True,\n",
    "            )\n",
    "        run_time = time.perf_counter() - start_time\n",
    "        stopped_at = len(curve)\n",
    "        results_list.append([pct, pop, run_time, best_fitness, stopped_at])\n",
    "        joblib.dump(pd.DataFrame.from_records(curve), f\"four_peaks/mimic/pct{pct},pop{pop}_curve.pkl\")\n",
    "df_results = pd.DataFrame.from_records(results_list, columns=labels)\n",
    "joblib.dump(df_results, \"four_peaks/mimic/four_peaks_mimic_results.pkl\")"
   ]
  },
  {
   "cell_type": "code",
   "execution_count": 246,
   "id": "dfc940f1-e7dc-4b5e-87b5-71569319e29b",
   "metadata": {},
   "outputs": [],
   "source": [
    "mimic_results = joblib.load(\"four_peaks/mimic/four_peaks_mimic_results.pkl\")"
   ]
  },
  {
   "cell_type": "code",
   "execution_count": 247,
   "id": "7ae8a3b2-d375-4e99-a3ba-254f60b2d6a3",
   "metadata": {},
   "outputs": [
    {
     "data": {
      "text/html": [
       "<div>\n",
       "<style scoped>\n",
       "    .dataframe tbody tr th:only-of-type {\n",
       "        vertical-align: middle;\n",
       "    }\n",
       "\n",
       "    .dataframe tbody tr th {\n",
       "        vertical-align: top;\n",
       "    }\n",
       "\n",
       "    .dataframe thead th {\n",
       "        text-align: right;\n",
       "    }\n",
       "</style>\n",
       "<table border=\"1\" class=\"dataframe\">\n",
       "  <thead>\n",
       "    <tr style=\"text-align: right;\">\n",
       "      <th></th>\n",
       "      <th>keep_pct</th>\n",
       "      <th>population_size</th>\n",
       "      <th>run_time</th>\n",
       "      <th>best_fitness</th>\n",
       "      <th>stopped_at</th>\n",
       "    </tr>\n",
       "  </thead>\n",
       "  <tbody>\n",
       "    <tr>\n",
       "      <th>5</th>\n",
       "      <td>0.2</td>\n",
       "      <td>300</td>\n",
       "      <td>143.503662</td>\n",
       "      <td>137.0</td>\n",
       "      <td>35</td>\n",
       "    </tr>\n",
       "    <tr>\n",
       "      <th>8</th>\n",
       "      <td>0.4</td>\n",
       "      <td>300</td>\n",
       "      <td>103.295903</td>\n",
       "      <td>117.0</td>\n",
       "      <td>25</td>\n",
       "    </tr>\n",
       "    <tr>\n",
       "      <th>4</th>\n",
       "      <td>0.2</td>\n",
       "      <td>200</td>\n",
       "      <td>72.487481</td>\n",
       "      <td>116.0</td>\n",
       "      <td>18</td>\n",
       "    </tr>\n",
       "    <tr>\n",
       "      <th>7</th>\n",
       "      <td>0.4</td>\n",
       "      <td>200</td>\n",
       "      <td>88.154422</td>\n",
       "      <td>116.0</td>\n",
       "      <td>22</td>\n",
       "    </tr>\n",
       "    <tr>\n",
       "      <th>1</th>\n",
       "      <td>0.1</td>\n",
       "      <td>200</td>\n",
       "      <td>63.940104</td>\n",
       "      <td>114.0</td>\n",
       "      <td>16</td>\n",
       "    </tr>\n",
       "    <tr>\n",
       "      <th>2</th>\n",
       "      <td>0.1</td>\n",
       "      <td>300</td>\n",
       "      <td>91.016289</td>\n",
       "      <td>27.0</td>\n",
       "      <td>22</td>\n",
       "    </tr>\n",
       "    <tr>\n",
       "      <th>10</th>\n",
       "      <td>0.6</td>\n",
       "      <td>200</td>\n",
       "      <td>57.807055</td>\n",
       "      <td>15.0</td>\n",
       "      <td>14</td>\n",
       "    </tr>\n",
       "    <tr>\n",
       "      <th>11</th>\n",
       "      <td>0.6</td>\n",
       "      <td>300</td>\n",
       "      <td>80.327130</td>\n",
       "      <td>15.0</td>\n",
       "      <td>19</td>\n",
       "    </tr>\n",
       "    <tr>\n",
       "      <th>14</th>\n",
       "      <td>0.8</td>\n",
       "      <td>300</td>\n",
       "      <td>62.164129</td>\n",
       "      <td>14.0</td>\n",
       "      <td>15</td>\n",
       "    </tr>\n",
       "    <tr>\n",
       "      <th>3</th>\n",
       "      <td>0.2</td>\n",
       "      <td>100</td>\n",
       "      <td>43.725482</td>\n",
       "      <td>12.0</td>\n",
       "      <td>11</td>\n",
       "    </tr>\n",
       "    <tr>\n",
       "      <th>13</th>\n",
       "      <td>0.8</td>\n",
       "      <td>200</td>\n",
       "      <td>53.039161</td>\n",
       "      <td>12.0</td>\n",
       "      <td>13</td>\n",
       "    </tr>\n",
       "    <tr>\n",
       "      <th>0</th>\n",
       "      <td>0.1</td>\n",
       "      <td>100</td>\n",
       "      <td>47.015017</td>\n",
       "      <td>11.0</td>\n",
       "      <td>12</td>\n",
       "    </tr>\n",
       "    <tr>\n",
       "      <th>6</th>\n",
       "      <td>0.4</td>\n",
       "      <td>100</td>\n",
       "      <td>72.177156</td>\n",
       "      <td>11.0</td>\n",
       "      <td>18</td>\n",
       "    </tr>\n",
       "    <tr>\n",
       "      <th>9</th>\n",
       "      <td>0.6</td>\n",
       "      <td>100</td>\n",
       "      <td>43.995203</td>\n",
       "      <td>11.0</td>\n",
       "      <td>11</td>\n",
       "    </tr>\n",
       "    <tr>\n",
       "      <th>12</th>\n",
       "      <td>0.8</td>\n",
       "      <td>100</td>\n",
       "      <td>83.255204</td>\n",
       "      <td>10.0</td>\n",
       "      <td>21</td>\n",
       "    </tr>\n",
       "  </tbody>\n",
       "</table>\n",
       "</div>"
      ],
      "text/plain": [
       "    keep_pct  population_size    run_time  best_fitness  stopped_at\n",
       "5        0.2              300  143.503662         137.0          35\n",
       "8        0.4              300  103.295903         117.0          25\n",
       "4        0.2              200   72.487481         116.0          18\n",
       "7        0.4              200   88.154422         116.0          22\n",
       "1        0.1              200   63.940104         114.0          16\n",
       "2        0.1              300   91.016289          27.0          22\n",
       "10       0.6              200   57.807055          15.0          14\n",
       "11       0.6              300   80.327130          15.0          19\n",
       "14       0.8              300   62.164129          14.0          15\n",
       "3        0.2              100   43.725482          12.0          11\n",
       "13       0.8              200   53.039161          12.0          13\n",
       "0        0.1              100   47.015017          11.0          12\n",
       "6        0.4              100   72.177156          11.0          18\n",
       "9        0.6              100   43.995203          11.0          11\n",
       "12       0.8              100   83.255204          10.0          21"
      ]
     },
     "execution_count": 247,
     "metadata": {},
     "output_type": "execute_result"
    }
   ],
   "source": [
    "mimic_results.sort_values(by=\"best_fitness\", ascending=False)"
   ]
  },
  {
   "cell_type": "code",
   "execution_count": 110,
   "id": "d037d5ab-0aee-464e-929a-e24e2233ea90",
   "metadata": {},
   "outputs": [
    {
     "data": {
      "text/plain": [
       "[<matplotlib.lines.Line2D at 0x7fd460d966d0>]"
      ]
     },
     "execution_count": 110,
     "metadata": {},
     "output_type": "execute_result"
    },
    {
     "data": {
      "image/png": "[encoded data removed]",
      "text/plain": [
       "<Figure size 432x288 with 1 Axes>"
      ]
     },
     "metadata": {
      "needs_background": "light"
     },
     "output_type": "display_data"
    }
   ],
   "source": [
    "mimic_curve = joblib.load(\"four_peaks/mimic/pct0.1,pop500_curve.pkl\")\n",
    "mimic_vals_best = mimic_curve[0].values\n",
    "plt.plot(range(1, len(mimic_vals_best) + 1), mimic_vals_best)"
   ]
  },
  {
   "cell_type": "code",
   "execution_count": 284,
   "id": "55baa624-5b72-4e39-a081-b83341c2b8bc",
   "metadata": {},
   "outputs": [
    {
     "data": {
      "text/plain": [
       "array([  9.,   9.,   9.,   9.,   9.,   9.,   9.,   9.,   9.,   9.,   9.,\n",
       "         9.,   9.,   9.,   9.,   9.,   9.,   9.,   9.,   9.,   9.,   9.,\n",
       "         9.,   9.,   9.,   9.,   9.,   9.,   9.,   9.,   9.,   9.,   9.,\n",
       "         9.,   9.,   9.,   9.,   9.,   9.,   9.,   9.,   9.,   9.,   9.,\n",
       "         9.,   9.,   9.,   9.,   9.,   9.,   9.,   9.,   9.,   9.,   9.,\n",
       "         9.,   9.,   9.,   9.,   9.,   9.,   9.,   9.,   9.,   9.,   9.,\n",
       "         9.,   9.,   9.,   9.,   9.,   9.,   9.,   9.,   9.,   9.,   9.,\n",
       "         9.,   9.,   9.,   9.,   9.,   9.,   9.,   9.,   9.,   9.,   9.,\n",
       "         9.,   9.,   9.,   9.,   9.,   9.,   9.,   9.,   9.,   9.,   9.,\n",
       "         9.,   9.,   9.,   9.,   9.,   9.,   9.,   9.,   9.,   9.,   9.,\n",
       "         9.,   9.,   9.,   9.,   9.,   9.,   9.,   9.,   9.,   9.,   9.,\n",
       "         9.,   9.,   9.,   9.,   9.,   9.,   9.,   9.,   9.,   9.,  12.,\n",
       "        12.,  12.,  12.,  12.,  12.,  12.,  12.,  12.,  12.,  12.,  12.,\n",
       "        12.,  12.,  12.,  12.,  12.,  13.,  13.,  13.,  13.,  13.,  13.,\n",
       "        13.,  13.,  13.,  13.,  13.,  13.,  13.,  13.,  13.,  13.,  13.,\n",
       "        13.,  13.,  13.,  13.,  13.,  13.,  13.,  13.,  13.,  13.,  13.,\n",
       "        13.,  13.,  13.,  13.,  13.,  13.,  13.,  13.,  13.,  13.,  13.,\n",
       "        13.,  13.,  13.,  13.,  13.,  13.,  13.,  13.,  13.,  13.,  13.,\n",
       "        13.,  13.,  13.,  13.,  13.,  13.,  13.,  13.,  13.,  13.,  13.,\n",
       "        13.,  13.,  13.,  14.,  14.,  14.,  14.,  14.,  14.,  14.,  14.,\n",
       "        14.,  14.,  14.,  14.,  14.,  14.,  14.,  14.,  14.,  14.,  14.,\n",
       "        14.,  14.,  14.,  14.,  14.,  14.,  14.,  14.,  14.,  14.,  14.,\n",
       "        14.,  14.,  14.,  14.,  14.,  14.,  14.,  14.,  14.,  14., 114.,\n",
       "       114., 114., 114., 114., 114., 114., 114., 114., 114., 114., 114.,\n",
       "       114., 114., 114., 114., 114., 114., 114., 114., 114., 114., 114.,\n",
       "       114., 114., 114., 114., 114., 114., 114., 114., 114., 114., 114.,\n",
       "       114., 114., 114., 114., 114., 114., 114., 114., 114., 114., 114.,\n",
       "       114., 114., 114., 114., 114., 114., 114., 114., 114., 114., 114.,\n",
       "       114., 114., 114., 114., 114., 114., 114., 114., 114., 114., 114.,\n",
       "       114., 114., 114., 114., 114., 114., 114., 114., 114., 114., 114.,\n",
       "       114., 114., 114., 114., 114., 114., 114., 114., 114., 114., 114.,\n",
       "       114., 114., 114., 114., 114., 114., 114., 114., 114., 114., 114.,\n",
       "       114., 114., 114., 114., 114., 114., 114., 114., 114., 114., 114.,\n",
       "       114., 114., 114., 114., 114., 114., 114., 114., 114., 114., 114.,\n",
       "       114., 114., 114., 114., 114., 114., 114., 114., 114., 114., 114.,\n",
       "       114., 114., 114., 114., 114., 114., 114., 114., 114., 114., 114.,\n",
       "       114., 114., 114., 114., 114., 114., 114.])"
      ]
     },
     "execution_count": 284,
     "metadata": {},
     "output_type": "execute_result"
    }
   ],
   "source": [
    "rhc_curve = joblib.load(\"four_peaks/rhc/max_attempts150,restarts100_curve.pkl\")\n",
    "rhc_curve[0].values"
   ]
  },
  {
   "cell_type": "code",
   "execution_count": 295,
   "id": "f9ba5073-e7a4-4cc8-ab3f-5204919dff79",
   "metadata": {},
   "outputs": [
    {
     "data": {
      "text/plain": [
       "Text(0.5, 1.0, 'Fitness over Iterations, N=100')"
      ]
     },
     "execution_count": 295,
     "metadata": {},
     "output_type": "execute_result"
    },
    {
     "data": {
      "image/png": "[encoded data removed]",
      "text/plain": [
       "<Figure size 432x288 with 1 Axes>"
      ]
     },
     "metadata": {
      "needs_background": "light"
     },
     "output_type": "display_data"
    }
   ],
   "source": [
    "rhc_curve = joblib.load(\"four_peaks/rhc/max_attempts150,restarts100_curve.pkl\")\n",
    "sa_curve = joblib.load(\"four_peaks/sa/max_attempts100,temp100_curve.pkl\")\n",
    "ga_curve = joblib.load(\"four_peaks/ga/max_attempts100,pop100,mut0.3_curve.pkl\")\n",
    "mimic_curve = joblib.load(\"four_peaks/mimic/pct0.1,pop500_curve.pkl\")\n",
    "all_best_curves = [rhc_curve, sa_curve, ga_curve, mimic_curve]\n",
    "max_iterations = max([len(c)] for c in all_best_curves)\n",
    "plt.plot(range(1, len(rhc_curve) + 1), rhc_curve[0].values, label=\"RHC\")\n",
    "plt.plot(range(1, len(sa_curve) + 1), sa_curve[0].values, label=\"SA\")\n",
    "plt.plot(range(1, len(ga_curve) + 1), ga_curve[0].values, label=\"GA\")\n",
    "plt.plot(range(1, len(mimic_curve) + 1), mimic_curve[0].values, label=\"MIMIC\")\n",
    "plt.legend(loc=\"best\")\n",
    "plt.xlabel(\"# Iterations\")\n",
    "plt.ylabel(\"Fitness\")\n",
    "plt.title(\"Fitness over Iterations, N=100\")"
   ]
  },
  {
   "cell_type": "code",
   "execution_count": 3,
   "id": "9718675d-669a-46c6-b013-64a9f71c619f",
   "metadata": {},
   "outputs": [
    {
     "data": {
      "text/plain": [
       "Text(0.5, 1.0, 'Fn Evals over Iterations, N=100')"
      ]
     },
     "execution_count": 3,
     "metadata": {},
     "output_type": "execute_result"
    },
    {
     "data": {
      "image/png": "[encoded data removed]",
      "text/plain": [
       "<Figure size 432x288 with 1 Axes>"
      ]
     },
     "metadata": {
      "needs_background": "light"
     },
     "output_type": "display_data"
    }
   ],
   "source": [
    "rhc_curve = joblib.load(\"four_peaks/rhc/max_attempts150,restarts100_curve.pkl\")\n",
    "sa_curve = joblib.load(\"four_peaks/sa/max_attempts100,temp100_curve.pkl\")\n",
    "ga_curve = joblib.load(\"four_peaks/ga/max_attempts100,pop100,mut0.3_curve.pkl\")\n",
    "mimic_curve = joblib.load(\"four_peaks/mimic/pct0.1,pop500_curve.pkl\")\n",
    "all_best_curves = [rhc_curve, sa_curve, ga_curve, mimic_curve]\n",
    "max_iterations = max([len(c)] for c in all_best_curves)\n",
    "plt.plot(range(1, len(rhc_curve) + 1), rhc_curve[1].values, label=\"RHC\")\n",
    "plt.plot(range(1, len(sa_curve) + 1), sa_curve[1].values, label=\"SA\")\n",
    "plt.plot(range(1, len(ga_curve) + 1), ga_curve[1].values, label=\"GA\")\n",
    "plt.plot(range(1, len(mimic_curve) + 1), mimic_curve[1].values, label=\"MIMIC\")\n",
    "plt.legend(loc=\"best\")\n",
    "plt.xlabel(\"# Iterations\")\n",
    "plt.ylabel(\"Fn Evals\")\n",
    "plt.title(\"Fn Evals over Iterations, N=100\")"
   ]
  },
  {
   "cell_type": "code",
   "execution_count": 121,
   "id": "390d20b1-46df-44f5-b997-e6eca23d4ec9",
   "metadata": {},
   "outputs": [
    {
     "data": {
      "text/plain": [
       "2"
      ]
     },
     "execution_count": 121,
     "metadata": {},
     "output_type": "execute_result"
    }
   ],
   "source": [
    "np.logspace(1, 10, num=10, base=2)"
   ]
  },
  {
   "cell_type": "code",
   "execution_count": 1,
   "id": "6e5b0727-dbe1-46dc-8ce0-c0c331300d0a",
   "metadata": {},
   "outputs": [
    {
     "ename": "NameError",
     "evalue": "name 'FourPeaks' is not defined",
     "output_type": "error",
     "traceback": [
      "\u001b[0;31m---------------------------------------------------------------------------\u001b[0m",
      "\u001b[0;31mNameError\u001b[0m                                 Traceback (most recent call last)",
      "\u001b[0;32m<ipython-input-1-0486ea3a1327>\u001b[0m in \u001b[0;36m<module>\u001b[0;34m\u001b[0m\n\u001b[1;32m     10\u001b[0m     \u001b[0mfn_evals_per_iteration\u001b[0m\u001b[0;34m=\u001b[0m\u001b[0;34m[\u001b[0m\u001b[0;34m]\u001b[0m\u001b[0;34m\u001b[0m\u001b[0;34m\u001b[0m\u001b[0m\n\u001b[1;32m     11\u001b[0m     \u001b[0;32mfor\u001b[0m \u001b[0mi\u001b[0m \u001b[0;32min\u001b[0m \u001b[0mrange\u001b[0m\u001b[0;34m(\u001b[0m\u001b[0;36m5\u001b[0m\u001b[0;34m)\u001b[0m\u001b[0;34m:\u001b[0m\u001b[0;34m\u001b[0m\u001b[0;34m\u001b[0m\u001b[0m\n\u001b[0;32m---> 12\u001b[0;31m         \u001b[0meval_func\u001b[0m \u001b[0;34m=\u001b[0m \u001b[0mFourPeaks\u001b[0m\u001b[0;34m(\u001b[0m\u001b[0;34m)\u001b[0m\u001b[0;34m\u001b[0m\u001b[0;34m\u001b[0m\u001b[0m\n\u001b[0m\u001b[1;32m     13\u001b[0m         \u001b[0mprob\u001b[0m \u001b[0;34m=\u001b[0m \u001b[0mmlr\u001b[0m\u001b[0;34m.\u001b[0m\u001b[0mDiscreteOpt\u001b[0m\u001b[0;34m(\u001b[0m\u001b[0mint\u001b[0m\u001b[0;34m(\u001b[0m\u001b[0mn\u001b[0m\u001b[0;34m)\u001b[0m\u001b[0;34m,\u001b[0m \u001b[0meval_func\u001b[0m\u001b[0;34m)\u001b[0m\u001b[0;34m\u001b[0m\u001b[0;34m\u001b[0m\u001b[0m\n\u001b[1;32m     14\u001b[0m         \u001b[0mstart_time\u001b[0m \u001b[0;34m=\u001b[0m \u001b[0mtime\u001b[0m\u001b[0;34m.\u001b[0m\u001b[0mperf_counter\u001b[0m\u001b[0;34m(\u001b[0m\u001b[0;34m)\u001b[0m\u001b[0;34m\u001b[0m\u001b[0;34m\u001b[0m\u001b[0m\n",
      "\u001b[0;31mNameError\u001b[0m: name 'FourPeaks' is not defined"
     ]
    }
   ],
   "source": [
    "Ns = [10, 15, 20, 25,50,100,150,200]\n",
    "rhc_run_times = []\n",
    "rhc_best_fitnesses = []\n",
    "rhc_fitness_per_iteration = []\n",
    "rhc_fn_evals_per_iteration = []\n",
    "for n in Ns:\n",
    "    times=[]\n",
    "    best_fitnesses=[]\n",
    "    fitness_per_iteration=[]\n",
    "    fn_evals_per_iteration=[]\n",
    "    for i in range(5):\n",
    "        eval_func = FourPeaks()\n",
    "        prob = mlr.DiscreteOpt(int(n), eval_func)\n",
    "        start_time = time.perf_counter()\n",
    "        best_state, best_fitness, curve = mlr.random_hill_climb(prob, restarts=100, max_iters=1000, curve=True)\n",
    "        run_time = time.perf_counter() - start_time\n",
    "        fitness_per_iteration.append([c[0] for c in curve])\n",
    "        fn_evals_per_iteration.append([c[1] for c in curve])\n",
    "        times.append(run_time)\n",
    "        best_fitnesses.append(best_fitness)\n",
    "\n",
    "    fn_evals_avgs=helpers.avg_nested_lists(fn_evals_per_iteration)\n",
    "    rhc_fn_evals_per_iteration.append(fn_evals_avgs)\n",
    "    \n",
    "    c_avgs=helpers.avg_nested_lists(fitness_per_iteration)\n",
    "    rhc_fitness_per_iteration.append(c_avgs)\n",
    "    \n",
    "    avg_fitness = np.mean(best_fitnesses)\n",
    "    rhc_best_fitnesses.append(avg_fitness)\n",
    "    \n",
    "    avg_run_time = np.mean(times)\n",
    "    rhc_run_times.append(avg_run_time)"
   ]
  },
  {
   "cell_type": "code",
   "execution_count": 265,
   "id": "274f20eb-d75a-4e8c-bd29-fc1b3a307a56",
   "metadata": {},
   "outputs": [
    {
     "data": {
      "text/plain": [
       "([18.0, 26.6, 33.8, 33.8, 19.0, 9.4, 8.6, 10.6],\n",
       " [0.04304674639715813,\n",
       "  0.03730939840315841,\n",
       "  0.029308623593533412,\n",
       "  0.023021449998486786,\n",
       "  0.018947571399621665,\n",
       "  0.017804033210268244,\n",
       "  0.017604787787422537,\n",
       "  0.018096516403602436],\n",
       " 8)"
      ]
     },
     "execution_count": 265,
     "metadata": {},
     "output_type": "execute_result"
    }
   ],
   "source": [
    "rhc_best_fitnesses, rhc_run_times, len(rhc_fn_evals_per_iteration)"
   ]
  },
  {
   "cell_type": "code",
   "execution_count": 267,
   "id": "f4e8f6ec-3685-46f4-8d6b-25f03f395c27",
   "metadata": {},
   "outputs": [
    {
     "data": {
      "text/plain": [
       "[<matplotlib.lines.Line2D at 0x7fd46109e110>]"
      ]
     },
     "execution_count": 267,
     "metadata": {},
     "output_type": "execute_result"
    },
    {
     "data": {
      "image/png": "[encoded data removed]",
      "text/plain": [
       "<Figure size 432x288 with 1 Axes>"
      ]
     },
     "metadata": {
      "needs_background": "light"
     },
     "output_type": "display_data"
    }
   ],
   "source": [
    "plt.plot(Ns, [rhc[-1] for rhc in rhc_fn_evals_per_iteration])"
   ]
  },
  {
   "cell_type": "code",
   "execution_count": 271,
   "id": "c88fe65c-a3cb-4b5a-a39c-79ce476f111c",
   "metadata": {},
   "outputs": [],
   "source": [
    "Ns = [10, 15, 20, 25,50,100,150,200]\n",
    "sa_run_times = []\n",
    "sa_best_fitnesses = []\n",
    "sa_fitness_per_iteration = []\n",
    "sa_fn_evals_per_iteration = []\n",
    "for n in Ns:\n",
    "    times=[]\n",
    "    best_fitnesses=[]\n",
    "    fitness_per_iteration=[]\n",
    "    fn_evals_per_iteration=[]\n",
    "    for i in range(5):\n",
    "        eval_func = FourPeaks()\n",
    "        prob = mlr.DiscreteOpt(int(n), eval_func)\n",
    "        start_time = time.perf_counter()\n",
    "        best_state, best_fitness, curve = mlr.simulated_annealing(prob, max_iters=1000, schedule=mlr.GeomDecay(init_temp=100), curve=True)\n",
    "        run_time = time.perf_counter() - start_time\n",
    "        fitness_per_iteration.append([c[0] for c in curve])\n",
    "        fn_evals_per_iteration.append([c[1] for c in curve])\n",
    "        times.append(run_time)\n",
    "        best_fitnesses.append(best_fitness)\n",
    "\n",
    "    fn_evals_avgs=helpers.avg_nested_lists(fn_evals_per_iteration)\n",
    "    sa_fn_evals_per_iteration.append(fn_evals_avgs)\n",
    "    \n",
    "    c_avgs=helpers.avg_nested_lists(fitness_per_iteration)\n",
    "    sa_fitness_per_iteration.append(c_avgs)    \n",
    "    \n",
    "    avg = np.mean(best_fitnesses)\n",
    "    sa_best_fitnesses.append(avg)\n",
    "    \n",
    "    avg_run_time = np.mean(times)\n",
    "    sa_run_times.append(avg_run_time)"
   ]
  },
  {
   "cell_type": "code",
   "execution_count": 272,
   "id": "0f0a4610-d6be-46ac-937f-3268731b9d60",
   "metadata": {},
   "outputs": [
    {
     "data": {
      "text/plain": [
       "Text(0.5, 1.0, 'Fitness over N')"
      ]
     },
     "execution_count": 272,
     "metadata": {},
     "output_type": "execute_result"
    },
    {
     "data": {
      "image/png": "[encoded data removed]",
      "text/plain": [
       "<Figure size 432x288 with 1 Axes>"
      ]
     },
     "metadata": {
      "needs_background": "light"
     },
     "output_type": "display_data"
    }
   ],
   "source": [
    "sa_best_fitnesses, sa_run_times\n",
    "plt.plot(Ns, sa_best_fitnesses)\n",
    "plt.title(\"Fitness over N\")"
   ]
  },
  {
   "cell_type": "code",
   "execution_count": 275,
   "id": "553b042f-5ca3-4c40-834f-ca9d79183fc1",
   "metadata": {},
   "outputs": [
    {
     "data": {
      "text/plain": [
       "[<matplotlib.lines.Line2D at 0x7fd43090fb50>]"
      ]
     },
     "execution_count": 275,
     "metadata": {},
     "output_type": "execute_result"
    },
    {
     "data": {
      "image/png": "[encoded data removed]",
      "text/plain": [
       "<Figure size 432x288 with 1 Axes>"
      ]
     },
     "metadata": {
      "needs_background": "light"
     },
     "output_type": "display_data"
    }
   ],
   "source": [
    "plt.plot(Ns, sa_run_times)"
   ]
  },
  {
   "cell_type": "code",
   "execution_count": 256,
   "id": "12933659-d02e-4fc4-b6fd-079cb45a72bc",
   "metadata": {},
   "outputs": [],
   "source": [
    "Ns = [10, 15, 20, 25,50,100,150,200]\n",
    "ga_run_times = []\n",
    "ga_best_fitnesses = []\n",
    "ga_fitness_per_iteration = []\n",
    "ga_fn_evals_per_iteration = []\n",
    "for n in Ns:\n",
    "    times=[]\n",
    "    best_fitnesses=[]\n",
    "    fitness_per_iteration=[]\n",
    "    fn_evals_per_iteration=[]\n",
    "    for i in range(5):\n",
    "        eval_func = FourPeaks()\n",
    "        prob = mlr.DiscreteOpt(int(n), eval_func)\n",
    "        start_time = time.perf_counter()\n",
    "        (best_state, best_fitness, curve) = mlr.genetic_alg(\n",
    "            prob,\n",
    "            pop_size=200,\n",
    "            mutation_prob = 0.1,\n",
    "            max_iters=1000,\n",
    "            curve=True,\n",
    "        )\n",
    "        run_time = time.perf_counter() - start_time\n",
    "        fitness_per_iteration.append([c[0] for c in curve])\n",
    "        fn_evals_per_iteration.append([c[1] for c in curve])\n",
    "        times.append(run_time)\n",
    "        best_fitnesses.append(best_fitness)\n",
    "        \n",
    "    fn_evals_avgs=helpers.avg_nested_lists(fn_evals_per_iteration)\n",
    "    ga_fn_evals_per_iteration.append(fn_evals_avgs)\n",
    "    \n",
    "    c_avgs=helpers.avg_nested_lists(fitness_per_iteration)\n",
    "    ga_fitness_per_iteration.append(c_avgs)\n",
    "    \n",
    "    avg = np.mean(best_fitnesses)\n",
    "    ga_best_fitnesses.append(avg)\n",
    "        \n",
    "    avg_run_time = np.mean(times)\n",
    "    ga_run_times.append(avg_run_time)"
   ]
  },
  {
   "cell_type": "code",
   "execution_count": 257,
   "id": "da46f8f7-4cf5-43de-9bfe-e3f86fa61a27",
   "metadata": {},
   "outputs": [
    {
     "data": {
      "text/plain": [
       "([18.0, 27.0, 37.0, 46.0, 78.2, 117.8, 67.4, 36.4],\n",
       " [0.14723745840019548,\n",
       "  0.20273492200649343,\n",
       "  0.27641695021302437,\n",
       "  0.3970273667946458,\n",
       "  0.5981105012004264,\n",
       "  0.7525956661964301,\n",
       "  0.8874332637991756,\n",
       "  0.6934253746003378])"
      ]
     },
     "execution_count": 257,
     "metadata": {},
     "output_type": "execute_result"
    }
   ],
   "source": [
    "ga_best_fitnesses, ga_run_times"
   ]
  },
  {
   "cell_type": "code",
   "execution_count": 276,
   "id": "c83e634f-5b34-4333-a603-f9eaaf657c2f",
   "metadata": {},
   "outputs": [],
   "source": [
    "Ns = [10, 15, 20, 25, 50, 100, 150, 200]\n",
    "mimic_run_times = []\n",
    "mimic_best_fitnesses = []\n",
    "for n in Ns:\n",
    "    best_fitnesses=[]\n",
    "    for i in range(5):\n",
    "        eval_func = FourPeaks()\n",
    "        prob = mlr.DiscreteOpt(int(n), eval_func)\n",
    "        start_time = time.perf_counter()\n",
    "        best_state, best_fitness, curve = mlr.mimic(\n",
    "            prob,\n",
    "            pop_size=200,\n",
    "            keep_pct=0.1,\n",
    "            max_iters=1000, \n",
    "            curve=True,\n",
    "        )\n",
    "        run_time = time.perf_counter() - start_time\n",
    "        times.append(run_time)\n",
    "        best_fitnesses.append(best_fitness)\n",
    "        \n",
    "    avg = np.mean(best_fitnesses)\n",
    "    mimic_best_fitnesses.append(avg)\n",
    "    \n",
    "    avg_run_time = np.mean(times)\n",
    "    mimic_run_times.append(avg_run_time)"
   ]
  },
  {
   "cell_type": "code",
   "execution_count": 277,
   "id": "5904c105-44e2-4724-ae7f-90ebc98a2d8e",
   "metadata": {},
   "outputs": [
    {
     "data": {
      "text/plain": [
       "[18.0, 26.2, 35.8, 41.0, 57.2, 77.4, 23.6, 20.0]"
      ]
     },
     "execution_count": 277,
     "metadata": {},
     "output_type": "execute_result"
    }
   ],
   "source": [
    "mimic_best_fitnesses"
   ]
  },
  {
   "cell_type": "code",
   "execution_count": 292,
   "id": "cbf6afa8-01b6-4d26-a283-9b69c4997a75",
   "metadata": {},
   "outputs": [
    {
     "data": {
      "text/plain": [
       "Text(0.5, 1.0, 'Fitness over N')"
      ]
     },
     "execution_count": 292,
     "metadata": {},
     "output_type": "execute_result"
    },
    {
     "data": {
      "image/png": "[encoded data removed]",
      "text/plain": [
       "<Figure size 432x288 with 1 Axes>"
      ]
     },
     "metadata": {
      "needs_background": "light"
     },
     "output_type": "display_data"
    }
   ],
   "source": [
    "plt.plot(Ns, rhc_best_fitnesses, label=\"RHC\")\n",
    "plt.plot(Ns, sa_best_fitnesses, label=\"SA\")\n",
    "plt.plot(Ns, ga_best_fitnesses, label=\"GA\")\n",
    "plt.plot(Ns, mimic_best_fitnesses, label=\"MIMIC\")\n",
    "plt.legend([\"RHC\", \"SA\", \"GA\", \"MIMIC\"])\n",
    "plt.legend(loc=\"best\")\n",
    "plt.xlabel(\"N\")\n",
    "plt.ylabel(\"Fitness\")\n",
    "plt.title(\"Fitness over N\")"
   ]
  },
  {
   "cell_type": "code",
   "execution_count": 293,
   "id": "bcdccca8-34d4-4cd4-9c2f-7e92d7c27b97",
   "metadata": {},
   "outputs": [
    {
     "data": {
      "text/plain": [
       "Text(0.5, 1.0, 'Run Time over N')"
      ]
     },
     "execution_count": 293,
     "metadata": {},
     "output_type": "execute_result"
    },
    {
     "data": {
      "image/png": "[encoded data removed]",
      "text/plain": [
       "<Figure size 432x288 with 1 Axes>"
      ]
     },
     "metadata": {
      "needs_background": "light"
     },
     "output_type": "display_data"
    }
   ],
   "source": [
    "plt.plot(Ns, rhc_run_times, label=\"RHC\")\n",
    "plt.plot(Ns, sa_run_times, label=\"SA\")\n",
    "plt.plot(Ns, ga_run_times, label=\"GA\")\n",
    "plt.plot(Ns, mimic_run_times, label=\"MIMIC\")\n",
    "plt.ylabel(\"Sec\")\n",
    "plt.xlabel(\"N\")\n",
    "plt.legend([\"RHC\", \"SA\", \"GA\", \"MIMIC\"])\n",
    "plt.title(\"Run Time over N\")"
   ]
  },
  {
   "cell_type": "code",
   "execution_count": 20,
   "id": "991e0e59-9215-4207-8b4e-195e594b334e",
   "metadata": {},
   "outputs": [
    {
     "data": {
      "text/plain": [
       "array([   1,    2,    4,    8,   16,   32,   64,  128,  256,  512, 1024])"
      ]
     },
     "execution_count": 20,
     "metadata": {},
     "output_type": "execute_result"
    }
   ],
   "source": [
    "2 ** np.arange(11)"
   ]
  },
  {
   "cell_type": "code",
   "execution_count": 11,
   "id": "39444eb1-b223-497c-9cd9-d0059e738e38",
   "metadata": {},
   "outputs": [
    {
     "data": {
      "text/plain": [
       "(      Iteration  Fitness  FEvals         Time  \\\n",
       " 0             0      3.0       0     0.000278   \n",
       " 1             1      3.0       1     0.007241   \n",
       " 2             2      3.0       2     0.012021   \n",
       " 3             4      3.0       4     0.016797   \n",
       " 4             8      3.0       8     0.021632   \n",
       " ...         ...      ...     ...          ...   \n",
       " 2228         32      1.0   51789  2455.613771   \n",
       " 2229         64      1.0   51821  2458.378386   \n",
       " 2230        128      1.0   51885  2463.066853   \n",
       " 2231        256      4.0   52015  2471.570788   \n",
       " 2232        512      6.0   52273  2487.343911   \n",
       " \n",
       "                                                   State  Restarts  max_iters  \\\n",
       " 0     [1, 0, 0, 1, 0, 1, 1, 0, 0, 0, 0, 0, 1, 1, 0, ...        25        512   \n",
       " 1     [1, 0, 0, 1, 0, 1, 1, 0, 0, 0, 0, 0, 1, 1, 0, ...        25        512   \n",
       " 2     [1, 0, 0, 1, 0, 1, 1, 0, 0, 0, 0, 0, 1, 1, 0, ...        25        512   \n",
       " 3     [1, 0, 0, 1, 0, 1, 1, 0, 0, 0, 0, 0, 1, 1, 0, ...        25        512   \n",
       " 4     [1, 0, 0, 1, 0, 1, 1, 0, 0, 0, 0, 0, 1, 1, 0, ...        25        512   \n",
       " ...                                                 ...       ...        ...   \n",
       " 2228  [1, 0, 1, 0, 0, 0, 0, 1, 0, 1, 1, 0, 1, 0, 0, ...       100        512   \n",
       " 2229  [1, 0, 1, 0, 0, 0, 0, 1, 0, 1, 1, 0, 1, 0, 0, ...       100        512   \n",
       " 2230  [1, 0, 1, 0, 0, 0, 0, 1, 0, 1, 1, 0, 1, 0, 0, ...       100        512   \n",
       " 2231  [1, 1, 1, 1, 0, 0, 0, 1, 0, 1, 1, 0, 1, 0, 0, ...       100        512   \n",
       " 2232  [1, 1, 1, 1, 1, 1, 0, 1, 0, 1, 1, 0, 1, 0, 0, ...       100        512   \n",
       " \n",
       "       current_restart  \n",
       " 0                   0  \n",
       " 1                   0  \n",
       " 2                   0  \n",
       " 3                   0  \n",
       " 4                   0  \n",
       " ...               ...  \n",
       " 2228              100  \n",
       " 2229              100  \n",
       " 2230              100  \n",
       " 2231              100  \n",
       " 2232              100  \n",
       " \n",
       " [2233 rows x 8 columns],\n",
       "         Iteration      Time  Fitness   FEvals  Restarts  max_iters  \\\n",
       " 0               0  0.000278      3.0      0.0        25        512   \n",
       " 1               1  0.007241      3.0      1.0        25        512   \n",
       " 2               2  0.012021      3.0      2.0        25        512   \n",
       " 3               3  0.016740      3.0      3.0        25        512   \n",
       " 4               4  0.016797      3.0      4.0        25        512   \n",
       " ...           ...       ...      ...      ...       ...        ...   \n",
       " 103934        508  0.194659      6.0  52269.0       100        512   \n",
       " 103935        509  0.195138      6.0  52270.0       100        512   \n",
       " 103936        510  0.195540      6.0  52271.0       100        512   \n",
       " 103937        511  0.195940      6.0  52272.0       100        512   \n",
       " 103938        512  0.196340      6.0  52273.0       100        512   \n",
       " \n",
       "         current_restart  \n",
       " 0                     0  \n",
       " 1                     0  \n",
       " 2                     0  \n",
       " 3                     0  \n",
       " 4                     0  \n",
       " ...                 ...  \n",
       " 103934              100  \n",
       " 103935              100  \n",
       " 103936              100  \n",
       " 103937              100  \n",
       " 103938              100  \n",
       " \n",
       " [103939 rows x 7 columns])"
      ]
     },
     "execution_count": 11,
     "metadata": {},
     "output_type": "execute_result"
    }
   ],
   "source": [
    "eval_func = FourPeaks(t_pct=.1)\n",
    "problem = mlr.DiscreteOpt(100, eval_func)\n",
    "rhc = RHCRunner(problem=problem,\n",
    "                experiment_name=\"rhc\",\n",
    "                output_directory=\"four_peaks/rhc_runner\",\n",
    "                seed=12340,\n",
    "                iteration_list=2 ** np.arange(10),\n",
    "                max_attempts=500,\n",
    "                restart_list=[25, 75, 100])\n",
    "rhc.run()"
   ]
  },
  {
   "cell_type": "code",
   "execution_count": 13,
   "id": "64a3082c-5e91-4ef0-aed3-3f0da5f9dfe7",
   "metadata": {},
   "outputs": [],
   "source": [
    "rhc_runner_res = pd.read_csv(\"four_peaks/rhc_runner/rhc/rhc__rhc__curves_df.csv\")"
   ]
  },
  {
   "cell_type": "code",
   "execution_count": 15,
   "id": "8fcaeb52-19cc-4f2d-b8fd-7bc58d98168f",
   "metadata": {},
   "outputs": [
    {
     "data": {
      "text/html": [
       "<div>\n",
       "<style scoped>\n",
       "    .dataframe tbody tr th:only-of-type {\n",
       "        vertical-align: middle;\n",
       "    }\n",
       "\n",
       "    .dataframe tbody tr th {\n",
       "        vertical-align: top;\n",
       "    }\n",
       "\n",
       "    .dataframe thead th {\n",
       "        text-align: right;\n",
       "    }\n",
       "</style>\n",
       "<table border=\"1\" class=\"dataframe\">\n",
       "  <thead>\n",
       "    <tr style=\"text-align: right;\">\n",
       "      <th></th>\n",
       "      <th>Unnamed: 0</th>\n",
       "      <th>Iteration</th>\n",
       "      <th>Time</th>\n",
       "      <th>Fitness</th>\n",
       "      <th>FEvals</th>\n",
       "      <th>Restarts</th>\n",
       "      <th>max_iters</th>\n",
       "      <th>current_restart</th>\n",
       "    </tr>\n",
       "  </thead>\n",
       "  <tbody>\n",
       "    <tr>\n",
       "      <th>88063</th>\n",
       "      <td>88063</td>\n",
       "      <td>509</td>\n",
       "      <td>0.195138</td>\n",
       "      <td>28.0</td>\n",
       "      <td>36242.0</td>\n",
       "      <td>100</td>\n",
       "      <td>512</td>\n",
       "      <td>69</td>\n",
       "    </tr>\n",
       "    <tr>\n",
       "      <th>49123</th>\n",
       "      <td>49123</td>\n",
       "      <td>482</td>\n",
       "      <td>0.182419</td>\n",
       "      <td>28.0</td>\n",
       "      <td>36215.0</td>\n",
       "      <td>75</td>\n",
       "      <td>512</td>\n",
       "      <td>69</td>\n",
       "    </tr>\n",
       "    <tr>\n",
       "      <th>88065</th>\n",
       "      <td>88065</td>\n",
       "      <td>511</td>\n",
       "      <td>0.195940</td>\n",
       "      <td>28.0</td>\n",
       "      <td>36244.0</td>\n",
       "      <td>100</td>\n",
       "      <td>512</td>\n",
       "      <td>69</td>\n",
       "    </tr>\n",
       "    <tr>\n",
       "      <th>88066</th>\n",
       "      <td>88066</td>\n",
       "      <td>512</td>\n",
       "      <td>0.196340</td>\n",
       "      <td>28.0</td>\n",
       "      <td>36245.0</td>\n",
       "      <td>100</td>\n",
       "      <td>512</td>\n",
       "      <td>69</td>\n",
       "    </tr>\n",
       "    <tr>\n",
       "      <th>88061</th>\n",
       "      <td>88061</td>\n",
       "      <td>507</td>\n",
       "      <td>0.194210</td>\n",
       "      <td>28.0</td>\n",
       "      <td>36240.0</td>\n",
       "      <td>100</td>\n",
       "      <td>512</td>\n",
       "      <td>69</td>\n",
       "    </tr>\n",
       "    <tr>\n",
       "      <th>...</th>\n",
       "      <td>...</td>\n",
       "      <td>...</td>\n",
       "      <td>...</td>\n",
       "      <td>...</td>\n",
       "      <td>...</td>\n",
       "      <td>...</td>\n",
       "      <td>...</td>\n",
       "      <td>...</td>\n",
       "    </tr>\n",
       "    <tr>\n",
       "      <th>71734</th>\n",
       "      <td>71734</td>\n",
       "      <td>52</td>\n",
       "      <td>0.038671</td>\n",
       "      <td>0.0</td>\n",
       "      <td>19718.0</td>\n",
       "      <td>100</td>\n",
       "      <td>512</td>\n",
       "      <td>38</td>\n",
       "    </tr>\n",
       "    <tr>\n",
       "      <th>71733</th>\n",
       "      <td>71733</td>\n",
       "      <td>51</td>\n",
       "      <td>0.038583</td>\n",
       "      <td>0.0</td>\n",
       "      <td>19717.0</td>\n",
       "      <td>100</td>\n",
       "      <td>512</td>\n",
       "      <td>38</td>\n",
       "    </tr>\n",
       "    <tr>\n",
       "      <th>71732</th>\n",
       "      <td>71732</td>\n",
       "      <td>50</td>\n",
       "      <td>0.038493</td>\n",
       "      <td>0.0</td>\n",
       "      <td>19716.0</td>\n",
       "      <td>100</td>\n",
       "      <td>512</td>\n",
       "      <td>38</td>\n",
       "    </tr>\n",
       "    <tr>\n",
       "      <th>71731</th>\n",
       "      <td>71731</td>\n",
       "      <td>49</td>\n",
       "      <td>0.038409</td>\n",
       "      <td>0.0</td>\n",
       "      <td>19715.0</td>\n",
       "      <td>100</td>\n",
       "      <td>512</td>\n",
       "      <td>38</td>\n",
       "    </tr>\n",
       "    <tr>\n",
       "      <th>91153</th>\n",
       "      <td>91153</td>\n",
       "      <td>15</td>\n",
       "      <td>0.026756</td>\n",
       "      <td>0.0</td>\n",
       "      <td>39353.0</td>\n",
       "      <td>100</td>\n",
       "      <td>512</td>\n",
       "      <td>76</td>\n",
       "    </tr>\n",
       "  </tbody>\n",
       "</table>\n",
       "<p>103939 rows × 8 columns</p>\n",
       "</div>"
      ],
      "text/plain": [
       "       Unnamed: 0  Iteration      Time  Fitness   FEvals  Restarts  max_iters  \\\n",
       "88063       88063        509  0.195138     28.0  36242.0       100        512   \n",
       "49123       49123        482  0.182419     28.0  36215.0        75        512   \n",
       "88065       88065        511  0.195940     28.0  36244.0       100        512   \n",
       "88066       88066        512  0.196340     28.0  36245.0       100        512   \n",
       "88061       88061        507  0.194210     28.0  36240.0       100        512   \n",
       "...           ...        ...       ...      ...      ...       ...        ...   \n",
       "71734       71734         52  0.038671      0.0  19718.0       100        512   \n",
       "71733       71733         51  0.038583      0.0  19717.0       100        512   \n",
       "71732       71732         50  0.038493      0.0  19716.0       100        512   \n",
       "71731       71731         49  0.038409      0.0  19715.0       100        512   \n",
       "91153       91153         15  0.026756      0.0  39353.0       100        512   \n",
       "\n",
       "       current_restart  \n",
       "88063               69  \n",
       "49123               69  \n",
       "88065               69  \n",
       "88066               69  \n",
       "88061               69  \n",
       "...                ...  \n",
       "71734               38  \n",
       "71733               38  \n",
       "71732               38  \n",
       "71731               38  \n",
       "91153               76  \n",
       "\n",
       "[103939 rows x 8 columns]"
      ]
     },
     "execution_count": 15,
     "metadata": {},
     "output_type": "execute_result"
    }
   ],
   "source": [
    "rhc_runner_res.sort_values(by=\"Fitness\", ascending=False)"
   ]
  },
  {
   "cell_type": "code",
   "execution_count": 17,
   "id": "969236ec-41fb-41ad-9915-962975af5758",
   "metadata": {},
   "outputs": [],
   "source": [
    "rhc_runner_run_stats = pd.read_csv(\"four_peaks/rhc_runner/rhc/rhc__rhc__run_stats_df.csv\")"
   ]
  },
  {
   "cell_type": "code",
   "execution_count": 21,
   "id": "8c12526f-f951-4760-8cca-984214c5cb95",
   "metadata": {},
   "outputs": [
    {
     "ename": "KeyboardInterrupt",
     "evalue": "",
     "output_type": "error",
     "traceback": [
      "\u001b[0;31m---------------------------------------------------------------------------\u001b[0m",
      "\u001b[0;31mKeyboardInterrupt\u001b[0m                         Traceback (most recent call last)",
      "\u001b[0;32m<ipython-input-21-6e1fc3fdc562>\u001b[0m in \u001b[0;36m<module>\u001b[0;34m\u001b[0m\n\u001b[1;32m     10\u001b[0m             \u001b[0mmax_attempts\u001b[0m\u001b[0;34m=\u001b[0m\u001b[0;36m150\u001b[0m\u001b[0;34m,\u001b[0m\u001b[0;34m\u001b[0m\u001b[0;34m\u001b[0m\u001b[0m\n\u001b[1;32m     11\u001b[0m             restart_list=[100])\n\u001b[0;32m---> 12\u001b[0;31m     \u001b[0mrhc\u001b[0m\u001b[0;34m.\u001b[0m\u001b[0mrun\u001b[0m\u001b[0;34m(\u001b[0m\u001b[0;34m)\u001b[0m\u001b[0;34m\u001b[0m\u001b[0;34m\u001b[0m\u001b[0m\n\u001b[0m",
      "\u001b[0;32m~/opt/anaconda3/envs/school/lib/python3.7/site-packages/mlrose_hiive/runners/rhc_runner.py\u001b[0m in \u001b[0;36mrun\u001b[0;34m(self)\u001b[0m\n\u001b[1;32m     35\u001b[0m     \u001b[0;32mdef\u001b[0m \u001b[0mrun\u001b[0m\u001b[0;34m(\u001b[0m\u001b[0mself\u001b[0m\u001b[0;34m)\u001b[0m\u001b[0;34m:\u001b[0m\u001b[0;34m\u001b[0m\u001b[0;34m\u001b[0m\u001b[0m\n\u001b[1;32m     36\u001b[0m         return super().run_experiment_(algorithm=mlrose_hiive.random_hill_climb,\n\u001b[0;32m---> 37\u001b[0;31m                                        restarts=('Restarts', self.restart_list))\n\u001b[0m",
      "\u001b[0;32m~/opt/anaconda3/envs/school/lib/python3.7/site-packages/mlrose_hiive/runners/_runner_base.py\u001b[0m in \u001b[0;36mrun_experiment_\u001b[0;34m(self, algorithm, **kwargs)\u001b[0m\n\u001b[1;32m    162\u001b[0m \u001b[0;34m\u001b[0m\u001b[0m\n\u001b[1;32m    163\u001b[0m         \u001b[0mself\u001b[0m\u001b[0;34m.\u001b[0m\u001b[0m_create_and_save_run_data_frames\u001b[0m\u001b[0;34m(\u001b[0m\u001b[0mfinal_save\u001b[0m\u001b[0;34m=\u001b[0m\u001b[0;32mTrue\u001b[0m\u001b[0;34m)\u001b[0m\u001b[0;34m\u001b[0m\u001b[0;34m\u001b[0m\u001b[0m\n\u001b[0;32m--> 164\u001b[0;31m         \u001b[0mself\u001b[0m\u001b[0;34m.\u001b[0m\u001b[0m_tear_down\u001b[0m\u001b[0;34m(\u001b[0m\u001b[0;34m)\u001b[0m\u001b[0;34m\u001b[0m\u001b[0;34m\u001b[0m\u001b[0m\n\u001b[0m\u001b[1;32m    165\u001b[0m \u001b[0;34m\u001b[0m\u001b[0m\n\u001b[1;32m    166\u001b[0m         \u001b[0;32mreturn\u001b[0m \u001b[0mself\u001b[0m\u001b[0;34m.\u001b[0m\u001b[0mrun_stats_df\u001b[0m\u001b[0;34m,\u001b[0m \u001b[0mself\u001b[0m\u001b[0;34m.\u001b[0m\u001b[0mcurves_df\u001b[0m\u001b[0;34m\u001b[0m\u001b[0;34m\u001b[0m\u001b[0m\n",
      "\u001b[0;32m~/opt/anaconda3/envs/school/lib/python3.7/site-packages/mlrose_hiive/runners/_runner_base.py\u001b[0m in \u001b[0;36m_tear_down\u001b[0;34m(self)\u001b[0m\n\u001b[1;32m    137\u001b[0m             \u001b[0;32mif\u001b[0m \u001b[0mself\u001b[0m\u001b[0;34m.\u001b[0m\u001b[0mhas_aborted\u001b[0m\u001b[0;34m(\u001b[0m\u001b[0;34m)\u001b[0m \u001b[0;32mand\u001b[0m \u001b[0mself\u001b[0m\u001b[0;34m.\u001b[0m\u001b[0m_get_spawn_count\u001b[0m\u001b[0;34m(\u001b[0m\u001b[0;34m)\u001b[0m \u001b[0;34m==\u001b[0m \u001b[0;36m0\u001b[0m\u001b[0;34m:\u001b[0m\u001b[0;34m\u001b[0m\u001b[0;34m\u001b[0m\u001b[0m\n\u001b[1;32m    138\u001b[0m                 \u001b[0msig\u001b[0m\u001b[0;34m,\u001b[0m \u001b[0mframe\u001b[0m \u001b[0;34m=\u001b[0m \u001b[0mself\u001b[0m\u001b[0;34m.\u001b[0m\u001b[0m__sigint_params\u001b[0m\u001b[0;34m\u001b[0m\u001b[0;34m\u001b[0m\u001b[0m\n\u001b[0;32m--> 139\u001b[0;31m                 \u001b[0mself\u001b[0m\u001b[0;34m.\u001b[0m\u001b[0m__original_sigint_handler\u001b[0m\u001b[0;34m(\u001b[0m\u001b[0msig\u001b[0m\u001b[0;34m,\u001b[0m \u001b[0mframe\u001b[0m\u001b[0;34m)\u001b[0m\u001b[0;34m\u001b[0m\u001b[0;34m\u001b[0m\u001b[0m\n\u001b[0m\u001b[1;32m    140\u001b[0m \u001b[0;34m\u001b[0m\u001b[0m\n\u001b[1;32m    141\u001b[0m     \u001b[0;32mdef\u001b[0m \u001b[0m_log_current_argument\u001b[0m\u001b[0;34m(\u001b[0m\u001b[0mself\u001b[0m\u001b[0;34m,\u001b[0m \u001b[0marg_name\u001b[0m\u001b[0;34m,\u001b[0m \u001b[0marg_value\u001b[0m\u001b[0;34m)\u001b[0m\u001b[0;34m:\u001b[0m\u001b[0;34m\u001b[0m\u001b[0;34m\u001b[0m\u001b[0m\n",
      "\u001b[0;31mKeyboardInterrupt\u001b[0m: "
     ]
    }
   ],
   "source": [
    "Ns = [10, 15, 20, 25, 50, 100, 150, 200]\n",
    "eval_func = FourPeaks(t_pct=.1)\n",
    "for n in Ns:\n",
    "    problem = mlr.DiscreteOpt(n, eval_func)\n",
    "    rhc = RHCRunner(problem=problem,\n",
    "            experiment_name=f\"rhc_N{n}\",\n",
    "            output_directory=\"four_peaks/rhc_runner\",\n",
    "            seed=12345,\n",
    "            iteration_list=2 ** np.arange(11),\n",
    "            max_attempts=150,\n",
    "            restart_list=[100])\n",
    "    rhc.run()\n"
   ]
  },
  {
   "cell_type": "code",
   "execution_count": null,
   "id": "e2678099-a391-457d-a9b2-50a37fd94179",
   "metadata": {},
   "outputs": [],
   "source": []
  }
 ],
 "metadata": {
  "kernelspec": {
   "display_name": "Python 3",
   "language": "python",
   "name": "python3"
  },
  "language_info": {
   "codemirror_mode": {
    "name": "ipython",
    "version": 3
   },
   "file_extension": ".py",
   "mimetype": "text/x-python",
   "name": "python",
   "nbconvert_exporter": "python",
   "pygments_lexer": "ipython3",
   "version": "3.7.11"
  }
 },
 "nbformat": 4,
 "nbformat_minor": 5
}
